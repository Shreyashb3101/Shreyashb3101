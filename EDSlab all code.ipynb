{
  "nbformat": 4,
  "nbformat_minor": 0,
  "metadata": {
    "colab": {
      "provenance": []
    },
    "kernelspec": {
      "name": "python3",
      "display_name": "Python 3"
    },
    "language_info": {
      "name": "python"
    }
  },
  "cells": [
    {
      "cell_type": "markdown",
      "source": [
        "# 10/April/2023"
      ],
      "metadata": {
        "id": "DieIvWNiOrb6"
      }
    },
    {
      "cell_type": "code",
      "source": [
        "from google.colab import drive\n",
        "drive.mount('/content/drive')"
      ],
      "metadata": {
        "colab": {
          "base_uri": "https://localhost:8080/"
        },
        "id": "Zpg9lFjlDWVn",
        "outputId": "fc96df44-beaf-45bb-e62e-512f911514a8"
      },
      "execution_count": null,
      "outputs": [
        {
          "output_type": "stream",
          "name": "stdout",
          "text": [
            "Drive already mounted at /content/drive; to attempt to forcibly remount, call drive.mount(\"/content/drive\", force_remount=True).\n"
          ]
        }
      ]
    },
    {
      "cell_type": "code",
      "source": [
        "import pandas as pd\n",
        "df = pd.read_excel('/content/drive/MyDrive/ADITYA (116) Salary emp 2.0.xlsx')\n",
        "#df.set_index(\"data\",inplace=True)\n",
        "display(df)\n",
        "df1 = pd.read_excel(r'/content/drive/MyDrive/ADITYA EDS Excel Employee (116) 2.0.xlsx')\n",
        "print(df1)"
      ],
      "metadata": {
        "colab": {
          "base_uri": "https://localhost:8080/",
          "height": 554
        },
        "id": "LXPtYoGlkOAW",
        "outputId": "861a2e61-9ca5-496b-f164-edaeb161985b"
      },
      "execution_count": null,
      "outputs": [
        {
          "output_type": "display_data",
          "data": {
            "text/plain": [
              "   Sr no.   Emp Name  Emp id  Salary\n",
              "0       1    Ganesh     1001   25000\n",
              "1       2     Kartik    1002   40000\n",
              "2       3      Veera    1003   80000\n",
              "3       4  Sanskruti    1004   60000\n",
              "4       5    Archana    1005   50000\n",
              "5       6   Aradhana    1006   30000\n",
              "6       7    Pratham    1007   15000\n",
              "7       8     Sayali    1008   55000\n",
              "8       9     Smruti    1009   80000\n",
              "9      10      Vijay    1010  100000"
            ],
            "text/html": [
              "\n",
              "  <div id=\"df-86d9958e-346a-4f8b-8bc1-bdb7707517eb\">\n",
              "    <div class=\"colab-df-container\">\n",
              "      <div>\n",
              "<style scoped>\n",
              "    .dataframe tbody tr th:only-of-type {\n",
              "        vertical-align: middle;\n",
              "    }\n",
              "\n",
              "    .dataframe tbody tr th {\n",
              "        vertical-align: top;\n",
              "    }\n",
              "\n",
              "    .dataframe thead th {\n",
              "        text-align: right;\n",
              "    }\n",
              "</style>\n",
              "<table border=\"1\" class=\"dataframe\">\n",
              "  <thead>\n",
              "    <tr style=\"text-align: right;\">\n",
              "      <th></th>\n",
              "      <th>Sr no.</th>\n",
              "      <th>Emp Name</th>\n",
              "      <th>Emp id</th>\n",
              "      <th>Salary</th>\n",
              "    </tr>\n",
              "  </thead>\n",
              "  <tbody>\n",
              "    <tr>\n",
              "      <th>0</th>\n",
              "      <td>1</td>\n",
              "      <td>Ganesh</td>\n",
              "      <td>1001</td>\n",
              "      <td>25000</td>\n",
              "    </tr>\n",
              "    <tr>\n",
              "      <th>1</th>\n",
              "      <td>2</td>\n",
              "      <td>Kartik</td>\n",
              "      <td>1002</td>\n",
              "      <td>40000</td>\n",
              "    </tr>\n",
              "    <tr>\n",
              "      <th>2</th>\n",
              "      <td>3</td>\n",
              "      <td>Veera</td>\n",
              "      <td>1003</td>\n",
              "      <td>80000</td>\n",
              "    </tr>\n",
              "    <tr>\n",
              "      <th>3</th>\n",
              "      <td>4</td>\n",
              "      <td>Sanskruti</td>\n",
              "      <td>1004</td>\n",
              "      <td>60000</td>\n",
              "    </tr>\n",
              "    <tr>\n",
              "      <th>4</th>\n",
              "      <td>5</td>\n",
              "      <td>Archana</td>\n",
              "      <td>1005</td>\n",
              "      <td>50000</td>\n",
              "    </tr>\n",
              "    <tr>\n",
              "      <th>5</th>\n",
              "      <td>6</td>\n",
              "      <td>Aradhana</td>\n",
              "      <td>1006</td>\n",
              "      <td>30000</td>\n",
              "    </tr>\n",
              "    <tr>\n",
              "      <th>6</th>\n",
              "      <td>7</td>\n",
              "      <td>Pratham</td>\n",
              "      <td>1007</td>\n",
              "      <td>15000</td>\n",
              "    </tr>\n",
              "    <tr>\n",
              "      <th>7</th>\n",
              "      <td>8</td>\n",
              "      <td>Sayali</td>\n",
              "      <td>1008</td>\n",
              "      <td>55000</td>\n",
              "    </tr>\n",
              "    <tr>\n",
              "      <th>8</th>\n",
              "      <td>9</td>\n",
              "      <td>Smruti</td>\n",
              "      <td>1009</td>\n",
              "      <td>80000</td>\n",
              "    </tr>\n",
              "    <tr>\n",
              "      <th>9</th>\n",
              "      <td>10</td>\n",
              "      <td>Vijay</td>\n",
              "      <td>1010</td>\n",
              "      <td>100000</td>\n",
              "    </tr>\n",
              "  </tbody>\n",
              "</table>\n",
              "</div>\n",
              "      <button class=\"colab-df-convert\" onclick=\"convertToInteractive('df-86d9958e-346a-4f8b-8bc1-bdb7707517eb')\"\n",
              "              title=\"Convert this dataframe to an interactive table.\"\n",
              "              style=\"display:none;\">\n",
              "        \n",
              "  <svg xmlns=\"http://www.w3.org/2000/svg\" height=\"24px\"viewBox=\"0 0 24 24\"\n",
              "       width=\"24px\">\n",
              "    <path d=\"M0 0h24v24H0V0z\" fill=\"none\"/>\n",
              "    <path d=\"M18.56 5.44l.94 2.06.94-2.06 2.06-.94-2.06-.94-.94-2.06-.94 2.06-2.06.94zm-11 1L8.5 8.5l.94-2.06 2.06-.94-2.06-.94L8.5 2.5l-.94 2.06-2.06.94zm10 10l.94 2.06.94-2.06 2.06-.94-2.06-.94-.94-2.06-.94 2.06-2.06.94z\"/><path d=\"M17.41 7.96l-1.37-1.37c-.4-.4-.92-.59-1.43-.59-.52 0-1.04.2-1.43.59L10.3 9.45l-7.72 7.72c-.78.78-.78 2.05 0 2.83L4 21.41c.39.39.9.59 1.41.59.51 0 1.02-.2 1.41-.59l7.78-7.78 2.81-2.81c.8-.78.8-2.07 0-2.86zM5.41 20L4 18.59l7.72-7.72 1.47 1.35L5.41 20z\"/>\n",
              "  </svg>\n",
              "      </button>\n",
              "      \n",
              "  <style>\n",
              "    .colab-df-container {\n",
              "      display:flex;\n",
              "      flex-wrap:wrap;\n",
              "      gap: 12px;\n",
              "    }\n",
              "\n",
              "    .colab-df-convert {\n",
              "      background-color: #E8F0FE;\n",
              "      border: none;\n",
              "      border-radius: 50%;\n",
              "      cursor: pointer;\n",
              "      display: none;\n",
              "      fill: #1967D2;\n",
              "      height: 32px;\n",
              "      padding: 0 0 0 0;\n",
              "      width: 32px;\n",
              "    }\n",
              "\n",
              "    .colab-df-convert:hover {\n",
              "      background-color: #E2EBFA;\n",
              "      box-shadow: 0px 1px 2px rgba(60, 64, 67, 0.3), 0px 1px 3px 1px rgba(60, 64, 67, 0.15);\n",
              "      fill: #174EA6;\n",
              "    }\n",
              "\n",
              "    [theme=dark] .colab-df-convert {\n",
              "      background-color: #3B4455;\n",
              "      fill: #D2E3FC;\n",
              "    }\n",
              "\n",
              "    [theme=dark] .colab-df-convert:hover {\n",
              "      background-color: #434B5C;\n",
              "      box-shadow: 0px 1px 3px 1px rgba(0, 0, 0, 0.15);\n",
              "      filter: drop-shadow(0px 1px 2px rgba(0, 0, 0, 0.3));\n",
              "      fill: #FFFFFF;\n",
              "    }\n",
              "  </style>\n",
              "\n",
              "      <script>\n",
              "        const buttonEl =\n",
              "          document.querySelector('#df-86d9958e-346a-4f8b-8bc1-bdb7707517eb button.colab-df-convert');\n",
              "        buttonEl.style.display =\n",
              "          google.colab.kernel.accessAllowed ? 'block' : 'none';\n",
              "\n",
              "        async function convertToInteractive(key) {\n",
              "          const element = document.querySelector('#df-86d9958e-346a-4f8b-8bc1-bdb7707517eb');\n",
              "          const dataTable =\n",
              "            await google.colab.kernel.invokeFunction('convertToInteractive',\n",
              "                                                     [key], {});\n",
              "          if (!dataTable) return;\n",
              "\n",
              "          const docLinkHtml = 'Like what you see? Visit the ' +\n",
              "            '<a target=\"_blank\" href=https://colab.research.google.com/notebooks/data_table.ipynb>data table notebook</a>'\n",
              "            + ' to learn more about interactive tables.';\n",
              "          element.innerHTML = '';\n",
              "          dataTable['output_type'] = 'display_data';\n",
              "          await google.colab.output.renderOutput(dataTable, element);\n",
              "          const docLink = document.createElement('div');\n",
              "          docLink.innerHTML = docLinkHtml;\n",
              "          element.appendChild(docLink);\n",
              "        }\n",
              "      </script>\n",
              "    </div>\n",
              "  </div>\n",
              "  "
            ]
          },
          "metadata": {}
        },
        {
          "output_type": "stream",
          "name": "stdout",
          "text": [
            "   Sr no.   Emp Name  Emp id       Date  Leaves\n",
            "0       1    Ganesh     1001 2023-01-21       2\n",
            "1       2     Kartik    1002 2023-01-22       4\n",
            "2       3      Veera    1003 2023-01-23       8\n",
            "3       4  Sanskruti    1004 2023-01-24       6\n",
            "4       5    Archana    1005 2023-01-25       1\n",
            "5       6   Aradhana    1006 2023-01-26       2\n",
            "6       7    Pratham    1007 2023-01-27       3\n",
            "7       8     Sayali    1008 2023-01-28       5\n",
            "8       9     Smruti    1009 2023-01-29       9\n",
            "9      10      Vijay    1010 2023-01-30       7\n"
          ]
        }
      ]
    },
    {
      "cell_type": "code",
      "source": [
        "#display dataset\n",
        "display(df,df1)"
      ],
      "metadata": {
        "colab": {
          "base_uri": "https://localhost:8080/",
          "height": 708
        },
        "id": "GDLmvej4untK",
        "outputId": "d6d76f48-3f18-48e9-c763-e159cca773ea"
      },
      "execution_count": null,
      "outputs": [
        {
          "output_type": "display_data",
          "data": {
            "text/plain": [
              "   Sr no.   Emp Name  Emp id  Salary\n",
              "0       1    Ganesh     1001   25000\n",
              "1       2     Kartik    1002   40000\n",
              "2       3      Veera    1003   80000\n",
              "3       4  Sanskruti    1004   60000\n",
              "4       5    Archana    1005   50000\n",
              "5       6   Aradhana    1006   30000\n",
              "6       7    Pratham    1007   15000\n",
              "7       8     Sayali    1008   55000\n",
              "8       9     Smruti    1009   80000\n",
              "9      10      Vijay    1010  100000"
            ],
            "text/html": [
              "\n",
              "  <div id=\"df-96603762-9a59-4233-91f0-50264cb14033\">\n",
              "    <div class=\"colab-df-container\">\n",
              "      <div>\n",
              "<style scoped>\n",
              "    .dataframe tbody tr th:only-of-type {\n",
              "        vertical-align: middle;\n",
              "    }\n",
              "\n",
              "    .dataframe tbody tr th {\n",
              "        vertical-align: top;\n",
              "    }\n",
              "\n",
              "    .dataframe thead th {\n",
              "        text-align: right;\n",
              "    }\n",
              "</style>\n",
              "<table border=\"1\" class=\"dataframe\">\n",
              "  <thead>\n",
              "    <tr style=\"text-align: right;\">\n",
              "      <th></th>\n",
              "      <th>Sr no.</th>\n",
              "      <th>Emp Name</th>\n",
              "      <th>Emp id</th>\n",
              "      <th>Salary</th>\n",
              "    </tr>\n",
              "  </thead>\n",
              "  <tbody>\n",
              "    <tr>\n",
              "      <th>0</th>\n",
              "      <td>1</td>\n",
              "      <td>Ganesh</td>\n",
              "      <td>1001</td>\n",
              "      <td>25000</td>\n",
              "    </tr>\n",
              "    <tr>\n",
              "      <th>1</th>\n",
              "      <td>2</td>\n",
              "      <td>Kartik</td>\n",
              "      <td>1002</td>\n",
              "      <td>40000</td>\n",
              "    </tr>\n",
              "    <tr>\n",
              "      <th>2</th>\n",
              "      <td>3</td>\n",
              "      <td>Veera</td>\n",
              "      <td>1003</td>\n",
              "      <td>80000</td>\n",
              "    </tr>\n",
              "    <tr>\n",
              "      <th>3</th>\n",
              "      <td>4</td>\n",
              "      <td>Sanskruti</td>\n",
              "      <td>1004</td>\n",
              "      <td>60000</td>\n",
              "    </tr>\n",
              "    <tr>\n",
              "      <th>4</th>\n",
              "      <td>5</td>\n",
              "      <td>Archana</td>\n",
              "      <td>1005</td>\n",
              "      <td>50000</td>\n",
              "    </tr>\n",
              "    <tr>\n",
              "      <th>5</th>\n",
              "      <td>6</td>\n",
              "      <td>Aradhana</td>\n",
              "      <td>1006</td>\n",
              "      <td>30000</td>\n",
              "    </tr>\n",
              "    <tr>\n",
              "      <th>6</th>\n",
              "      <td>7</td>\n",
              "      <td>Pratham</td>\n",
              "      <td>1007</td>\n",
              "      <td>15000</td>\n",
              "    </tr>\n",
              "    <tr>\n",
              "      <th>7</th>\n",
              "      <td>8</td>\n",
              "      <td>Sayali</td>\n",
              "      <td>1008</td>\n",
              "      <td>55000</td>\n",
              "    </tr>\n",
              "    <tr>\n",
              "      <th>8</th>\n",
              "      <td>9</td>\n",
              "      <td>Smruti</td>\n",
              "      <td>1009</td>\n",
              "      <td>80000</td>\n",
              "    </tr>\n",
              "    <tr>\n",
              "      <th>9</th>\n",
              "      <td>10</td>\n",
              "      <td>Vijay</td>\n",
              "      <td>1010</td>\n",
              "      <td>100000</td>\n",
              "    </tr>\n",
              "  </tbody>\n",
              "</table>\n",
              "</div>\n",
              "      <button class=\"colab-df-convert\" onclick=\"convertToInteractive('df-96603762-9a59-4233-91f0-50264cb14033')\"\n",
              "              title=\"Convert this dataframe to an interactive table.\"\n",
              "              style=\"display:none;\">\n",
              "        \n",
              "  <svg xmlns=\"http://www.w3.org/2000/svg\" height=\"24px\"viewBox=\"0 0 24 24\"\n",
              "       width=\"24px\">\n",
              "    <path d=\"M0 0h24v24H0V0z\" fill=\"none\"/>\n",
              "    <path d=\"M18.56 5.44l.94 2.06.94-2.06 2.06-.94-2.06-.94-.94-2.06-.94 2.06-2.06.94zm-11 1L8.5 8.5l.94-2.06 2.06-.94-2.06-.94L8.5 2.5l-.94 2.06-2.06.94zm10 10l.94 2.06.94-2.06 2.06-.94-2.06-.94-.94-2.06-.94 2.06-2.06.94z\"/><path d=\"M17.41 7.96l-1.37-1.37c-.4-.4-.92-.59-1.43-.59-.52 0-1.04.2-1.43.59L10.3 9.45l-7.72 7.72c-.78.78-.78 2.05 0 2.83L4 21.41c.39.39.9.59 1.41.59.51 0 1.02-.2 1.41-.59l7.78-7.78 2.81-2.81c.8-.78.8-2.07 0-2.86zM5.41 20L4 18.59l7.72-7.72 1.47 1.35L5.41 20z\"/>\n",
              "  </svg>\n",
              "      </button>\n",
              "      \n",
              "  <style>\n",
              "    .colab-df-container {\n",
              "      display:flex;\n",
              "      flex-wrap:wrap;\n",
              "      gap: 12px;\n",
              "    }\n",
              "\n",
              "    .colab-df-convert {\n",
              "      background-color: #E8F0FE;\n",
              "      border: none;\n",
              "      border-radius: 50%;\n",
              "      cursor: pointer;\n",
              "      display: none;\n",
              "      fill: #1967D2;\n",
              "      height: 32px;\n",
              "      padding: 0 0 0 0;\n",
              "      width: 32px;\n",
              "    }\n",
              "\n",
              "    .colab-df-convert:hover {\n",
              "      background-color: #E2EBFA;\n",
              "      box-shadow: 0px 1px 2px rgba(60, 64, 67, 0.3), 0px 1px 3px 1px rgba(60, 64, 67, 0.15);\n",
              "      fill: #174EA6;\n",
              "    }\n",
              "\n",
              "    [theme=dark] .colab-df-convert {\n",
              "      background-color: #3B4455;\n",
              "      fill: #D2E3FC;\n",
              "    }\n",
              "\n",
              "    [theme=dark] .colab-df-convert:hover {\n",
              "      background-color: #434B5C;\n",
              "      box-shadow: 0px 1px 3px 1px rgba(0, 0, 0, 0.15);\n",
              "      filter: drop-shadow(0px 1px 2px rgba(0, 0, 0, 0.3));\n",
              "      fill: #FFFFFF;\n",
              "    }\n",
              "  </style>\n",
              "\n",
              "      <script>\n",
              "        const buttonEl =\n",
              "          document.querySelector('#df-96603762-9a59-4233-91f0-50264cb14033 button.colab-df-convert');\n",
              "        buttonEl.style.display =\n",
              "          google.colab.kernel.accessAllowed ? 'block' : 'none';\n",
              "\n",
              "        async function convertToInteractive(key) {\n",
              "          const element = document.querySelector('#df-96603762-9a59-4233-91f0-50264cb14033');\n",
              "          const dataTable =\n",
              "            await google.colab.kernel.invokeFunction('convertToInteractive',\n",
              "                                                     [key], {});\n",
              "          if (!dataTable) return;\n",
              "\n",
              "          const docLinkHtml = 'Like what you see? Visit the ' +\n",
              "            '<a target=\"_blank\" href=https://colab.research.google.com/notebooks/data_table.ipynb>data table notebook</a>'\n",
              "            + ' to learn more about interactive tables.';\n",
              "          element.innerHTML = '';\n",
              "          dataTable['output_type'] = 'display_data';\n",
              "          await google.colab.output.renderOutput(dataTable, element);\n",
              "          const docLink = document.createElement('div');\n",
              "          docLink.innerHTML = docLinkHtml;\n",
              "          element.appendChild(docLink);\n",
              "        }\n",
              "      </script>\n",
              "    </div>\n",
              "  </div>\n",
              "  "
            ]
          },
          "metadata": {}
        },
        {
          "output_type": "display_data",
          "data": {
            "text/plain": [
              "   Sr no.   Emp Name  Emp id       Date  Leaves\n",
              "0       1    Ganesh     1001 2023-01-21       2\n",
              "1       2     Kartik    1002 2023-01-22       4\n",
              "2       3      Veera    1003 2023-01-23       8\n",
              "3       4  Sanskruti    1004 2023-01-24       6\n",
              "4       5    Archana    1005 2023-01-25       1\n",
              "5       6   Aradhana    1006 2023-01-26       2\n",
              "6       7    Pratham    1007 2023-01-27       3\n",
              "7       8     Sayali    1008 2023-01-28       5\n",
              "8       9     Smruti    1009 2023-01-29       9\n",
              "9      10      Vijay    1010 2023-01-30       7"
            ],
            "text/html": [
              "\n",
              "  <div id=\"df-ec0965d9-45f5-4457-847d-4a155619efb6\">\n",
              "    <div class=\"colab-df-container\">\n",
              "      <div>\n",
              "<style scoped>\n",
              "    .dataframe tbody tr th:only-of-type {\n",
              "        vertical-align: middle;\n",
              "    }\n",
              "\n",
              "    .dataframe tbody tr th {\n",
              "        vertical-align: top;\n",
              "    }\n",
              "\n",
              "    .dataframe thead th {\n",
              "        text-align: right;\n",
              "    }\n",
              "</style>\n",
              "<table border=\"1\" class=\"dataframe\">\n",
              "  <thead>\n",
              "    <tr style=\"text-align: right;\">\n",
              "      <th></th>\n",
              "      <th>Sr no.</th>\n",
              "      <th>Emp Name</th>\n",
              "      <th>Emp id</th>\n",
              "      <th>Date</th>\n",
              "      <th>Leaves</th>\n",
              "    </tr>\n",
              "  </thead>\n",
              "  <tbody>\n",
              "    <tr>\n",
              "      <th>0</th>\n",
              "      <td>1</td>\n",
              "      <td>Ganesh</td>\n",
              "      <td>1001</td>\n",
              "      <td>2023-01-21</td>\n",
              "      <td>2</td>\n",
              "    </tr>\n",
              "    <tr>\n",
              "      <th>1</th>\n",
              "      <td>2</td>\n",
              "      <td>Kartik</td>\n",
              "      <td>1002</td>\n",
              "      <td>2023-01-22</td>\n",
              "      <td>4</td>\n",
              "    </tr>\n",
              "    <tr>\n",
              "      <th>2</th>\n",
              "      <td>3</td>\n",
              "      <td>Veera</td>\n",
              "      <td>1003</td>\n",
              "      <td>2023-01-23</td>\n",
              "      <td>8</td>\n",
              "    </tr>\n",
              "    <tr>\n",
              "      <th>3</th>\n",
              "      <td>4</td>\n",
              "      <td>Sanskruti</td>\n",
              "      <td>1004</td>\n",
              "      <td>2023-01-24</td>\n",
              "      <td>6</td>\n",
              "    </tr>\n",
              "    <tr>\n",
              "      <th>4</th>\n",
              "      <td>5</td>\n",
              "      <td>Archana</td>\n",
              "      <td>1005</td>\n",
              "      <td>2023-01-25</td>\n",
              "      <td>1</td>\n",
              "    </tr>\n",
              "    <tr>\n",
              "      <th>5</th>\n",
              "      <td>6</td>\n",
              "      <td>Aradhana</td>\n",
              "      <td>1006</td>\n",
              "      <td>2023-01-26</td>\n",
              "      <td>2</td>\n",
              "    </tr>\n",
              "    <tr>\n",
              "      <th>6</th>\n",
              "      <td>7</td>\n",
              "      <td>Pratham</td>\n",
              "      <td>1007</td>\n",
              "      <td>2023-01-27</td>\n",
              "      <td>3</td>\n",
              "    </tr>\n",
              "    <tr>\n",
              "      <th>7</th>\n",
              "      <td>8</td>\n",
              "      <td>Sayali</td>\n",
              "      <td>1008</td>\n",
              "      <td>2023-01-28</td>\n",
              "      <td>5</td>\n",
              "    </tr>\n",
              "    <tr>\n",
              "      <th>8</th>\n",
              "      <td>9</td>\n",
              "      <td>Smruti</td>\n",
              "      <td>1009</td>\n",
              "      <td>2023-01-29</td>\n",
              "      <td>9</td>\n",
              "    </tr>\n",
              "    <tr>\n",
              "      <th>9</th>\n",
              "      <td>10</td>\n",
              "      <td>Vijay</td>\n",
              "      <td>1010</td>\n",
              "      <td>2023-01-30</td>\n",
              "      <td>7</td>\n",
              "    </tr>\n",
              "  </tbody>\n",
              "</table>\n",
              "</div>\n",
              "      <button class=\"colab-df-convert\" onclick=\"convertToInteractive('df-ec0965d9-45f5-4457-847d-4a155619efb6')\"\n",
              "              title=\"Convert this dataframe to an interactive table.\"\n",
              "              style=\"display:none;\">\n",
              "        \n",
              "  <svg xmlns=\"http://www.w3.org/2000/svg\" height=\"24px\"viewBox=\"0 0 24 24\"\n",
              "       width=\"24px\">\n",
              "    <path d=\"M0 0h24v24H0V0z\" fill=\"none\"/>\n",
              "    <path d=\"M18.56 5.44l.94 2.06.94-2.06 2.06-.94-2.06-.94-.94-2.06-.94 2.06-2.06.94zm-11 1L8.5 8.5l.94-2.06 2.06-.94-2.06-.94L8.5 2.5l-.94 2.06-2.06.94zm10 10l.94 2.06.94-2.06 2.06-.94-2.06-.94-.94-2.06-.94 2.06-2.06.94z\"/><path d=\"M17.41 7.96l-1.37-1.37c-.4-.4-.92-.59-1.43-.59-.52 0-1.04.2-1.43.59L10.3 9.45l-7.72 7.72c-.78.78-.78 2.05 0 2.83L4 21.41c.39.39.9.59 1.41.59.51 0 1.02-.2 1.41-.59l7.78-7.78 2.81-2.81c.8-.78.8-2.07 0-2.86zM5.41 20L4 18.59l7.72-7.72 1.47 1.35L5.41 20z\"/>\n",
              "  </svg>\n",
              "      </button>\n",
              "      \n",
              "  <style>\n",
              "    .colab-df-container {\n",
              "      display:flex;\n",
              "      flex-wrap:wrap;\n",
              "      gap: 12px;\n",
              "    }\n",
              "\n",
              "    .colab-df-convert {\n",
              "      background-color: #E8F0FE;\n",
              "      border: none;\n",
              "      border-radius: 50%;\n",
              "      cursor: pointer;\n",
              "      display: none;\n",
              "      fill: #1967D2;\n",
              "      height: 32px;\n",
              "      padding: 0 0 0 0;\n",
              "      width: 32px;\n",
              "    }\n",
              "\n",
              "    .colab-df-convert:hover {\n",
              "      background-color: #E2EBFA;\n",
              "      box-shadow: 0px 1px 2px rgba(60, 64, 67, 0.3), 0px 1px 3px 1px rgba(60, 64, 67, 0.15);\n",
              "      fill: #174EA6;\n",
              "    }\n",
              "\n",
              "    [theme=dark] .colab-df-convert {\n",
              "      background-color: #3B4455;\n",
              "      fill: #D2E3FC;\n",
              "    }\n",
              "\n",
              "    [theme=dark] .colab-df-convert:hover {\n",
              "      background-color: #434B5C;\n",
              "      box-shadow: 0px 1px 3px 1px rgba(0, 0, 0, 0.15);\n",
              "      filter: drop-shadow(0px 1px 2px rgba(0, 0, 0, 0.3));\n",
              "      fill: #FFFFFF;\n",
              "    }\n",
              "  </style>\n",
              "\n",
              "      <script>\n",
              "        const buttonEl =\n",
              "          document.querySelector('#df-ec0965d9-45f5-4457-847d-4a155619efb6 button.colab-df-convert');\n",
              "        buttonEl.style.display =\n",
              "          google.colab.kernel.accessAllowed ? 'block' : 'none';\n",
              "\n",
              "        async function convertToInteractive(key) {\n",
              "          const element = document.querySelector('#df-ec0965d9-45f5-4457-847d-4a155619efb6');\n",
              "          const dataTable =\n",
              "            await google.colab.kernel.invokeFunction('convertToInteractive',\n",
              "                                                     [key], {});\n",
              "          if (!dataTable) return;\n",
              "\n",
              "          const docLinkHtml = 'Like what you see? Visit the ' +\n",
              "            '<a target=\"_blank\" href=https://colab.research.google.com/notebooks/data_table.ipynb>data table notebook</a>'\n",
              "            + ' to learn more about interactive tables.';\n",
              "          element.innerHTML = '';\n",
              "          dataTable['output_type'] = 'display_data';\n",
              "          await google.colab.output.renderOutput(dataTable, element);\n",
              "          const docLink = document.createElement('div');\n",
              "          docLink.innerHTML = docLinkHtml;\n",
              "          element.appendChild(docLink);\n",
              "        }\n",
              "      </script>\n",
              "    </div>\n",
              "  </div>\n",
              "  "
            ]
          },
          "metadata": {}
        }
      ]
    },
    {
      "cell_type": "code",
      "source": [
        "#Sort record in desending order\n",
        "import pandas as pd\n",
        "df.sort_values(by=['Salary'], ascending=False)"
      ],
      "metadata": {
        "colab": {
          "base_uri": "https://localhost:8080/",
          "height": 363
        },
        "id": "HKzydM6vu6qX",
        "outputId": "abfedd43-acaf-4946-9171-b843a61f9d91"
      },
      "execution_count": null,
      "outputs": [
        {
          "output_type": "execute_result",
          "data": {
            "text/plain": [
              "   Sr no.   Emp Name  Emp id  Salary\n",
              "9      10      Vijay    1010  100000\n",
              "2       3      Veera    1003   80000\n",
              "8       9     Smruti    1009   80000\n",
              "3       4  Sanskruti    1004   60000\n",
              "7       8     Sayali    1008   55000\n",
              "4       5    Archana    1005   50000\n",
              "1       2     Kartik    1002   40000\n",
              "5       6   Aradhana    1006   30000\n",
              "0       1    Ganesh     1001   25000\n",
              "6       7    Pratham    1007   15000"
            ],
            "text/html": [
              "\n",
              "  <div id=\"df-377bb5ce-b42b-472c-b87e-7bbe0d4dd220\">\n",
              "    <div class=\"colab-df-container\">\n",
              "      <div>\n",
              "<style scoped>\n",
              "    .dataframe tbody tr th:only-of-type {\n",
              "        vertical-align: middle;\n",
              "    }\n",
              "\n",
              "    .dataframe tbody tr th {\n",
              "        vertical-align: top;\n",
              "    }\n",
              "\n",
              "    .dataframe thead th {\n",
              "        text-align: right;\n",
              "    }\n",
              "</style>\n",
              "<table border=\"1\" class=\"dataframe\">\n",
              "  <thead>\n",
              "    <tr style=\"text-align: right;\">\n",
              "      <th></th>\n",
              "      <th>Sr no.</th>\n",
              "      <th>Emp Name</th>\n",
              "      <th>Emp id</th>\n",
              "      <th>Salary</th>\n",
              "    </tr>\n",
              "  </thead>\n",
              "  <tbody>\n",
              "    <tr>\n",
              "      <th>9</th>\n",
              "      <td>10</td>\n",
              "      <td>Vijay</td>\n",
              "      <td>1010</td>\n",
              "      <td>100000</td>\n",
              "    </tr>\n",
              "    <tr>\n",
              "      <th>2</th>\n",
              "      <td>3</td>\n",
              "      <td>Veera</td>\n",
              "      <td>1003</td>\n",
              "      <td>80000</td>\n",
              "    </tr>\n",
              "    <tr>\n",
              "      <th>8</th>\n",
              "      <td>9</td>\n",
              "      <td>Smruti</td>\n",
              "      <td>1009</td>\n",
              "      <td>80000</td>\n",
              "    </tr>\n",
              "    <tr>\n",
              "      <th>3</th>\n",
              "      <td>4</td>\n",
              "      <td>Sanskruti</td>\n",
              "      <td>1004</td>\n",
              "      <td>60000</td>\n",
              "    </tr>\n",
              "    <tr>\n",
              "      <th>7</th>\n",
              "      <td>8</td>\n",
              "      <td>Sayali</td>\n",
              "      <td>1008</td>\n",
              "      <td>55000</td>\n",
              "    </tr>\n",
              "    <tr>\n",
              "      <th>4</th>\n",
              "      <td>5</td>\n",
              "      <td>Archana</td>\n",
              "      <td>1005</td>\n",
              "      <td>50000</td>\n",
              "    </tr>\n",
              "    <tr>\n",
              "      <th>1</th>\n",
              "      <td>2</td>\n",
              "      <td>Kartik</td>\n",
              "      <td>1002</td>\n",
              "      <td>40000</td>\n",
              "    </tr>\n",
              "    <tr>\n",
              "      <th>5</th>\n",
              "      <td>6</td>\n",
              "      <td>Aradhana</td>\n",
              "      <td>1006</td>\n",
              "      <td>30000</td>\n",
              "    </tr>\n",
              "    <tr>\n",
              "      <th>0</th>\n",
              "      <td>1</td>\n",
              "      <td>Ganesh</td>\n",
              "      <td>1001</td>\n",
              "      <td>25000</td>\n",
              "    </tr>\n",
              "    <tr>\n",
              "      <th>6</th>\n",
              "      <td>7</td>\n",
              "      <td>Pratham</td>\n",
              "      <td>1007</td>\n",
              "      <td>15000</td>\n",
              "    </tr>\n",
              "  </tbody>\n",
              "</table>\n",
              "</div>\n",
              "      <button class=\"colab-df-convert\" onclick=\"convertToInteractive('df-377bb5ce-b42b-472c-b87e-7bbe0d4dd220')\"\n",
              "              title=\"Convert this dataframe to an interactive table.\"\n",
              "              style=\"display:none;\">\n",
              "        \n",
              "  <svg xmlns=\"http://www.w3.org/2000/svg\" height=\"24px\"viewBox=\"0 0 24 24\"\n",
              "       width=\"24px\">\n",
              "    <path d=\"M0 0h24v24H0V0z\" fill=\"none\"/>\n",
              "    <path d=\"M18.56 5.44l.94 2.06.94-2.06 2.06-.94-2.06-.94-.94-2.06-.94 2.06-2.06.94zm-11 1L8.5 8.5l.94-2.06 2.06-.94-2.06-.94L8.5 2.5l-.94 2.06-2.06.94zm10 10l.94 2.06.94-2.06 2.06-.94-2.06-.94-.94-2.06-.94 2.06-2.06.94z\"/><path d=\"M17.41 7.96l-1.37-1.37c-.4-.4-.92-.59-1.43-.59-.52 0-1.04.2-1.43.59L10.3 9.45l-7.72 7.72c-.78.78-.78 2.05 0 2.83L4 21.41c.39.39.9.59 1.41.59.51 0 1.02-.2 1.41-.59l7.78-7.78 2.81-2.81c.8-.78.8-2.07 0-2.86zM5.41 20L4 18.59l7.72-7.72 1.47 1.35L5.41 20z\"/>\n",
              "  </svg>\n",
              "      </button>\n",
              "      \n",
              "  <style>\n",
              "    .colab-df-container {\n",
              "      display:flex;\n",
              "      flex-wrap:wrap;\n",
              "      gap: 12px;\n",
              "    }\n",
              "\n",
              "    .colab-df-convert {\n",
              "      background-color: #E8F0FE;\n",
              "      border: none;\n",
              "      border-radius: 50%;\n",
              "      cursor: pointer;\n",
              "      display: none;\n",
              "      fill: #1967D2;\n",
              "      height: 32px;\n",
              "      padding: 0 0 0 0;\n",
              "      width: 32px;\n",
              "    }\n",
              "\n",
              "    .colab-df-convert:hover {\n",
              "      background-color: #E2EBFA;\n",
              "      box-shadow: 0px 1px 2px rgba(60, 64, 67, 0.3), 0px 1px 3px 1px rgba(60, 64, 67, 0.15);\n",
              "      fill: #174EA6;\n",
              "    }\n",
              "\n",
              "    [theme=dark] .colab-df-convert {\n",
              "      background-color: #3B4455;\n",
              "      fill: #D2E3FC;\n",
              "    }\n",
              "\n",
              "    [theme=dark] .colab-df-convert:hover {\n",
              "      background-color: #434B5C;\n",
              "      box-shadow: 0px 1px 3px 1px rgba(0, 0, 0, 0.15);\n",
              "      filter: drop-shadow(0px 1px 2px rgba(0, 0, 0, 0.3));\n",
              "      fill: #FFFFFF;\n",
              "    }\n",
              "  </style>\n",
              "\n",
              "      <script>\n",
              "        const buttonEl =\n",
              "          document.querySelector('#df-377bb5ce-b42b-472c-b87e-7bbe0d4dd220 button.colab-df-convert');\n",
              "        buttonEl.style.display =\n",
              "          google.colab.kernel.accessAllowed ? 'block' : 'none';\n",
              "\n",
              "        async function convertToInteractive(key) {\n",
              "          const element = document.querySelector('#df-377bb5ce-b42b-472c-b87e-7bbe0d4dd220');\n",
              "          const dataTable =\n",
              "            await google.colab.kernel.invokeFunction('convertToInteractive',\n",
              "                                                     [key], {});\n",
              "          if (!dataTable) return;\n",
              "\n",
              "          const docLinkHtml = 'Like what you see? Visit the ' +\n",
              "            '<a target=\"_blank\" href=https://colab.research.google.com/notebooks/data_table.ipynb>data table notebook</a>'\n",
              "            + ' to learn more about interactive tables.';\n",
              "          element.innerHTML = '';\n",
              "          dataTable['output_type'] = 'display_data';\n",
              "          await google.colab.output.renderOutput(dataTable, element);\n",
              "          const docLink = document.createElement('div');\n",
              "          docLink.innerHTML = docLinkHtml;\n",
              "          element.appendChild(docLink);\n",
              "        }\n",
              "      </script>\n",
              "    </div>\n",
              "  </div>\n",
              "  "
            ]
          },
          "metadata": {},
          "execution_count": 3
        }
      ]
    },
    {
      "cell_type": "code",
      "source": [
        "#Sort record in ascending order\n",
        "import pandas as pd\n",
        "df.sort_values(by=['Salary'])"
      ],
      "metadata": {
        "colab": {
          "base_uri": "https://localhost:8080/",
          "height": 363
        },
        "id": "ec2kd1NrwBu-",
        "outputId": "cc9d7ad2-263a-4668-9936-cc7154701c88"
      },
      "execution_count": null,
      "outputs": [
        {
          "output_type": "execute_result",
          "data": {
            "text/plain": [
              "   Sr no.   Emp Name  Emp id  Salary\n",
              "6       7    Pratham    1007   15000\n",
              "0       1    Ganesh     1001   25000\n",
              "5       6   Aradhana    1006   30000\n",
              "1       2     Kartik    1002   40000\n",
              "4       5    Archana    1005   50000\n",
              "7       8     Sayali    1008   55000\n",
              "3       4  Sanskruti    1004   60000\n",
              "2       3      Veera    1003   80000\n",
              "8       9     Smruti    1009   80000\n",
              "9      10      Vijay    1010  100000"
            ],
            "text/html": [
              "\n",
              "  <div id=\"df-d65d4e1c-61a5-4fca-8408-9b5a36ba009a\">\n",
              "    <div class=\"colab-df-container\">\n",
              "      <div>\n",
              "<style scoped>\n",
              "    .dataframe tbody tr th:only-of-type {\n",
              "        vertical-align: middle;\n",
              "    }\n",
              "\n",
              "    .dataframe tbody tr th {\n",
              "        vertical-align: top;\n",
              "    }\n",
              "\n",
              "    .dataframe thead th {\n",
              "        text-align: right;\n",
              "    }\n",
              "</style>\n",
              "<table border=\"1\" class=\"dataframe\">\n",
              "  <thead>\n",
              "    <tr style=\"text-align: right;\">\n",
              "      <th></th>\n",
              "      <th>Sr no.</th>\n",
              "      <th>Emp Name</th>\n",
              "      <th>Emp id</th>\n",
              "      <th>Salary</th>\n",
              "    </tr>\n",
              "  </thead>\n",
              "  <tbody>\n",
              "    <tr>\n",
              "      <th>6</th>\n",
              "      <td>7</td>\n",
              "      <td>Pratham</td>\n",
              "      <td>1007</td>\n",
              "      <td>15000</td>\n",
              "    </tr>\n",
              "    <tr>\n",
              "      <th>0</th>\n",
              "      <td>1</td>\n",
              "      <td>Ganesh</td>\n",
              "      <td>1001</td>\n",
              "      <td>25000</td>\n",
              "    </tr>\n",
              "    <tr>\n",
              "      <th>5</th>\n",
              "      <td>6</td>\n",
              "      <td>Aradhana</td>\n",
              "      <td>1006</td>\n",
              "      <td>30000</td>\n",
              "    </tr>\n",
              "    <tr>\n",
              "      <th>1</th>\n",
              "      <td>2</td>\n",
              "      <td>Kartik</td>\n",
              "      <td>1002</td>\n",
              "      <td>40000</td>\n",
              "    </tr>\n",
              "    <tr>\n",
              "      <th>4</th>\n",
              "      <td>5</td>\n",
              "      <td>Archana</td>\n",
              "      <td>1005</td>\n",
              "      <td>50000</td>\n",
              "    </tr>\n",
              "    <tr>\n",
              "      <th>7</th>\n",
              "      <td>8</td>\n",
              "      <td>Sayali</td>\n",
              "      <td>1008</td>\n",
              "      <td>55000</td>\n",
              "    </tr>\n",
              "    <tr>\n",
              "      <th>3</th>\n",
              "      <td>4</td>\n",
              "      <td>Sanskruti</td>\n",
              "      <td>1004</td>\n",
              "      <td>60000</td>\n",
              "    </tr>\n",
              "    <tr>\n",
              "      <th>2</th>\n",
              "      <td>3</td>\n",
              "      <td>Veera</td>\n",
              "      <td>1003</td>\n",
              "      <td>80000</td>\n",
              "    </tr>\n",
              "    <tr>\n",
              "      <th>8</th>\n",
              "      <td>9</td>\n",
              "      <td>Smruti</td>\n",
              "      <td>1009</td>\n",
              "      <td>80000</td>\n",
              "    </tr>\n",
              "    <tr>\n",
              "      <th>9</th>\n",
              "      <td>10</td>\n",
              "      <td>Vijay</td>\n",
              "      <td>1010</td>\n",
              "      <td>100000</td>\n",
              "    </tr>\n",
              "  </tbody>\n",
              "</table>\n",
              "</div>\n",
              "      <button class=\"colab-df-convert\" onclick=\"convertToInteractive('df-d65d4e1c-61a5-4fca-8408-9b5a36ba009a')\"\n",
              "              title=\"Convert this dataframe to an interactive table.\"\n",
              "              style=\"display:none;\">\n",
              "        \n",
              "  <svg xmlns=\"http://www.w3.org/2000/svg\" height=\"24px\"viewBox=\"0 0 24 24\"\n",
              "       width=\"24px\">\n",
              "    <path d=\"M0 0h24v24H0V0z\" fill=\"none\"/>\n",
              "    <path d=\"M18.56 5.44l.94 2.06.94-2.06 2.06-.94-2.06-.94-.94-2.06-.94 2.06-2.06.94zm-11 1L8.5 8.5l.94-2.06 2.06-.94-2.06-.94L8.5 2.5l-.94 2.06-2.06.94zm10 10l.94 2.06.94-2.06 2.06-.94-2.06-.94-.94-2.06-.94 2.06-2.06.94z\"/><path d=\"M17.41 7.96l-1.37-1.37c-.4-.4-.92-.59-1.43-.59-.52 0-1.04.2-1.43.59L10.3 9.45l-7.72 7.72c-.78.78-.78 2.05 0 2.83L4 21.41c.39.39.9.59 1.41.59.51 0 1.02-.2 1.41-.59l7.78-7.78 2.81-2.81c.8-.78.8-2.07 0-2.86zM5.41 20L4 18.59l7.72-7.72 1.47 1.35L5.41 20z\"/>\n",
              "  </svg>\n",
              "      </button>\n",
              "      \n",
              "  <style>\n",
              "    .colab-df-container {\n",
              "      display:flex;\n",
              "      flex-wrap:wrap;\n",
              "      gap: 12px;\n",
              "    }\n",
              "\n",
              "    .colab-df-convert {\n",
              "      background-color: #E8F0FE;\n",
              "      border: none;\n",
              "      border-radius: 50%;\n",
              "      cursor: pointer;\n",
              "      display: none;\n",
              "      fill: #1967D2;\n",
              "      height: 32px;\n",
              "      padding: 0 0 0 0;\n",
              "      width: 32px;\n",
              "    }\n",
              "\n",
              "    .colab-df-convert:hover {\n",
              "      background-color: #E2EBFA;\n",
              "      box-shadow: 0px 1px 2px rgba(60, 64, 67, 0.3), 0px 1px 3px 1px rgba(60, 64, 67, 0.15);\n",
              "      fill: #174EA6;\n",
              "    }\n",
              "\n",
              "    [theme=dark] .colab-df-convert {\n",
              "      background-color: #3B4455;\n",
              "      fill: #D2E3FC;\n",
              "    }\n",
              "\n",
              "    [theme=dark] .colab-df-convert:hover {\n",
              "      background-color: #434B5C;\n",
              "      box-shadow: 0px 1px 3px 1px rgba(0, 0, 0, 0.15);\n",
              "      filter: drop-shadow(0px 1px 2px rgba(0, 0, 0, 0.3));\n",
              "      fill: #FFFFFF;\n",
              "    }\n",
              "  </style>\n",
              "\n",
              "      <script>\n",
              "        const buttonEl =\n",
              "          document.querySelector('#df-d65d4e1c-61a5-4fca-8408-9b5a36ba009a button.colab-df-convert');\n",
              "        buttonEl.style.display =\n",
              "          google.colab.kernel.accessAllowed ? 'block' : 'none';\n",
              "\n",
              "        async function convertToInteractive(key) {\n",
              "          const element = document.querySelector('#df-d65d4e1c-61a5-4fca-8408-9b5a36ba009a');\n",
              "          const dataTable =\n",
              "            await google.colab.kernel.invokeFunction('convertToInteractive',\n",
              "                                                     [key], {});\n",
              "          if (!dataTable) return;\n",
              "\n",
              "          const docLinkHtml = 'Like what you see? Visit the ' +\n",
              "            '<a target=\"_blank\" href=https://colab.research.google.com/notebooks/data_table.ipynb>data table notebook</a>'\n",
              "            + ' to learn more about interactive tables.';\n",
              "          element.innerHTML = '';\n",
              "          dataTable['output_type'] = 'display_data';\n",
              "          await google.colab.output.renderOutput(dataTable, element);\n",
              "          const docLink = document.createElement('div');\n",
              "          docLink.innerHTML = docLinkHtml;\n",
              "          element.appendChild(docLink);\n",
              "        }\n",
              "      </script>\n",
              "    </div>\n",
              "  </div>\n",
              "  "
            ]
          },
          "metadata": {},
          "execution_count": 4
        }
      ]
    },
    {
      "cell_type": "code",
      "source": [
        "#merge data sets\n",
        "import pandas as pd\n",
        "a = pd.merge(df,df1)\n",
        "display(a)"
      ],
      "metadata": {
        "colab": {
          "base_uri": "https://localhost:8080/",
          "height": 363
        },
        "id": "F_MYb7ZVwIX1",
        "outputId": "318d01b6-6dca-4e66-eb21-f944d1c23fc3"
      },
      "execution_count": null,
      "outputs": [
        {
          "output_type": "display_data",
          "data": {
            "text/plain": [
              "   Sr no.   Emp Name  Emp id  Salary       Date  Leaves\n",
              "0       1    Ganesh     1001   25000 2023-01-21       2\n",
              "1       2     Kartik    1002   40000 2023-01-22       4\n",
              "2       3      Veera    1003   80000 2023-01-23       8\n",
              "3       4  Sanskruti    1004   60000 2023-01-24       6\n",
              "4       5    Archana    1005   50000 2023-01-25       1\n",
              "5       6   Aradhana    1006   30000 2023-01-26       2\n",
              "6       7    Pratham    1007   15000 2023-01-27       3\n",
              "7       8     Sayali    1008   55000 2023-01-28       5\n",
              "8       9     Smruti    1009   80000 2023-01-29       9\n",
              "9      10      Vijay    1010  100000 2023-01-30       7"
            ],
            "text/html": [
              "\n",
              "  <div id=\"df-5b478971-434c-41e2-83b6-821bd5696900\">\n",
              "    <div class=\"colab-df-container\">\n",
              "      <div>\n",
              "<style scoped>\n",
              "    .dataframe tbody tr th:only-of-type {\n",
              "        vertical-align: middle;\n",
              "    }\n",
              "\n",
              "    .dataframe tbody tr th {\n",
              "        vertical-align: top;\n",
              "    }\n",
              "\n",
              "    .dataframe thead th {\n",
              "        text-align: right;\n",
              "    }\n",
              "</style>\n",
              "<table border=\"1\" class=\"dataframe\">\n",
              "  <thead>\n",
              "    <tr style=\"text-align: right;\">\n",
              "      <th></th>\n",
              "      <th>Sr no.</th>\n",
              "      <th>Emp Name</th>\n",
              "      <th>Emp id</th>\n",
              "      <th>Salary</th>\n",
              "      <th>Date</th>\n",
              "      <th>Leaves</th>\n",
              "    </tr>\n",
              "  </thead>\n",
              "  <tbody>\n",
              "    <tr>\n",
              "      <th>0</th>\n",
              "      <td>1</td>\n",
              "      <td>Ganesh</td>\n",
              "      <td>1001</td>\n",
              "      <td>25000</td>\n",
              "      <td>2023-01-21</td>\n",
              "      <td>2</td>\n",
              "    </tr>\n",
              "    <tr>\n",
              "      <th>1</th>\n",
              "      <td>2</td>\n",
              "      <td>Kartik</td>\n",
              "      <td>1002</td>\n",
              "      <td>40000</td>\n",
              "      <td>2023-01-22</td>\n",
              "      <td>4</td>\n",
              "    </tr>\n",
              "    <tr>\n",
              "      <th>2</th>\n",
              "      <td>3</td>\n",
              "      <td>Veera</td>\n",
              "      <td>1003</td>\n",
              "      <td>80000</td>\n",
              "      <td>2023-01-23</td>\n",
              "      <td>8</td>\n",
              "    </tr>\n",
              "    <tr>\n",
              "      <th>3</th>\n",
              "      <td>4</td>\n",
              "      <td>Sanskruti</td>\n",
              "      <td>1004</td>\n",
              "      <td>60000</td>\n",
              "      <td>2023-01-24</td>\n",
              "      <td>6</td>\n",
              "    </tr>\n",
              "    <tr>\n",
              "      <th>4</th>\n",
              "      <td>5</td>\n",
              "      <td>Archana</td>\n",
              "      <td>1005</td>\n",
              "      <td>50000</td>\n",
              "      <td>2023-01-25</td>\n",
              "      <td>1</td>\n",
              "    </tr>\n",
              "    <tr>\n",
              "      <th>5</th>\n",
              "      <td>6</td>\n",
              "      <td>Aradhana</td>\n",
              "      <td>1006</td>\n",
              "      <td>30000</td>\n",
              "      <td>2023-01-26</td>\n",
              "      <td>2</td>\n",
              "    </tr>\n",
              "    <tr>\n",
              "      <th>6</th>\n",
              "      <td>7</td>\n",
              "      <td>Pratham</td>\n",
              "      <td>1007</td>\n",
              "      <td>15000</td>\n",
              "      <td>2023-01-27</td>\n",
              "      <td>3</td>\n",
              "    </tr>\n",
              "    <tr>\n",
              "      <th>7</th>\n",
              "      <td>8</td>\n",
              "      <td>Sayali</td>\n",
              "      <td>1008</td>\n",
              "      <td>55000</td>\n",
              "      <td>2023-01-28</td>\n",
              "      <td>5</td>\n",
              "    </tr>\n",
              "    <tr>\n",
              "      <th>8</th>\n",
              "      <td>9</td>\n",
              "      <td>Smruti</td>\n",
              "      <td>1009</td>\n",
              "      <td>80000</td>\n",
              "      <td>2023-01-29</td>\n",
              "      <td>9</td>\n",
              "    </tr>\n",
              "    <tr>\n",
              "      <th>9</th>\n",
              "      <td>10</td>\n",
              "      <td>Vijay</td>\n",
              "      <td>1010</td>\n",
              "      <td>100000</td>\n",
              "      <td>2023-01-30</td>\n",
              "      <td>7</td>\n",
              "    </tr>\n",
              "  </tbody>\n",
              "</table>\n",
              "</div>\n",
              "      <button class=\"colab-df-convert\" onclick=\"convertToInteractive('df-5b478971-434c-41e2-83b6-821bd5696900')\"\n",
              "              title=\"Convert this dataframe to an interactive table.\"\n",
              "              style=\"display:none;\">\n",
              "        \n",
              "  <svg xmlns=\"http://www.w3.org/2000/svg\" height=\"24px\"viewBox=\"0 0 24 24\"\n",
              "       width=\"24px\">\n",
              "    <path d=\"M0 0h24v24H0V0z\" fill=\"none\"/>\n",
              "    <path d=\"M18.56 5.44l.94 2.06.94-2.06 2.06-.94-2.06-.94-.94-2.06-.94 2.06-2.06.94zm-11 1L8.5 8.5l.94-2.06 2.06-.94-2.06-.94L8.5 2.5l-.94 2.06-2.06.94zm10 10l.94 2.06.94-2.06 2.06-.94-2.06-.94-.94-2.06-.94 2.06-2.06.94z\"/><path d=\"M17.41 7.96l-1.37-1.37c-.4-.4-.92-.59-1.43-.59-.52 0-1.04.2-1.43.59L10.3 9.45l-7.72 7.72c-.78.78-.78 2.05 0 2.83L4 21.41c.39.39.9.59 1.41.59.51 0 1.02-.2 1.41-.59l7.78-7.78 2.81-2.81c.8-.78.8-2.07 0-2.86zM5.41 20L4 18.59l7.72-7.72 1.47 1.35L5.41 20z\"/>\n",
              "  </svg>\n",
              "      </button>\n",
              "      \n",
              "  <style>\n",
              "    .colab-df-container {\n",
              "      display:flex;\n",
              "      flex-wrap:wrap;\n",
              "      gap: 12px;\n",
              "    }\n",
              "\n",
              "    .colab-df-convert {\n",
              "      background-color: #E8F0FE;\n",
              "      border: none;\n",
              "      border-radius: 50%;\n",
              "      cursor: pointer;\n",
              "      display: none;\n",
              "      fill: #1967D2;\n",
              "      height: 32px;\n",
              "      padding: 0 0 0 0;\n",
              "      width: 32px;\n",
              "    }\n",
              "\n",
              "    .colab-df-convert:hover {\n",
              "      background-color: #E2EBFA;\n",
              "      box-shadow: 0px 1px 2px rgba(60, 64, 67, 0.3), 0px 1px 3px 1px rgba(60, 64, 67, 0.15);\n",
              "      fill: #174EA6;\n",
              "    }\n",
              "\n",
              "    [theme=dark] .colab-df-convert {\n",
              "      background-color: #3B4455;\n",
              "      fill: #D2E3FC;\n",
              "    }\n",
              "\n",
              "    [theme=dark] .colab-df-convert:hover {\n",
              "      background-color: #434B5C;\n",
              "      box-shadow: 0px 1px 3px 1px rgba(0, 0, 0, 0.15);\n",
              "      filter: drop-shadow(0px 1px 2px rgba(0, 0, 0, 0.3));\n",
              "      fill: #FFFFFF;\n",
              "    }\n",
              "  </style>\n",
              "\n",
              "      <script>\n",
              "        const buttonEl =\n",
              "          document.querySelector('#df-5b478971-434c-41e2-83b6-821bd5696900 button.colab-df-convert');\n",
              "        buttonEl.style.display =\n",
              "          google.colab.kernel.accessAllowed ? 'block' : 'none';\n",
              "\n",
              "        async function convertToInteractive(key) {\n",
              "          const element = document.querySelector('#df-5b478971-434c-41e2-83b6-821bd5696900');\n",
              "          const dataTable =\n",
              "            await google.colab.kernel.invokeFunction('convertToInteractive',\n",
              "                                                     [key], {});\n",
              "          if (!dataTable) return;\n",
              "\n",
              "          const docLinkHtml = 'Like what you see? Visit the ' +\n",
              "            '<a target=\"_blank\" href=https://colab.research.google.com/notebooks/data_table.ipynb>data table notebook</a>'\n",
              "            + ' to learn more about interactive tables.';\n",
              "          element.innerHTML = '';\n",
              "          dataTable['output_type'] = 'display_data';\n",
              "          await google.colab.output.renderOutput(dataTable, element);\n",
              "          const docLink = document.createElement('div');\n",
              "          docLink.innerHTML = docLinkHtml;\n",
              "          element.appendChild(docLink);\n",
              "        }\n",
              "      </script>\n",
              "    </div>\n",
              "  </div>\n",
              "  "
            ]
          },
          "metadata": {}
        }
      ]
    },
    {
      "cell_type": "code",
      "source": [
        "#function to find first 5 emp having high salary in decending\n",
        "def sal():\n",
        "   import pandas as pd\n",
        "   a = df.sort_value(by=['Salary'], ascending=False)\n",
        "\n",
        "   g = a.nlargest(5,'Salary','first')\n",
        "   #f = a.nlargest(2,['Salary'])#g or f (both are same)\n",
        "   print(g)\n",
        "   #print(f)\n",
        "sal() #fuction call"
      ],
      "metadata": {
        "id": "88Hs4uMDwsYE",
        "colab": {
          "base_uri": "https://localhost:8080/",
          "height": 345
        },
        "outputId": "91845734-bcd7-4ca3-91de-a036d236dc99"
      },
      "execution_count": null,
      "outputs": [
        {
          "output_type": "error",
          "ename": "AttributeError",
          "evalue": "ignored",
          "traceback": [
            "\u001b[0;31m---------------------------------------------------------------------------\u001b[0m",
            "\u001b[0;31mAttributeError\u001b[0m                            Traceback (most recent call last)",
            "\u001b[0;32m<ipython-input-10-cf48d0f5a4c9>\u001b[0m in \u001b[0;36m<cell line: 10>\u001b[0;34m()\u001b[0m\n\u001b[1;32m      8\u001b[0m    \u001b[0mprint\u001b[0m\u001b[0;34m(\u001b[0m\u001b[0mg\u001b[0m\u001b[0;34m)\u001b[0m\u001b[0;34m\u001b[0m\u001b[0;34m\u001b[0m\u001b[0m\n\u001b[1;32m      9\u001b[0m    \u001b[0;31m#print(f)\u001b[0m\u001b[0;34m\u001b[0m\u001b[0;34m\u001b[0m\u001b[0m\n\u001b[0;32m---> 10\u001b[0;31m \u001b[0msal\u001b[0m\u001b[0;34m(\u001b[0m\u001b[0;34m)\u001b[0m \u001b[0;31m#fuction call\u001b[0m\u001b[0;34m\u001b[0m\u001b[0;34m\u001b[0m\u001b[0m\n\u001b[0m",
            "\u001b[0;32m<ipython-input-10-cf48d0f5a4c9>\u001b[0m in \u001b[0;36msal\u001b[0;34m()\u001b[0m\n\u001b[1;32m      2\u001b[0m \u001b[0;32mdef\u001b[0m \u001b[0msal\u001b[0m\u001b[0;34m(\u001b[0m\u001b[0;34m)\u001b[0m\u001b[0;34m:\u001b[0m\u001b[0;34m\u001b[0m\u001b[0;34m\u001b[0m\u001b[0m\n\u001b[1;32m      3\u001b[0m    \u001b[0;32mimport\u001b[0m \u001b[0mpandas\u001b[0m \u001b[0;32mas\u001b[0m \u001b[0mpd\u001b[0m\u001b[0;34m\u001b[0m\u001b[0;34m\u001b[0m\u001b[0m\n\u001b[0;32m----> 4\u001b[0;31m    \u001b[0ma\u001b[0m \u001b[0;34m=\u001b[0m \u001b[0mdf\u001b[0m\u001b[0;34m.\u001b[0m\u001b[0msort_value\u001b[0m\u001b[0;34m(\u001b[0m\u001b[0mby\u001b[0m\u001b[0;34m=\u001b[0m\u001b[0;34m[\u001b[0m\u001b[0;34m'Salary'\u001b[0m\u001b[0;34m]\u001b[0m\u001b[0;34m,\u001b[0m \u001b[0mascending\u001b[0m\u001b[0;34m=\u001b[0m\u001b[0;32mFalse\u001b[0m\u001b[0;34m)\u001b[0m\u001b[0;34m\u001b[0m\u001b[0;34m\u001b[0m\u001b[0m\n\u001b[0m\u001b[1;32m      5\u001b[0m \u001b[0;34m\u001b[0m\u001b[0m\n\u001b[1;32m      6\u001b[0m    \u001b[0mg\u001b[0m \u001b[0;34m=\u001b[0m \u001b[0ma\u001b[0m\u001b[0;34m.\u001b[0m\u001b[0mnlargest\u001b[0m\u001b[0;34m(\u001b[0m\u001b[0;36m5\u001b[0m\u001b[0;34m,\u001b[0m\u001b[0;34m'Salary'\u001b[0m\u001b[0;34m,\u001b[0m\u001b[0;34m'first'\u001b[0m\u001b[0;34m)\u001b[0m\u001b[0;34m\u001b[0m\u001b[0;34m\u001b[0m\u001b[0m\n",
            "\u001b[0;32m/usr/local/lib/python3.9/dist-packages/pandas/core/generic.py\u001b[0m in \u001b[0;36m__getattr__\u001b[0;34m(self, name)\u001b[0m\n\u001b[1;32m   5900\u001b[0m         ):\n\u001b[1;32m   5901\u001b[0m             \u001b[0;32mreturn\u001b[0m \u001b[0mself\u001b[0m\u001b[0;34m[\u001b[0m\u001b[0mname\u001b[0m\u001b[0;34m]\u001b[0m\u001b[0;34m\u001b[0m\u001b[0;34m\u001b[0m\u001b[0m\n\u001b[0;32m-> 5902\u001b[0;31m         \u001b[0;32mreturn\u001b[0m \u001b[0mobject\u001b[0m\u001b[0;34m.\u001b[0m\u001b[0m__getattribute__\u001b[0m\u001b[0;34m(\u001b[0m\u001b[0mself\u001b[0m\u001b[0;34m,\u001b[0m \u001b[0mname\u001b[0m\u001b[0;34m)\u001b[0m\u001b[0;34m\u001b[0m\u001b[0;34m\u001b[0m\u001b[0m\n\u001b[0m\u001b[1;32m   5903\u001b[0m \u001b[0;34m\u001b[0m\u001b[0m\n\u001b[1;32m   5904\u001b[0m     \u001b[0;32mdef\u001b[0m \u001b[0m__setattr__\u001b[0m\u001b[0;34m(\u001b[0m\u001b[0mself\u001b[0m\u001b[0;34m,\u001b[0m \u001b[0mname\u001b[0m\u001b[0;34m:\u001b[0m \u001b[0mstr\u001b[0m\u001b[0;34m,\u001b[0m \u001b[0mvalue\u001b[0m\u001b[0;34m)\u001b[0m \u001b[0;34m->\u001b[0m \u001b[0;32mNone\u001b[0m\u001b[0;34m:\u001b[0m\u001b[0;34m\u001b[0m\u001b[0;34m\u001b[0m\u001b[0m\n",
            "\u001b[0;31mAttributeError\u001b[0m: 'DataFrame' object has no attribute 'sort_value'"
          ]
        }
      ]
    },
    {
      "cell_type": "markdown",
      "source": [
        "## 13/April/2023 ||**Tuple**||\n"
      ],
      "metadata": {
        "id": "XAgJRcsTNf3h"
      }
    },
    {
      "cell_type": "code",
      "source": [
        "#tuple operations\n",
        "t1 = (10,20,30,\"python\",15.71) #declearing tuple\n",
        "t2 = (80.87,21,\"durva\")\n",
        "print(t1)\n",
        "print(t2)"
      ],
      "metadata": {
        "colab": {
          "base_uri": "https://localhost:8080/"
        },
        "id": "usaleDgjKuUr",
        "outputId": "32c18199-1f50-482e-afdf-3106675c629d"
      },
      "execution_count": null,
      "outputs": [
        {
          "output_type": "stream",
          "name": "stdout",
          "text": [
            "(10, 20, 30, 'python', 15.71)\n",
            "(80.87, 21, 'durva')\n"
          ]
        }
      ]
    },
    {
      "cell_type": "code",
      "source": [
        "#accessing tuple elemnts using indexing\n",
        "print(t1[0])"
      ],
      "metadata": {
        "colab": {
          "base_uri": "https://localhost:8080/"
        },
        "id": "3k3vapsYLVBE",
        "outputId": "195820d3-04e6-4ec9-bb81-bf92d8a41247"
      },
      "execution_count": null,
      "outputs": [
        {
          "output_type": "stream",
          "name": "stdout",
          "text": [
            "10\n"
          ]
        }
      ]
    },
    {
      "cell_type": "code",
      "source": [
        "#navigate tuple index\n",
        "print(t1[-1])\n",
        "print(t1[-2])"
      ],
      "metadata": {
        "colab": {
          "base_uri": "https://localhost:8080/"
        },
        "id": "0ji5SfTyLrry",
        "outputId": "028364ca-6c36-411e-9f5d-5c4e17e56783"
      },
      "execution_count": null,
      "outputs": [
        {
          "output_type": "stream",
          "name": "stdout",
          "text": [
            "15.71\n",
            "python\n"
          ]
        }
      ]
    },
    {
      "cell_type": "code",
      "source": [
        "#iterating through tuple\n",
        "for j in t1 :\n",
        "  print(j)"
      ],
      "metadata": {
        "colab": {
          "base_uri": "https://localhost:8080/"
        },
        "id": "1MqwJnw5L_Ux",
        "outputId": "57c53cc4-eb17-4a65-8f5f-75c7ffaedb29"
      },
      "execution_count": null,
      "outputs": [
        {
          "output_type": "stream",
          "name": "stdout",
          "text": [
            "10\n",
            "20\n",
            "30\n",
            "python\n",
            "15.71\n"
          ]
        }
      ]
    },
    {
      "cell_type": "code",
      "source": [
        "#slicing tuple\n",
        "st1 = t1[1:4]\n",
        "print(st1)"
      ],
      "metadata": {
        "colab": {
          "base_uri": "https://localhost:8080/"
        },
        "id": "NO2kw3d3MSSY",
        "outputId": "ce6b5d84-6855-4d90-cd93-c538264fd92b"
      },
      "execution_count": null,
      "outputs": [
        {
          "output_type": "stream",
          "name": "stdout",
          "text": [
            "(20, 30, 'python')\n"
          ]
        }
      ]
    },
    {
      "cell_type": "code",
      "source": [
        "#finding length of tuple\n",
        "len = t2.__len__()\n",
        "print(len)"
      ],
      "metadata": {
        "colab": {
          "base_uri": "https://localhost:8080/"
        },
        "id": "_Yuc6Jo5NTcQ",
        "outputId": "4c75721e-1a3a-4966-bb98-b375ff6deecb"
      },
      "execution_count": null,
      "outputs": [
        {
          "output_type": "stream",
          "name": "stdout",
          "text": [
            "3\n"
          ]
        }
      ]
    },
    {
      "cell_type": "code",
      "source": [
        "# tuples are immutable\n",
        "pranay = (50,60,\"shreyash\")\n",
        "yash = t1 + pranay\n",
        "print(yash)"
      ],
      "metadata": {
        "colab": {
          "base_uri": "https://localhost:8080/"
        },
        "id": "GD8FOrUiMoXz",
        "outputId": "8527b394-2699-4838-b570-5a14cc911835"
      },
      "execution_count": null,
      "outputs": [
        {
          "output_type": "stream",
          "name": "stdout",
          "text": [
            "(10, 20, 30, 'python', 15.71, 50, 60, 'shreyash')\n"
          ]
        }
      ]
    },
    {
      "cell_type": "code",
      "source": [
        "#membership operators\n",
        "print(10 in t1)\n",
        "print(10 not in t1)"
      ],
      "metadata": {
        "colab": {
          "base_uri": "https://localhost:8080/"
        },
        "id": "sGZnDGuCNo-G",
        "outputId": "71cb9ee2-ccc5-40fd-df6f-9e91b764032f"
      },
      "execution_count": null,
      "outputs": [
        {
          "output_type": "stream",
          "name": "stdout",
          "text": [
            "True\n",
            "False\n"
          ]
        }
      ]
    },
    {
      "cell_type": "code",
      "source": [
        "#concatinate tuple\n",
        "t3 = t1 + t2\n",
        "print(t3)"
      ],
      "metadata": {
        "colab": {
          "base_uri": "https://localhost:8080/"
        },
        "id": "m_Vo_-m2N9MS",
        "outputId": "f74d5a03-a1ff-4c1d-96e3-118b93255a6d"
      },
      "execution_count": null,
      "outputs": [
        {
          "output_type": "stream",
          "name": "stdout",
          "text": [
            "(10, 20, 30, 'python', 15.71, 80.87, 21, 'durva')\n"
          ]
        }
      ]
    },
    {
      "cell_type": "code",
      "source": [
        "#multiplying tuple\n",
        "tmul = t1*3\n",
        "print(tmul)"
      ],
      "metadata": {
        "colab": {
          "base_uri": "https://localhost:8080/"
        },
        "id": "Kd0ob1fcOJm_",
        "outputId": "d11751dd-9daa-43e6-8add-da3f406580e4"
      },
      "execution_count": null,
      "outputs": [
        {
          "output_type": "stream",
          "name": "stdout",
          "text": [
            "(10, 20, 30, 'python', 15.71, 10, 20, 30, 'python', 15.71, 10, 20, 30, 'python', 15.71)\n"
          ]
        }
      ]
    },
    {
      "cell_type": "code",
      "source": [
        "#deleting tuple\n",
        "del t1"
      ],
      "metadata": {
        "id": "vHN8tAGcOS4Y"
      },
      "execution_count": null,
      "outputs": []
    },
    {
      "cell_type": "markdown",
      "source": [
        "### 18/April/2023 **Dictionary**"
      ],
      "metadata": {
        "id": "JDcpKb57V9OC"
      }
    },
    {
      "cell_type": "code",
      "source": [
        "#Dictionary operations\n",
        "dict1 = {\"ABC\":48,\"EDF\":31}\n",
        "\n",
        "print(dict1) #print dictionary\n",
        "\n",
        "print(dict1.keys())   # reteriving keys from dictionary\n",
        "\n",
        "print(dict1.values())   #reteriving values from dictionary\n",
        "\n",
        "dict1.update({\"SCE\":431}) #update dictionary\n",
        "print(dict1)\n",
        "\n",
        "a = dict1.__len__()  #finding the lengh of dictionary\n",
        "print(a)\n",
        "\n",
        "dict1.pop(\"SCE\") #pop an element from dictionary\n",
        "print(dict1)"
      ],
      "metadata": {
        "colab": {
          "base_uri": "https://localhost:8080/"
        },
        "id": "tKQIFC6OWCOh",
        "outputId": "ac7971d1-67b8-470f-a1c5-1429a178c835"
      },
      "execution_count": null,
      "outputs": [
        {
          "output_type": "stream",
          "name": "stdout",
          "text": [
            "{'ABC': 48, 'EDF': 31}\n",
            "dict_keys(['ABC', 'EDF'])\n",
            "dict_values([48, 31])\n",
            "{'ABC': 48, 'EDF': 31, 'SCE': 431}\n",
            "3\n",
            "{'ABC': 48, 'EDF': 31}\n"
          ]
        }
      ]
    },
    {
      "cell_type": "code",
      "source": [
        "import pandas as pd\n",
        "df = pd.read_csv('/content/sells supplier.csv')\n",
        "#df\n",
        "print(df.values.tolist())"
      ],
      "metadata": {
        "colab": {
          "base_uri": "https://localhost:8080/",
          "height": 380
        },
        "id": "HvI6RKncdjby",
        "outputId": "cd8decfb-c789-4893-b1dc-f70bdd24fac5"
      },
      "execution_count": null,
      "outputs": [
        {
          "output_type": "error",
          "ename": "FileNotFoundError",
          "evalue": "ignored",
          "traceback": [
            "\u001b[0;31m---------------------------------------------------------------------------\u001b[0m",
            "\u001b[0;31mFileNotFoundError\u001b[0m                         Traceback (most recent call last)",
            "\u001b[0;32m<ipython-input-15-476d6f9a9cdc>\u001b[0m in \u001b[0;36m<cell line: 2>\u001b[0;34m()\u001b[0m\n\u001b[1;32m      1\u001b[0m \u001b[0;32mimport\u001b[0m \u001b[0mpandas\u001b[0m \u001b[0;32mas\u001b[0m \u001b[0mpd\u001b[0m\u001b[0;34m\u001b[0m\u001b[0;34m\u001b[0m\u001b[0m\n\u001b[0;32m----> 2\u001b[0;31m \u001b[0mdf\u001b[0m \u001b[0;34m=\u001b[0m \u001b[0mpd\u001b[0m\u001b[0;34m.\u001b[0m\u001b[0mread_csv\u001b[0m\u001b[0;34m(\u001b[0m\u001b[0;34m'/content/sells supplier.csv'\u001b[0m\u001b[0;34m)\u001b[0m\u001b[0;34m\u001b[0m\u001b[0;34m\u001b[0m\u001b[0m\n\u001b[0m\u001b[1;32m      3\u001b[0m \u001b[0;31m#df\u001b[0m\u001b[0;34m\u001b[0m\u001b[0;34m\u001b[0m\u001b[0m\n\u001b[1;32m      4\u001b[0m \u001b[0mprint\u001b[0m\u001b[0;34m(\u001b[0m\u001b[0mdf\u001b[0m\u001b[0;34m.\u001b[0m\u001b[0mvalues\u001b[0m\u001b[0;34m.\u001b[0m\u001b[0mtolist\u001b[0m\u001b[0;34m(\u001b[0m\u001b[0;34m)\u001b[0m\u001b[0;34m)\u001b[0m\u001b[0;34m\u001b[0m\u001b[0;34m\u001b[0m\u001b[0m\n",
            "\u001b[0;32m/usr/local/lib/python3.10/dist-packages/pandas/util/_decorators.py\u001b[0m in \u001b[0;36mwrapper\u001b[0;34m(*args, **kwargs)\u001b[0m\n\u001b[1;32m    209\u001b[0m                 \u001b[0;32melse\u001b[0m\u001b[0;34m:\u001b[0m\u001b[0;34m\u001b[0m\u001b[0;34m\u001b[0m\u001b[0m\n\u001b[1;32m    210\u001b[0m                     \u001b[0mkwargs\u001b[0m\u001b[0;34m[\u001b[0m\u001b[0mnew_arg_name\u001b[0m\u001b[0;34m]\u001b[0m \u001b[0;34m=\u001b[0m \u001b[0mnew_arg_value\u001b[0m\u001b[0;34m\u001b[0m\u001b[0;34m\u001b[0m\u001b[0m\n\u001b[0;32m--> 211\u001b[0;31m             \u001b[0;32mreturn\u001b[0m \u001b[0mfunc\u001b[0m\u001b[0;34m(\u001b[0m\u001b[0;34m*\u001b[0m\u001b[0margs\u001b[0m\u001b[0;34m,\u001b[0m \u001b[0;34m**\u001b[0m\u001b[0mkwargs\u001b[0m\u001b[0;34m)\u001b[0m\u001b[0;34m\u001b[0m\u001b[0;34m\u001b[0m\u001b[0m\n\u001b[0m\u001b[1;32m    212\u001b[0m \u001b[0;34m\u001b[0m\u001b[0m\n\u001b[1;32m    213\u001b[0m         \u001b[0;32mreturn\u001b[0m \u001b[0mcast\u001b[0m\u001b[0;34m(\u001b[0m\u001b[0mF\u001b[0m\u001b[0;34m,\u001b[0m \u001b[0mwrapper\u001b[0m\u001b[0;34m)\u001b[0m\u001b[0;34m\u001b[0m\u001b[0;34m\u001b[0m\u001b[0m\n",
            "\u001b[0;32m/usr/local/lib/python3.10/dist-packages/pandas/util/_decorators.py\u001b[0m in \u001b[0;36mwrapper\u001b[0;34m(*args, **kwargs)\u001b[0m\n\u001b[1;32m    329\u001b[0m                     \u001b[0mstacklevel\u001b[0m\u001b[0;34m=\u001b[0m\u001b[0mfind_stack_level\u001b[0m\u001b[0;34m(\u001b[0m\u001b[0;34m)\u001b[0m\u001b[0;34m,\u001b[0m\u001b[0;34m\u001b[0m\u001b[0;34m\u001b[0m\u001b[0m\n\u001b[1;32m    330\u001b[0m                 )\n\u001b[0;32m--> 331\u001b[0;31m             \u001b[0;32mreturn\u001b[0m \u001b[0mfunc\u001b[0m\u001b[0;34m(\u001b[0m\u001b[0;34m*\u001b[0m\u001b[0margs\u001b[0m\u001b[0;34m,\u001b[0m \u001b[0;34m**\u001b[0m\u001b[0mkwargs\u001b[0m\u001b[0;34m)\u001b[0m\u001b[0;34m\u001b[0m\u001b[0;34m\u001b[0m\u001b[0m\n\u001b[0m\u001b[1;32m    332\u001b[0m \u001b[0;34m\u001b[0m\u001b[0m\n\u001b[1;32m    333\u001b[0m         \u001b[0;31m# error: \"Callable[[VarArg(Any), KwArg(Any)], Any]\" has no\u001b[0m\u001b[0;34m\u001b[0m\u001b[0;34m\u001b[0m\u001b[0m\n",
            "\u001b[0;32m/usr/local/lib/python3.10/dist-packages/pandas/io/parsers/readers.py\u001b[0m in \u001b[0;36mread_csv\u001b[0;34m(filepath_or_buffer, sep, delimiter, header, names, index_col, usecols, squeeze, prefix, mangle_dupe_cols, dtype, engine, converters, true_values, false_values, skipinitialspace, skiprows, skipfooter, nrows, na_values, keep_default_na, na_filter, verbose, skip_blank_lines, parse_dates, infer_datetime_format, keep_date_col, date_parser, dayfirst, cache_dates, iterator, chunksize, compression, thousands, decimal, lineterminator, quotechar, quoting, doublequote, escapechar, comment, encoding, encoding_errors, dialect, error_bad_lines, warn_bad_lines, on_bad_lines, delim_whitespace, low_memory, memory_map, float_precision, storage_options)\u001b[0m\n\u001b[1;32m    948\u001b[0m     \u001b[0mkwds\u001b[0m\u001b[0;34m.\u001b[0m\u001b[0mupdate\u001b[0m\u001b[0;34m(\u001b[0m\u001b[0mkwds_defaults\u001b[0m\u001b[0;34m)\u001b[0m\u001b[0;34m\u001b[0m\u001b[0;34m\u001b[0m\u001b[0m\n\u001b[1;32m    949\u001b[0m \u001b[0;34m\u001b[0m\u001b[0m\n\u001b[0;32m--> 950\u001b[0;31m     \u001b[0;32mreturn\u001b[0m \u001b[0m_read\u001b[0m\u001b[0;34m(\u001b[0m\u001b[0mfilepath_or_buffer\u001b[0m\u001b[0;34m,\u001b[0m \u001b[0mkwds\u001b[0m\u001b[0;34m)\u001b[0m\u001b[0;34m\u001b[0m\u001b[0;34m\u001b[0m\u001b[0m\n\u001b[0m\u001b[1;32m    951\u001b[0m \u001b[0;34m\u001b[0m\u001b[0m\n\u001b[1;32m    952\u001b[0m \u001b[0;34m\u001b[0m\u001b[0m\n",
            "\u001b[0;32m/usr/local/lib/python3.10/dist-packages/pandas/io/parsers/readers.py\u001b[0m in \u001b[0;36m_read\u001b[0;34m(filepath_or_buffer, kwds)\u001b[0m\n\u001b[1;32m    603\u001b[0m \u001b[0;34m\u001b[0m\u001b[0m\n\u001b[1;32m    604\u001b[0m     \u001b[0;31m# Create the parser.\u001b[0m\u001b[0;34m\u001b[0m\u001b[0;34m\u001b[0m\u001b[0m\n\u001b[0;32m--> 605\u001b[0;31m     \u001b[0mparser\u001b[0m \u001b[0;34m=\u001b[0m \u001b[0mTextFileReader\u001b[0m\u001b[0;34m(\u001b[0m\u001b[0mfilepath_or_buffer\u001b[0m\u001b[0;34m,\u001b[0m \u001b[0;34m**\u001b[0m\u001b[0mkwds\u001b[0m\u001b[0;34m)\u001b[0m\u001b[0;34m\u001b[0m\u001b[0;34m\u001b[0m\u001b[0m\n\u001b[0m\u001b[1;32m    606\u001b[0m \u001b[0;34m\u001b[0m\u001b[0m\n\u001b[1;32m    607\u001b[0m     \u001b[0;32mif\u001b[0m \u001b[0mchunksize\u001b[0m \u001b[0;32mor\u001b[0m \u001b[0miterator\u001b[0m\u001b[0;34m:\u001b[0m\u001b[0;34m\u001b[0m\u001b[0;34m\u001b[0m\u001b[0m\n",
            "\u001b[0;32m/usr/local/lib/python3.10/dist-packages/pandas/io/parsers/readers.py\u001b[0m in \u001b[0;36m__init__\u001b[0;34m(self, f, engine, **kwds)\u001b[0m\n\u001b[1;32m   1440\u001b[0m \u001b[0;34m\u001b[0m\u001b[0m\n\u001b[1;32m   1441\u001b[0m         \u001b[0mself\u001b[0m\u001b[0;34m.\u001b[0m\u001b[0mhandles\u001b[0m\u001b[0;34m:\u001b[0m \u001b[0mIOHandles\u001b[0m \u001b[0;34m|\u001b[0m \u001b[0;32mNone\u001b[0m \u001b[0;34m=\u001b[0m \u001b[0;32mNone\u001b[0m\u001b[0;34m\u001b[0m\u001b[0;34m\u001b[0m\u001b[0m\n\u001b[0;32m-> 1442\u001b[0;31m         \u001b[0mself\u001b[0m\u001b[0;34m.\u001b[0m\u001b[0m_engine\u001b[0m \u001b[0;34m=\u001b[0m \u001b[0mself\u001b[0m\u001b[0;34m.\u001b[0m\u001b[0m_make_engine\u001b[0m\u001b[0;34m(\u001b[0m\u001b[0mf\u001b[0m\u001b[0;34m,\u001b[0m \u001b[0mself\u001b[0m\u001b[0;34m.\u001b[0m\u001b[0mengine\u001b[0m\u001b[0;34m)\u001b[0m\u001b[0;34m\u001b[0m\u001b[0;34m\u001b[0m\u001b[0m\n\u001b[0m\u001b[1;32m   1443\u001b[0m \u001b[0;34m\u001b[0m\u001b[0m\n\u001b[1;32m   1444\u001b[0m     \u001b[0;32mdef\u001b[0m \u001b[0mclose\u001b[0m\u001b[0;34m(\u001b[0m\u001b[0mself\u001b[0m\u001b[0;34m)\u001b[0m \u001b[0;34m->\u001b[0m \u001b[0;32mNone\u001b[0m\u001b[0;34m:\u001b[0m\u001b[0;34m\u001b[0m\u001b[0;34m\u001b[0m\u001b[0m\n",
            "\u001b[0;32m/usr/local/lib/python3.10/dist-packages/pandas/io/parsers/readers.py\u001b[0m in \u001b[0;36m_make_engine\u001b[0;34m(self, f, engine)\u001b[0m\n\u001b[1;32m   1733\u001b[0m                 \u001b[0;32mif\u001b[0m \u001b[0;34m\"b\"\u001b[0m \u001b[0;32mnot\u001b[0m \u001b[0;32min\u001b[0m \u001b[0mmode\u001b[0m\u001b[0;34m:\u001b[0m\u001b[0;34m\u001b[0m\u001b[0;34m\u001b[0m\u001b[0m\n\u001b[1;32m   1734\u001b[0m                     \u001b[0mmode\u001b[0m \u001b[0;34m+=\u001b[0m \u001b[0;34m\"b\"\u001b[0m\u001b[0;34m\u001b[0m\u001b[0;34m\u001b[0m\u001b[0m\n\u001b[0;32m-> 1735\u001b[0;31m             self.handles = get_handle(\n\u001b[0m\u001b[1;32m   1736\u001b[0m                 \u001b[0mf\u001b[0m\u001b[0;34m,\u001b[0m\u001b[0;34m\u001b[0m\u001b[0;34m\u001b[0m\u001b[0m\n\u001b[1;32m   1737\u001b[0m                 \u001b[0mmode\u001b[0m\u001b[0;34m,\u001b[0m\u001b[0;34m\u001b[0m\u001b[0;34m\u001b[0m\u001b[0m\n",
            "\u001b[0;32m/usr/local/lib/python3.10/dist-packages/pandas/io/common.py\u001b[0m in \u001b[0;36mget_handle\u001b[0;34m(path_or_buf, mode, encoding, compression, memory_map, is_text, errors, storage_options)\u001b[0m\n\u001b[1;32m    854\u001b[0m         \u001b[0;32mif\u001b[0m \u001b[0mioargs\u001b[0m\u001b[0;34m.\u001b[0m\u001b[0mencoding\u001b[0m \u001b[0;32mand\u001b[0m \u001b[0;34m\"b\"\u001b[0m \u001b[0;32mnot\u001b[0m \u001b[0;32min\u001b[0m \u001b[0mioargs\u001b[0m\u001b[0;34m.\u001b[0m\u001b[0mmode\u001b[0m\u001b[0;34m:\u001b[0m\u001b[0;34m\u001b[0m\u001b[0;34m\u001b[0m\u001b[0m\n\u001b[1;32m    855\u001b[0m             \u001b[0;31m# Encoding\u001b[0m\u001b[0;34m\u001b[0m\u001b[0;34m\u001b[0m\u001b[0m\n\u001b[0;32m--> 856\u001b[0;31m             handle = open(\n\u001b[0m\u001b[1;32m    857\u001b[0m                 \u001b[0mhandle\u001b[0m\u001b[0;34m,\u001b[0m\u001b[0;34m\u001b[0m\u001b[0;34m\u001b[0m\u001b[0m\n\u001b[1;32m    858\u001b[0m                 \u001b[0mioargs\u001b[0m\u001b[0;34m.\u001b[0m\u001b[0mmode\u001b[0m\u001b[0;34m,\u001b[0m\u001b[0;34m\u001b[0m\u001b[0;34m\u001b[0m\u001b[0m\n",
            "\u001b[0;31mFileNotFoundError\u001b[0m: [Errno 2] No such file or directory: '/content/sells supplier.csv'"
          ]
        }
      ]
    },
    {
      "cell_type": "markdown",
      "source": [
        "## 20-April-2023  ||**SETS**||"
      ],
      "metadata": {
        "id": "gHOoA4FjLaO0"
      }
    },
    {
      "cell_type": "code",
      "source": [
        "#set theory\n",
        "#set is mutable\n",
        "s1 = {10,20,30,40}\n",
        "for i in s1:\n",
        "   print(s1)"
      ],
      "metadata": {
        "colab": {
          "base_uri": "https://localhost:8080/"
        },
        "id": "rZcbRZp4Liai",
        "outputId": "62909409-2e5d-437f-c03c-076d874f16c2"
      },
      "execution_count": null,
      "outputs": [
        {
          "output_type": "stream",
          "name": "stdout",
          "text": [
            "{40, 10, 20, 30}\n",
            "{40, 10, 20, 30}\n",
            "{40, 10, 20, 30}\n",
            "{40, 10, 20, 30}\n"
          ]
        }
      ]
    },
    {
      "cell_type": "code",
      "source": [
        "a = {10,20,30}\n",
        "print(a)"
      ],
      "metadata": {
        "colab": {
          "base_uri": "https://localhost:8080/"
        },
        "id": "E_-qyY4tL0uT",
        "outputId": "7965778b-36f6-4e7c-bb6e-76b0a05bb6d5"
      },
      "execution_count": null,
      "outputs": [
        {
          "output_type": "stream",
          "name": "stdout",
          "text": [
            "{10, 20, 30}\n"
          ]
        }
      ]
    },
    {
      "cell_type": "code",
      "source": [
        "s1 = {10,20,30}\n",
        "for i in s1:\n",
        "   print(i)"
      ],
      "metadata": {
        "colab": {
          "base_uri": "https://localhost:8080/"
        },
        "id": "p-8Un5iDMKOC",
        "outputId": "0302d340-cded-4bd0-9dce-ff4ff04728b5"
      },
      "execution_count": null,
      "outputs": [
        {
          "output_type": "stream",
          "name": "stdout",
          "text": [
            "10\n",
            "20\n",
            "30\n"
          ]
        }
      ]
    },
    {
      "cell_type": "code",
      "source": [
        "#we can add single element with add\n",
        "s1 = {10,20,30}\n",
        "s1.add(5)\n",
        "print(s1)"
      ],
      "metadata": {
        "colab": {
          "base_uri": "https://localhost:8080/"
        },
        "id": "PezuCDreMTzt",
        "outputId": "ccebf4ca-30bc-4de0-f0ae-31ef498cd70f"
      },
      "execution_count": null,
      "outputs": [
        {
          "output_type": "stream",
          "name": "stdout",
          "text": [
            "{10, 20, 5, 30}\n"
          ]
        }
      ]
    },
    {
      "cell_type": "code",
      "source": [
        "#add multiple elements with update\n",
        "s1 = {10,20,30}\n",
        "s1.update((7,8,1))\n",
        "print(s1)"
      ],
      "metadata": {
        "colab": {
          "base_uri": "https://localhost:8080/"
        },
        "id": "WNXj30tjM0p1",
        "outputId": "bab6555c-a817-430f-d92d-12cd58ab66fa"
      },
      "execution_count": null,
      "outputs": [
        {
          "output_type": "stream",
          "name": "stdout",
          "text": [
            "{1, 7, 8, 10, 20, 30}\n"
          ]
        }
      ]
    },
    {
      "cell_type": "code",
      "source": [
        "#discard and remove are same but if the item is not there it will not rase the key errror\n",
        "s1 = {2,3,4,5}\n",
        "s1.discard(4)\n",
        "print(s1)"
      ],
      "metadata": {
        "colab": {
          "base_uri": "https://localhost:8080/"
        },
        "id": "M_fWclu8NHGL",
        "outputId": "57823e66-a836-490b-97bf-8ab8358d842c"
      },
      "execution_count": null,
      "outputs": [
        {
          "output_type": "stream",
          "name": "stdout",
          "text": [
            "{2, 3, 5}\n"
          ]
        }
      ]
    },
    {
      "cell_type": "code",
      "source": [
        "#set union\n",
        "# srt of all the elements from both side\n",
        "s1 = {2,3,4,5,6,7}\n",
        "s2 = {7,8,9,}\n",
        "s3 = s1 | s2\n",
        "print(s3)"
      ],
      "metadata": {
        "colab": {
          "base_uri": "https://localhost:8080/"
        },
        "id": "5D84b-1JNdRb",
        "outputId": "b1d29c5e-d19b-41e0-9866-d5277908c838"
      },
      "execution_count": null,
      "outputs": [
        {
          "output_type": "stream",
          "name": "stdout",
          "text": [
            "{2, 3, 4, 5, 6, 7, 8, 9}\n"
          ]
        }
      ]
    },
    {
      "cell_type": "code",
      "source": [
        "#set intersection\n",
        "#taking common elements from both sets\n",
        "s1 = {2,3,4,5,50,80}\n",
        "s2 = {4,5,6,50,90}\n",
        "s4 = s1 & s2\n",
        "print(s4)"
      ],
      "metadata": {
        "colab": {
          "base_uri": "https://localhost:8080/"
        },
        "id": "_E5Xu1T2N6PK",
        "outputId": "9d45cfb7-2f3d-4df5-b34c-dbf93eeeb378"
      },
      "execution_count": null,
      "outputs": [
        {
          "output_type": "stream",
          "name": "stdout",
          "text": [
            "{50, 4, 5}\n"
          ]
        }
      ]
    },
    {
      "cell_type": "code",
      "source": [
        "#set differernces\n",
        "#display elements that are only in t1 and not in t2\n",
        "t1 = {2,3,4,10,20}\n",
        "t2 = {20,10,70}\n",
        "i = t2-t1\n",
        "print(i)"
      ],
      "metadata": {
        "colab": {
          "base_uri": "https://localhost:8080/"
        },
        "id": "kb3v1AMPOjWd",
        "outputId": "aa1fcbc9-aaef-42a2-e506-0f1d6737dcb6"
      },
      "execution_count": null,
      "outputs": [
        {
          "output_type": "stream",
          "name": "stdout",
          "text": [
            "{70}\n"
          ]
        }
      ]
    },
    {
      "cell_type": "code",
      "source": [
        "#symmetric difference\n",
        "#display elements from both the sets except common elements\n",
        "t1 = {10,20,30,40,50}\n",
        "t2 = {10,30,40,2,4}\n",
        "i = t1  ^ t2\n",
        "print(i)\n"
      ],
      "metadata": {
        "colab": {
          "base_uri": "https://localhost:8080/"
        },
        "id": "vvdsvrxmPigK",
        "outputId": "4b00f560-0d0e-448d-da1d-4cd7f4c2d459"
      },
      "execution_count": null,
      "outputs": [
        {
          "output_type": "stream",
          "name": "stdout",
          "text": [
            "{2, 50, 4, 20}\n"
          ]
        }
      ]
    },
    {
      "cell_type": "code",
      "source": [
        "#clear will empty the set\n",
        "s1 = {10,1,20,30}\n",
        "s1.clear()\n",
        "print(s1)"
      ],
      "metadata": {
        "colab": {
          "base_uri": "https://localhost:8080/"
        },
        "id": "Lz75yKwwQOrq",
        "outputId": "992a4f21-bbbf-4a3a-b340-c94b271c86b8"
      },
      "execution_count": null,
      "outputs": [
        {
          "output_type": "stream",
          "name": "stdout",
          "text": [
            "set()\n"
          ]
        }
      ]
    },
    {
      "cell_type": "markdown",
      "source": [
        "25-April-2023 //**Array and lambda**"
      ],
      "metadata": {
        "id": "7MA83b4HY0SK"
      }
    },
    {
      "cell_type": "code",
      "source": [
        "#copy is new array and view is just a view of original array\n",
        "#the copy owns the data and any changes made to copy will not affect original\n",
        "#array\n",
        "#and any changes made to the original array will not affect the copy\n",
        "#the view does not own the data and any changes made to the #view will affect the original array\n",
        "#and any changes made to the original array will affect the view\n",
        "\n",
        "import numpy as np\n",
        "\n",
        "arr = np.array([1,2,3,4,5])\n",
        "\n",
        "x = arr.copy()\n",
        "y = arr.view()\n",
        "\n",
        "arr[1] = 20\n",
        "arr[0] = 30\n",
        "\n",
        "print(arr)\n",
        "print(x)\n",
        "print(y)"
      ],
      "metadata": {
        "colab": {
          "base_uri": "https://localhost:8080/"
        },
        "id": "hyHIni1YebIg",
        "outputId": "42fe3db7-2443-4332-8c81-c134148a5707"
      },
      "execution_count": null,
      "outputs": [
        {
          "output_type": "stream",
          "name": "stdout",
          "text": [
            "[30 20  3  4  5]\n",
            "[1 2 3 4 5]\n",
            "[30 20  3  4  5]\n"
          ]
        }
      ]
    },
    {
      "cell_type": "code",
      "source": [
        "import numpy as numpy\n",
        "\n",
        "x = np.array([[1,2] , [4,5]])\n",
        "y = np.array([[6,7] , [9,10]])\n",
        "\n",
        "print(\"Addition of matrix\")\n",
        "print(np.add(x,y))\n",
        "\n",
        "print(\"subtraction of matrix\")\n",
        "print(np.subtract(x,y))\n",
        "\n",
        "\n"
      ],
      "metadata": {
        "colab": {
          "base_uri": "https://localhost:8080/"
        },
        "id": "D-aSD_VEf0rF",
        "outputId": "c3507a7a-7510-4260-f292-90e34710a25d"
      },
      "execution_count": null,
      "outputs": [
        {
          "output_type": "stream",
          "name": "stdout",
          "text": [
            "Addition of matrix\n",
            "[[ 7  9]\n",
            " [13 15]]\n",
            "subtraction of matrix\n",
            "[[-5 -5]\n",
            " [-5 -5]]\n"
          ]
        }
      ]
    },
    {
      "cell_type": "code",
      "source": [
        "#np array\n",
        "l1 = np.matrix('1,2,3 ; 4,5,6 ; 7,8,9')\n",
        "a = np.array(l1)\n",
        "print(a)\n",
        "\n",
        "#transpose of matrix\n",
        "print(a.T)"
      ],
      "metadata": {
        "colab": {
          "base_uri": "https://localhost:8080/"
        },
        "id": "RSfhSx06hIAN",
        "outputId": "7aa3fa8c-b808-4fd5-f718-dfe3b5b45cb0"
      },
      "execution_count": null,
      "outputs": [
        {
          "output_type": "stream",
          "name": "stdout",
          "text": [
            "[[1 2 3]\n",
            " [4 5 6]\n",
            " [7 8 9]]\n",
            "[[1 4 7]\n",
            " [2 5 8]\n",
            " [3 6 9]]\n"
          ]
        }
      ]
    },
    {
      "cell_type": "code",
      "source": [
        "import json\n",
        "emp_dict = {\"ERP\":\"YOU\", 9:\"ERP\" , 8.9: \"PYTHON\"}\n",
        "print(emp_dict)"
      ],
      "metadata": {
        "colab": {
          "base_uri": "https://localhost:8080/"
        },
        "id": "ZupuGJZUh5XZ",
        "outputId": "7b6b6150-63db-43e0-ba90-46d569c37193"
      },
      "execution_count": null,
      "outputs": [
        {
          "output_type": "stream",
          "name": "stdout",
          "text": [
            "{'ERP': 'YOU', 9: 'ERP', 8.9: 'PYTHON'}\n"
          ]
        }
      ]
    },
    {
      "cell_type": "code",
      "source": [
        "def output():\n",
        "  print(\"output function\")\n",
        "\n",
        "  def input():\n",
        "    print(\"input function\")\n",
        "\n",
        "  input()\n",
        "\n",
        "output()"
      ],
      "metadata": {
        "colab": {
          "base_uri": "https://localhost:8080/"
        },
        "id": "xPy3QLklinhp",
        "outputId": "a10e5832-d107-4515-9554-5f253faab1df"
      },
      "execution_count": null,
      "outputs": [
        {
          "output_type": "stream",
          "name": "stdout",
          "text": [
            "output function\n",
            "input function\n"
          ]
        }
      ]
    },
    {
      "cell_type": "code",
      "source": [
        "def add():\n",
        "  a = 20\n",
        "  b = 10\n",
        "  c = a + b\n",
        "  print(c)\n",
        "\n",
        "  def sub():\n",
        "    a = 30\n",
        "    b = 20\n",
        "    c = a - b\n",
        "    print(c)\n",
        "\n",
        "  sub()\n",
        "\n",
        "add()\n"
      ],
      "metadata": {
        "colab": {
          "base_uri": "https://localhost:8080/"
        },
        "id": "YafsFDiiinlz",
        "outputId": "f42bb7cf-fd36-4328-e842-0c78573625c4"
      },
      "execution_count": null,
      "outputs": [
        {
          "output_type": "stream",
          "name": "stdout",
          "text": [
            "30\n",
            "10\n"
          ]
        }
      ]
    },
    {
      "cell_type": "code",
      "source": [
        "#json\n",
        "\n",
        "import json\n",
        "x = {\n",
        "    \"x\":\"10\",\n",
        "    \"y\":56,\n",
        "    \"z\":\"python\"\n",
        "}\n",
        "\n",
        "y = json.dumps(x)\n",
        "print(y)"
      ],
      "metadata": {
        "colab": {
          "base_uri": "https://localhost:8080/"
        },
        "id": "8bTbHUJKintk",
        "outputId": "3302e18a-8b57-4fd9-879b-f64175ff3a93"
      },
      "execution_count": null,
      "outputs": [
        {
          "output_type": "stream",
          "name": "stdout",
          "text": [
            "{\"x\": \"10\", \"y\": 56, \"z\": \"python\"}\n"
          ]
        }
      ]
    },
    {
      "cell_type": "code",
      "source": [
        "# lamda function is one function that solves and returns expression based on the provided parameter\n",
        "#program without lamda\n",
        "\n",
        "def get_cube(n):\n",
        "   return n*n*n\n",
        "print(get_cube(2))\n",
        "\n",
        "#program with lamda\n",
        "\n",
        "res = lambda n:n*n*n\n",
        "print(res(2))\n"
      ],
      "metadata": {
        "colab": {
          "base_uri": "https://localhost:8080/"
        },
        "id": "E0y-cSd7kSZx",
        "outputId": "6c8b2882-acbf-4a24-8009-f8bc62325826"
      },
      "execution_count": null,
      "outputs": [
        {
          "output_type": "stream",
          "name": "stdout",
          "text": [
            "8\n",
            "8\n"
          ]
        }
      ]
    },
    {
      "cell_type": "code",
      "source": [
        "#Json\n",
        "import json\n",
        "\n",
        "json_string = '{\"name\": \"Cassia\",\"website\":\"stackabuse.com\",\"country\":\"Brazil\"}'\n",
        "\n",
        "#loads -- json to dict\n",
        "#dumps -- dict to json\n"
      ],
      "metadata": {
        "id": "fLBcFAyAlI7d"
      },
      "execution_count": null,
      "outputs": []
    },
    {
      "cell_type": "markdown",
      "source": [
        "# 2/May/2023   **Alternate list **"
      ],
      "metadata": {
        "id": "YC_o8t1SHi3a"
      }
    },
    {
      "cell_type": "code",
      "source": [
        "my_list = [1,2,3,4,5,6,7,8,9,10]\n",
        "alt_list1 = my_list[::2]\n",
        "alt_list2 = my_list[1::2]\n",
        "print(alt_list1)\n",
        "print(alt_list2)"
      ],
      "metadata": {
        "id": "ZN6ijr3oHybC",
        "colab": {
          "base_uri": "https://localhost:8080/"
        },
        "outputId": "4a88314e-de8e-462a-b1bc-72ea1262fa98"
      },
      "execution_count": null,
      "outputs": [
        {
          "output_type": "stream",
          "name": "stdout",
          "text": [
            "[1, 3, 5, 7, 9]\n",
            "[2, 4, 6, 8, 10]\n"
          ]
        }
      ]
    },
    {
      "cell_type": "markdown",
      "source": [
        "## **Date and Time**"
      ],
      "metadata": {
        "id": "dk8lAiZch76H"
      }
    },
    {
      "cell_type": "code",
      "source": [
        "#calculate todays date\n",
        "\n",
        "from datetime import date\n",
        "today = date.today() #fetch today's date\n",
        "print(today)"
      ],
      "metadata": {
        "colab": {
          "base_uri": "https://localhost:8080/"
        },
        "id": "5lcP8ZJDiD69",
        "outputId": "37f3d3f3-c97c-49f2-a91d-cae27822d385"
      },
      "execution_count": null,
      "outputs": [
        {
          "output_type": "stream",
          "name": "stdout",
          "text": [
            "2023-06-01\n"
          ]
        }
      ]
    },
    {
      "cell_type": "code",
      "source": [
        "# importing datetime module from now()\n",
        "import datetime\n",
        "current_time = datetime.datetime.now()  # using now() to get current time\n",
        "print(\"the attributes of now() are :\")\n",
        "\n",
        "print(\"year : \", end = \"\")\n",
        "print(current_time.year)\n",
        "\n",
        "print(\"month : \", end = \"\")\n",
        "print(current_time.month)\n",
        "\n",
        "print(\"day : \", end = \"\")\n",
        "print(current_time.day)\n"
      ],
      "metadata": {
        "colab": {
          "base_uri": "https://localhost:8080/"
        },
        "id": "81JhjyrTiY8y",
        "outputId": "129e7c2f-5719-4659-dde3-90e9b899c732"
      },
      "execution_count": null,
      "outputs": [
        {
          "output_type": "stream",
          "name": "stdout",
          "text": [
            "the attributes of now() are :\n",
            "year : 2023\n",
            "month : 5\n",
            "day : 2\n"
          ]
        }
      ]
    },
    {
      "cell_type": "code",
      "source": [
        "from datetime import date\n",
        "\n",
        "def calculateage(dob):\n",
        "    today = date.today()\n",
        "    age = today.year - dob.year - ((today.month,today.day) < (dob.month,dob.day))\n",
        "\n",
        "    return age\n",
        "\n",
        "print(calculateage(date(2005,1,31)), \"years old\") #function call"
      ],
      "metadata": {
        "colab": {
          "base_uri": "https://localhost:8080/"
        },
        "id": "LuS7pvfKkDRj",
        "outputId": "969aba18-5b97-4dba-f51e-dd0199a142f6"
      },
      "execution_count": null,
      "outputs": [
        {
          "output_type": "stream",
          "name": "stdout",
          "text": [
            "18 years old\n"
          ]
        }
      ]
    },
    {
      "cell_type": "code",
      "source": [
        "import pandas as pd\n",
        "def t(l):\n",
        "  return l * 10\n",
        "l = [1,2,3,4,5]\n",
        "df = pd.DataFrame(l)\n",
        "newdf = df.transform(t)\n",
        "print(newdf)"
      ],
      "metadata": {
        "colab": {
          "base_uri": "https://localhost:8080/"
        },
        "id": "_BurD5GDsUOw",
        "outputId": "95102099-82a4-4817-f8ba-b229c402f3cb"
      },
      "execution_count": null,
      "outputs": [
        {
          "output_type": "stream",
          "name": "stdout",
          "text": [
            "    0\n",
            "0  10\n",
            "1  20\n",
            "2  30\n",
            "3  40\n",
            "4  50\n"
          ]
        }
      ]
    },
    {
      "cell_type": "code",
      "source": [
        "df_person = pd.DataFrame([['per 1', 'Pune','2302'],['per 2','MUmbai', '2503'],['per 3', 'thane','5623']],columns=['name','city','code'])\n",
        "df_person"
      ],
      "metadata": {
        "colab": {
          "base_uri": "https://localhost:8080/",
          "height": 143
        },
        "id": "0lC8rw_es7Gf",
        "outputId": "16a0b967-ec4f-4677-ebcb-e30aa9e62b63"
      },
      "execution_count": null,
      "outputs": [
        {
          "output_type": "execute_result",
          "data": {
            "text/plain": [
              "    name    city  code\n",
              "0  per 1    Pune  2302\n",
              "1  per 2  MUmbai  2503\n",
              "2  per 3   thane  5623"
            ],
            "text/html": [
              "\n",
              "  <div id=\"df-8d3cc85f-881f-47e0-a7fa-6bdf90409452\">\n",
              "    <div class=\"colab-df-container\">\n",
              "      <div>\n",
              "<style scoped>\n",
              "    .dataframe tbody tr th:only-of-type {\n",
              "        vertical-align: middle;\n",
              "    }\n",
              "\n",
              "    .dataframe tbody tr th {\n",
              "        vertical-align: top;\n",
              "    }\n",
              "\n",
              "    .dataframe thead th {\n",
              "        text-align: right;\n",
              "    }\n",
              "</style>\n",
              "<table border=\"1\" class=\"dataframe\">\n",
              "  <thead>\n",
              "    <tr style=\"text-align: right;\">\n",
              "      <th></th>\n",
              "      <th>name</th>\n",
              "      <th>city</th>\n",
              "      <th>code</th>\n",
              "    </tr>\n",
              "  </thead>\n",
              "  <tbody>\n",
              "    <tr>\n",
              "      <th>0</th>\n",
              "      <td>per 1</td>\n",
              "      <td>Pune</td>\n",
              "      <td>2302</td>\n",
              "    </tr>\n",
              "    <tr>\n",
              "      <th>1</th>\n",
              "      <td>per 2</td>\n",
              "      <td>MUmbai</td>\n",
              "      <td>2503</td>\n",
              "    </tr>\n",
              "    <tr>\n",
              "      <th>2</th>\n",
              "      <td>per 3</td>\n",
              "      <td>thane</td>\n",
              "      <td>5623</td>\n",
              "    </tr>\n",
              "  </tbody>\n",
              "</table>\n",
              "</div>\n",
              "      <button class=\"colab-df-convert\" onclick=\"convertToInteractive('df-8d3cc85f-881f-47e0-a7fa-6bdf90409452')\"\n",
              "              title=\"Convert this dataframe to an interactive table.\"\n",
              "              style=\"display:none;\">\n",
              "        \n",
              "  <svg xmlns=\"http://www.w3.org/2000/svg\" height=\"24px\"viewBox=\"0 0 24 24\"\n",
              "       width=\"24px\">\n",
              "    <path d=\"M0 0h24v24H0V0z\" fill=\"none\"/>\n",
              "    <path d=\"M18.56 5.44l.94 2.06.94-2.06 2.06-.94-2.06-.94-.94-2.06-.94 2.06-2.06.94zm-11 1L8.5 8.5l.94-2.06 2.06-.94-2.06-.94L8.5 2.5l-.94 2.06-2.06.94zm10 10l.94 2.06.94-2.06 2.06-.94-2.06-.94-.94-2.06-.94 2.06-2.06.94z\"/><path d=\"M17.41 7.96l-1.37-1.37c-.4-.4-.92-.59-1.43-.59-.52 0-1.04.2-1.43.59L10.3 9.45l-7.72 7.72c-.78.78-.78 2.05 0 2.83L4 21.41c.39.39.9.59 1.41.59.51 0 1.02-.2 1.41-.59l7.78-7.78 2.81-2.81c.8-.78.8-2.07 0-2.86zM5.41 20L4 18.59l7.72-7.72 1.47 1.35L5.41 20z\"/>\n",
              "  </svg>\n",
              "      </button>\n",
              "      \n",
              "  <style>\n",
              "    .colab-df-container {\n",
              "      display:flex;\n",
              "      flex-wrap:wrap;\n",
              "      gap: 12px;\n",
              "    }\n",
              "\n",
              "    .colab-df-convert {\n",
              "      background-color: #E8F0FE;\n",
              "      border: none;\n",
              "      border-radius: 50%;\n",
              "      cursor: pointer;\n",
              "      display: none;\n",
              "      fill: #1967D2;\n",
              "      height: 32px;\n",
              "      padding: 0 0 0 0;\n",
              "      width: 32px;\n",
              "    }\n",
              "\n",
              "    .colab-df-convert:hover {\n",
              "      background-color: #E2EBFA;\n",
              "      box-shadow: 0px 1px 2px rgba(60, 64, 67, 0.3), 0px 1px 3px 1px rgba(60, 64, 67, 0.15);\n",
              "      fill: #174EA6;\n",
              "    }\n",
              "\n",
              "    [theme=dark] .colab-df-convert {\n",
              "      background-color: #3B4455;\n",
              "      fill: #D2E3FC;\n",
              "    }\n",
              "\n",
              "    [theme=dark] .colab-df-convert:hover {\n",
              "      background-color: #434B5C;\n",
              "      box-shadow: 0px 1px 3px 1px rgba(0, 0, 0, 0.15);\n",
              "      filter: drop-shadow(0px 1px 2px rgba(0, 0, 0, 0.3));\n",
              "      fill: #FFFFFF;\n",
              "    }\n",
              "  </style>\n",
              "\n",
              "      <script>\n",
              "        const buttonEl =\n",
              "          document.querySelector('#df-8d3cc85f-881f-47e0-a7fa-6bdf90409452 button.colab-df-convert');\n",
              "        buttonEl.style.display =\n",
              "          google.colab.kernel.accessAllowed ? 'block' : 'none';\n",
              "\n",
              "        async function convertToInteractive(key) {\n",
              "          const element = document.querySelector('#df-8d3cc85f-881f-47e0-a7fa-6bdf90409452');\n",
              "          const dataTable =\n",
              "            await google.colab.kernel.invokeFunction('convertToInteractive',\n",
              "                                                     [key], {});\n",
              "          if (!dataTable) return;\n",
              "\n",
              "          const docLinkHtml = 'Like what you see? Visit the ' +\n",
              "            '<a target=\"_blank\" href=https://colab.research.google.com/notebooks/data_table.ipynb>data table notebook</a>'\n",
              "            + ' to learn more about interactive tables.';\n",
              "          element.innerHTML = '';\n",
              "          dataTable['output_type'] = 'display_data';\n",
              "          await google.colab.output.renderOutput(dataTable, element);\n",
              "          const docLink = document.createElement('div');\n",
              "          docLink.innerHTML = docLinkHtml;\n",
              "          element.appendChild(docLink);\n",
              "        }\n",
              "      </script>\n",
              "    </div>\n",
              "  </div>\n",
              "  "
            ]
          },
          "metadata": {},
          "execution_count": 35
        }
      ]
    },
    {
      "cell_type": "code",
      "source": [
        "import pandas as pd\n",
        "df1 = pd.DataFrame({'employee': ['sudarshan','shreyash','dev','sarthak','sagar'],'group':['accounting','engineer','project manager','HR','engineer']})\n",
        "\n",
        "df2 = pd.DataFrame({'employee': ['sudarshan','shreyash','dev','sarthak','sagar'],'hire date':[2014,2016,2017,2020,2022]})\n",
        "\n",
        "df3 = pd.merge(df1,df2)\n",
        "print(df3)"
      ],
      "metadata": {
        "id": "IvIr6dWEuhaj",
        "colab": {
          "base_uri": "https://localhost:8080/"
        },
        "outputId": "3946c8cc-0aea-4bce-a76b-7d6b8c374b38"
      },
      "execution_count": null,
      "outputs": [
        {
          "output_type": "stream",
          "name": "stdout",
          "text": [
            "    employee            group  hire date\n",
            "0  sudarshan       accounting       2014\n",
            "1   shreyash         engineer       2016\n",
            "2        dev  project manager       2017\n",
            "3    sarthak               HR       2020\n",
            "4      sagar         engineer       2022\n"
          ]
        }
      ]
    },
    {
      "cell_type": "code",
      "source": [
        "import pandas as pd\n",
        "a = pd.read_excel(\"/content/drive/MyDrive/ADITYA (116) Salary emp 2.0.xlsx\")\n",
        "b = pd.read_excel(\"/content/drive/MyDrive/ADITYA EDS Excel Employee (116) 2.0.xlsx\")\n",
        "\n",
        "c = pd.merge(a,b)\n",
        "print(c)"
      ],
      "metadata": {
        "colab": {
          "base_uri": "https://localhost:8080/",
          "height": 399
        },
        "id": "N9Deq6g6pCAC",
        "outputId": "35a577ad-428d-4a7e-fc80-5d25b5d3d976"
      },
      "execution_count": null,
      "outputs": [
        {
          "output_type": "error",
          "ename": "FileNotFoundError",
          "evalue": "ignored",
          "traceback": [
            "\u001b[0;31m---------------------------------------------------------------------------\u001b[0m",
            "\u001b[0;31mFileNotFoundError\u001b[0m                         Traceback (most recent call last)",
            "\u001b[0;32m<ipython-input-8-325a96fbae73>\u001b[0m in \u001b[0;36m<cell line: 2>\u001b[0;34m()\u001b[0m\n\u001b[1;32m      1\u001b[0m \u001b[0;32mimport\u001b[0m \u001b[0mpandas\u001b[0m \u001b[0;32mas\u001b[0m \u001b[0mpd\u001b[0m\u001b[0;34m\u001b[0m\u001b[0;34m\u001b[0m\u001b[0m\n\u001b[0;32m----> 2\u001b[0;31m \u001b[0ma\u001b[0m \u001b[0;34m=\u001b[0m \u001b[0mpd\u001b[0m\u001b[0;34m.\u001b[0m\u001b[0mread_excel\u001b[0m\u001b[0;34m(\u001b[0m\u001b[0;34m\"/content/drive/MyDrive/ADITYA (116) Salary emp 2.0.xlsx\"\u001b[0m\u001b[0;34m)\u001b[0m\u001b[0;34m\u001b[0m\u001b[0;34m\u001b[0m\u001b[0m\n\u001b[0m\u001b[1;32m      3\u001b[0m \u001b[0mb\u001b[0m \u001b[0;34m=\u001b[0m \u001b[0mpd\u001b[0m\u001b[0;34m.\u001b[0m\u001b[0mread_excel\u001b[0m\u001b[0;34m(\u001b[0m\u001b[0;34m\"/content/drive/MyDrive/ADITYA EDS Excel Employee (116) 2.0.xlsx\"\u001b[0m\u001b[0;34m)\u001b[0m\u001b[0;34m\u001b[0m\u001b[0;34m\u001b[0m\u001b[0m\n\u001b[1;32m      4\u001b[0m \u001b[0;34m\u001b[0m\u001b[0m\n\u001b[1;32m      5\u001b[0m \u001b[0mc\u001b[0m \u001b[0;34m=\u001b[0m \u001b[0mpd\u001b[0m\u001b[0;34m.\u001b[0m\u001b[0mmerge\u001b[0m\u001b[0;34m(\u001b[0m\u001b[0ma\u001b[0m\u001b[0;34m,\u001b[0m\u001b[0mb\u001b[0m\u001b[0;34m)\u001b[0m\u001b[0;34m\u001b[0m\u001b[0;34m\u001b[0m\u001b[0m\n",
            "\u001b[0;32m/usr/local/lib/python3.10/dist-packages/pandas/util/_decorators.py\u001b[0m in \u001b[0;36mwrapper\u001b[0;34m(*args, **kwargs)\u001b[0m\n\u001b[1;32m    209\u001b[0m                 \u001b[0;32melse\u001b[0m\u001b[0;34m:\u001b[0m\u001b[0;34m\u001b[0m\u001b[0;34m\u001b[0m\u001b[0m\n\u001b[1;32m    210\u001b[0m                     \u001b[0mkwargs\u001b[0m\u001b[0;34m[\u001b[0m\u001b[0mnew_arg_name\u001b[0m\u001b[0;34m]\u001b[0m \u001b[0;34m=\u001b[0m \u001b[0mnew_arg_value\u001b[0m\u001b[0;34m\u001b[0m\u001b[0;34m\u001b[0m\u001b[0m\n\u001b[0;32m--> 211\u001b[0;31m             \u001b[0;32mreturn\u001b[0m \u001b[0mfunc\u001b[0m\u001b[0;34m(\u001b[0m\u001b[0;34m*\u001b[0m\u001b[0margs\u001b[0m\u001b[0;34m,\u001b[0m \u001b[0;34m**\u001b[0m\u001b[0mkwargs\u001b[0m\u001b[0;34m)\u001b[0m\u001b[0;34m\u001b[0m\u001b[0;34m\u001b[0m\u001b[0m\n\u001b[0m\u001b[1;32m    212\u001b[0m \u001b[0;34m\u001b[0m\u001b[0m\n\u001b[1;32m    213\u001b[0m         \u001b[0;32mreturn\u001b[0m \u001b[0mcast\u001b[0m\u001b[0;34m(\u001b[0m\u001b[0mF\u001b[0m\u001b[0;34m,\u001b[0m \u001b[0mwrapper\u001b[0m\u001b[0;34m)\u001b[0m\u001b[0;34m\u001b[0m\u001b[0;34m\u001b[0m\u001b[0m\n",
            "\u001b[0;32m/usr/local/lib/python3.10/dist-packages/pandas/util/_decorators.py\u001b[0m in \u001b[0;36mwrapper\u001b[0;34m(*args, **kwargs)\u001b[0m\n\u001b[1;32m    329\u001b[0m                     \u001b[0mstacklevel\u001b[0m\u001b[0;34m=\u001b[0m\u001b[0mfind_stack_level\u001b[0m\u001b[0;34m(\u001b[0m\u001b[0;34m)\u001b[0m\u001b[0;34m,\u001b[0m\u001b[0;34m\u001b[0m\u001b[0;34m\u001b[0m\u001b[0m\n\u001b[1;32m    330\u001b[0m                 )\n\u001b[0;32m--> 331\u001b[0;31m             \u001b[0;32mreturn\u001b[0m \u001b[0mfunc\u001b[0m\u001b[0;34m(\u001b[0m\u001b[0;34m*\u001b[0m\u001b[0margs\u001b[0m\u001b[0;34m,\u001b[0m \u001b[0;34m**\u001b[0m\u001b[0mkwargs\u001b[0m\u001b[0;34m)\u001b[0m\u001b[0;34m\u001b[0m\u001b[0;34m\u001b[0m\u001b[0m\n\u001b[0m\u001b[1;32m    332\u001b[0m \u001b[0;34m\u001b[0m\u001b[0m\n\u001b[1;32m    333\u001b[0m         \u001b[0;31m# error: \"Callable[[VarArg(Any), KwArg(Any)], Any]\" has no\u001b[0m\u001b[0;34m\u001b[0m\u001b[0;34m\u001b[0m\u001b[0m\n",
            "\u001b[0;32m/usr/local/lib/python3.10/dist-packages/pandas/io/excel/_base.py\u001b[0m in \u001b[0;36mread_excel\u001b[0;34m(io, sheet_name, header, names, index_col, usecols, squeeze, dtype, engine, converters, true_values, false_values, skiprows, nrows, na_values, keep_default_na, na_filter, verbose, parse_dates, date_parser, thousands, decimal, comment, skipfooter, convert_float, mangle_dupe_cols, storage_options)\u001b[0m\n\u001b[1;32m    480\u001b[0m     \u001b[0;32mif\u001b[0m \u001b[0;32mnot\u001b[0m \u001b[0misinstance\u001b[0m\u001b[0;34m(\u001b[0m\u001b[0mio\u001b[0m\u001b[0;34m,\u001b[0m \u001b[0mExcelFile\u001b[0m\u001b[0;34m)\u001b[0m\u001b[0;34m:\u001b[0m\u001b[0;34m\u001b[0m\u001b[0;34m\u001b[0m\u001b[0m\n\u001b[1;32m    481\u001b[0m         \u001b[0mshould_close\u001b[0m \u001b[0;34m=\u001b[0m \u001b[0;32mTrue\u001b[0m\u001b[0;34m\u001b[0m\u001b[0;34m\u001b[0m\u001b[0m\n\u001b[0;32m--> 482\u001b[0;31m         \u001b[0mio\u001b[0m \u001b[0;34m=\u001b[0m \u001b[0mExcelFile\u001b[0m\u001b[0;34m(\u001b[0m\u001b[0mio\u001b[0m\u001b[0;34m,\u001b[0m \u001b[0mstorage_options\u001b[0m\u001b[0;34m=\u001b[0m\u001b[0mstorage_options\u001b[0m\u001b[0;34m,\u001b[0m \u001b[0mengine\u001b[0m\u001b[0;34m=\u001b[0m\u001b[0mengine\u001b[0m\u001b[0;34m)\u001b[0m\u001b[0;34m\u001b[0m\u001b[0;34m\u001b[0m\u001b[0m\n\u001b[0m\u001b[1;32m    483\u001b[0m     \u001b[0;32melif\u001b[0m \u001b[0mengine\u001b[0m \u001b[0;32mand\u001b[0m \u001b[0mengine\u001b[0m \u001b[0;34m!=\u001b[0m \u001b[0mio\u001b[0m\u001b[0;34m.\u001b[0m\u001b[0mengine\u001b[0m\u001b[0;34m:\u001b[0m\u001b[0;34m\u001b[0m\u001b[0;34m\u001b[0m\u001b[0m\n\u001b[1;32m    484\u001b[0m         raise ValueError(\n",
            "\u001b[0;32m/usr/local/lib/python3.10/dist-packages/pandas/io/excel/_base.py\u001b[0m in \u001b[0;36m__init__\u001b[0;34m(self, path_or_buffer, engine, storage_options)\u001b[0m\n\u001b[1;32m   1650\u001b[0m                 \u001b[0mext\u001b[0m \u001b[0;34m=\u001b[0m \u001b[0;34m\"xls\"\u001b[0m\u001b[0;34m\u001b[0m\u001b[0;34m\u001b[0m\u001b[0m\n\u001b[1;32m   1651\u001b[0m             \u001b[0;32melse\u001b[0m\u001b[0;34m:\u001b[0m\u001b[0;34m\u001b[0m\u001b[0;34m\u001b[0m\u001b[0m\n\u001b[0;32m-> 1652\u001b[0;31m                 ext = inspect_excel_format(\n\u001b[0m\u001b[1;32m   1653\u001b[0m                     \u001b[0mcontent_or_path\u001b[0m\u001b[0;34m=\u001b[0m\u001b[0mpath_or_buffer\u001b[0m\u001b[0;34m,\u001b[0m \u001b[0mstorage_options\u001b[0m\u001b[0;34m=\u001b[0m\u001b[0mstorage_options\u001b[0m\u001b[0;34m\u001b[0m\u001b[0;34m\u001b[0m\u001b[0m\n\u001b[1;32m   1654\u001b[0m                 )\n",
            "\u001b[0;32m/usr/local/lib/python3.10/dist-packages/pandas/io/excel/_base.py\u001b[0m in \u001b[0;36minspect_excel_format\u001b[0;34m(content_or_path, storage_options)\u001b[0m\n\u001b[1;32m   1523\u001b[0m         \u001b[0mcontent_or_path\u001b[0m \u001b[0;34m=\u001b[0m \u001b[0mBytesIO\u001b[0m\u001b[0;34m(\u001b[0m\u001b[0mcontent_or_path\u001b[0m\u001b[0;34m)\u001b[0m\u001b[0;34m\u001b[0m\u001b[0;34m\u001b[0m\u001b[0m\n\u001b[1;32m   1524\u001b[0m \u001b[0;34m\u001b[0m\u001b[0m\n\u001b[0;32m-> 1525\u001b[0;31m     with get_handle(\n\u001b[0m\u001b[1;32m   1526\u001b[0m         \u001b[0mcontent_or_path\u001b[0m\u001b[0;34m,\u001b[0m \u001b[0;34m\"rb\"\u001b[0m\u001b[0;34m,\u001b[0m \u001b[0mstorage_options\u001b[0m\u001b[0;34m=\u001b[0m\u001b[0mstorage_options\u001b[0m\u001b[0;34m,\u001b[0m \u001b[0mis_text\u001b[0m\u001b[0;34m=\u001b[0m\u001b[0;32mFalse\u001b[0m\u001b[0;34m\u001b[0m\u001b[0;34m\u001b[0m\u001b[0m\n\u001b[1;32m   1527\u001b[0m     ) as handle:\n",
            "\u001b[0;32m/usr/local/lib/python3.10/dist-packages/pandas/io/common.py\u001b[0m in \u001b[0;36mget_handle\u001b[0;34m(path_or_buf, mode, encoding, compression, memory_map, is_text, errors, storage_options)\u001b[0m\n\u001b[1;32m    863\u001b[0m         \u001b[0;32melse\u001b[0m\u001b[0;34m:\u001b[0m\u001b[0;34m\u001b[0m\u001b[0;34m\u001b[0m\u001b[0m\n\u001b[1;32m    864\u001b[0m             \u001b[0;31m# Binary mode\u001b[0m\u001b[0;34m\u001b[0m\u001b[0;34m\u001b[0m\u001b[0m\n\u001b[0;32m--> 865\u001b[0;31m             \u001b[0mhandle\u001b[0m \u001b[0;34m=\u001b[0m \u001b[0mopen\u001b[0m\u001b[0;34m(\u001b[0m\u001b[0mhandle\u001b[0m\u001b[0;34m,\u001b[0m \u001b[0mioargs\u001b[0m\u001b[0;34m.\u001b[0m\u001b[0mmode\u001b[0m\u001b[0;34m)\u001b[0m\u001b[0;34m\u001b[0m\u001b[0;34m\u001b[0m\u001b[0m\n\u001b[0m\u001b[1;32m    866\u001b[0m         \u001b[0mhandles\u001b[0m\u001b[0;34m.\u001b[0m\u001b[0mappend\u001b[0m\u001b[0;34m(\u001b[0m\u001b[0mhandle\u001b[0m\u001b[0;34m)\u001b[0m\u001b[0;34m\u001b[0m\u001b[0;34m\u001b[0m\u001b[0m\n\u001b[1;32m    867\u001b[0m \u001b[0;34m\u001b[0m\u001b[0m\n",
            "\u001b[0;31mFileNotFoundError\u001b[0m: [Errno 2] No such file or directory: '/content/drive/MyDrive/ADITYA (116) Salary emp 2.0.xlsx'"
          ]
        }
      ]
    },
    {
      "cell_type": "code",
      "source": [
        "l1=[1,2,3,\"ABC\"]\n",
        "l2=[10,20,30,23.12]\n",
        "a = [*l1,*l2]\n",
        "b = [l1,l2]\n",
        "\n",
        "print(a)\n",
        "print(b)"
      ],
      "metadata": {
        "colab": {
          "base_uri": "https://localhost:8080/"
        },
        "id": "5UImYQdoplCh",
        "outputId": "66bb6e9f-1518-4dd1-b113-132b6ef85f78"
      },
      "execution_count": null,
      "outputs": [
        {
          "output_type": "stream",
          "name": "stdout",
          "text": [
            "[1, 2, 3, 'ABC', 10, 20, 30, 23.12]\n",
            "[[1, 2, 3, 'ABC'], [10, 20, 30, 23.12]]\n"
          ]
        }
      ]
    },
    {
      "cell_type": "code",
      "source": [
        "d = float(input(\"enter currency\"))\n",
        "s = d*85\n",
        "print(round(s,2))"
      ],
      "metadata": {
        "colab": {
          "base_uri": "https://localhost:8080/"
        },
        "id": "UKSrUgsDp561",
        "outputId": "e7288584-79cd-4fba-8206-a7ba938aeca2"
      },
      "execution_count": null,
      "outputs": [
        {
          "output_type": "stream",
          "name": "stdout",
          "text": [
            "enter currency200\n",
            "17000.0\n"
          ]
        }
      ]
    },
    {
      "cell_type": "markdown",
      "source": [
        "# 4/may/2023"
      ],
      "metadata": {
        "id": "6aZH9i_XMAOx"
      }
    },
    {
      "cell_type": "code",
      "source": [
        "my_list = [1,2,3,4,5,6,7,8,9,10]\n",
        "alt_list1 = my_list[-1::-3]\n",
        "alt_list2 = my_list[-1::-2]\n",
        "print(alt_list1)\n",
        "print(alt_list2)"
      ],
      "metadata": {
        "colab": {
          "base_uri": "https://localhost:8080/"
        },
        "id": "IHwHVeW8MJFp",
        "outputId": "d5ddb5e9-d870-4914-a159-fad2c3bea410"
      },
      "execution_count": null,
      "outputs": [
        {
          "output_type": "stream",
          "name": "stdout",
          "text": [
            "[10, 7, 4, 1]\n",
            "[10, 8, 6, 4, 2]\n"
          ]
        }
      ]
    },
    {
      "cell_type": "code",
      "source": [
        "import csv\n",
        "file = open(\"/content/drive/MyDrive/1. salary csv 2.csv\",\"r\")\n",
        "data = list(csv.reader(file))\n",
        "data.sort()\n",
        "print(data)\n",
        "file.close()\n",
        "file1 = open(\"/content/drive/MyDrive/2. emp csv 2.csv\",\"r\")\n",
        "data1 = list(csv.reader(file1))\n",
        "print(data1)\n",
        "#merging two files\n",
        "data2 = []\n",
        "for i in range(len(data)):\n",
        "    data2.append(data[i]+data[i])\n",
        "print(data2)\n",
        "print(data2[0])\n",
        "\n",
        "\n",
        "#sorting as per records\n",
        "data2.sort()\n",
        "print(data2)\n",
        "\n",
        "#converting list to csv file\n",
        "file2 = open(\"\")\n",
        "cw = csv.writer(file2)\n",
        "cw.writer(data2)\n",
        "\n",
        "#file.close()\n",
        "file1.close()\n",
        "file2.close()\n"
      ],
      "metadata": {
        "colab": {
          "base_uri": "https://localhost:8080/",
          "height": 289
        },
        "id": "wYqShrawSP3t",
        "outputId": "991c82aa-7d8e-43e9-b6c4-62f41581c6db"
      },
      "execution_count": null,
      "outputs": [
        {
          "output_type": "stream",
          "name": "stdout",
          "text": [
            "[['1', 'Ganesh ', '1001', '25000'], ['10', 'Vijay', '1010', '100000'], ['2', 'Kartik', '1002', '40000'], ['3', 'Veera', '1003', '80000'], ['4', 'Sanskruti', '1004', '60000'], ['5', 'Archana', '1005', '50000'], ['6', 'Aradhana', '1006', '30000'], ['7', 'Pratham', '1007', '15000'], ['8', 'Sayali', '1008', '55000'], ['9', 'Smruti', '1009', '80000'], ['Sr no.', 'Emp Name', 'Emp id', 'Salary']]\n",
            "[['Sr no.', 'Emp Name', 'Emp id', 'Date', 'Leaves'], ['1', 'Ganesh ', '1001', '21/1/2023', '2'], ['2', 'Kartik', '1002', '22/1/2023', '4'], ['3', 'Veera', '1003', '23/1/2023', '8'], ['4', 'Sanskruti', '1004', '24/1/2023', '6'], ['5', 'Archana', '1005', '25/1/2023', '1'], ['6', 'Aradhana', '1006', '26/1/2023', '2'], ['7', 'Pratham', '1007', '27/1/2023', '3'], ['8', 'Sayali', '1008', '28/1/2023', '5'], ['9', 'Smruti', '1009', '29/1/2023', '9'], ['10', 'Vijay', '1010', '30/1/2023', '7']]\n"
          ]
        },
        {
          "output_type": "error",
          "ename": "TypeError",
          "evalue": "ignored",
          "traceback": [
            "\u001b[0;31m---------------------------------------------------------------------------\u001b[0m",
            "\u001b[0;31mTypeError\u001b[0m                                 Traceback (most recent call last)",
            "\u001b[0;32m<ipython-input-21-80790ce212fc>\u001b[0m in \u001b[0;36m<cell line: 12>\u001b[0;34m()\u001b[0m\n\u001b[1;32m     10\u001b[0m \u001b[0;31m#merging two files\u001b[0m\u001b[0;34m\u001b[0m\u001b[0;34m\u001b[0m\u001b[0m\n\u001b[1;32m     11\u001b[0m \u001b[0mdata2\u001b[0m \u001b[0;34m=\u001b[0m \u001b[0;34m[\u001b[0m\u001b[0;34m]\u001b[0m\u001b[0;34m\u001b[0m\u001b[0;34m\u001b[0m\u001b[0m\n\u001b[0;32m---> 12\u001b[0;31m \u001b[0;32mfor\u001b[0m \u001b[0mi\u001b[0m \u001b[0;32min\u001b[0m \u001b[0mrange\u001b[0m\u001b[0;34m(\u001b[0m\u001b[0mlen\u001b[0m\u001b[0;34m(\u001b[0m\u001b[0mdata\u001b[0m\u001b[0;34m)\u001b[0m\u001b[0;34m)\u001b[0m\u001b[0;34m:\u001b[0m\u001b[0;34m\u001b[0m\u001b[0;34m\u001b[0m\u001b[0m\n\u001b[0m\u001b[1;32m     13\u001b[0m     \u001b[0mdata2\u001b[0m\u001b[0;34m.\u001b[0m\u001b[0mappend\u001b[0m\u001b[0;34m(\u001b[0m\u001b[0mdata\u001b[0m\u001b[0;34m[\u001b[0m\u001b[0mi\u001b[0m\u001b[0;34m]\u001b[0m\u001b[0;34m+\u001b[0m\u001b[0mdata\u001b[0m\u001b[0;34m[\u001b[0m\u001b[0mi\u001b[0m\u001b[0;34m]\u001b[0m\u001b[0;34m)\u001b[0m\u001b[0;34m\u001b[0m\u001b[0;34m\u001b[0m\u001b[0m\n\u001b[1;32m     14\u001b[0m \u001b[0mprint\u001b[0m\u001b[0;34m(\u001b[0m\u001b[0mdata2\u001b[0m\u001b[0;34m)\u001b[0m\u001b[0;34m\u001b[0m\u001b[0;34m\u001b[0m\u001b[0m\n",
            "\u001b[0;31mTypeError\u001b[0m: 'int' object is not callable"
          ]
        }
      ]
    },
    {
      "cell_type": "markdown",
      "source": [
        "# **9/May/2023**      **//Operators//**"
      ],
      "metadata": {
        "id": "Tudpf021evHP"
      }
    },
    {
      "cell_type": "code",
      "source": [
        " # Relational operators\n",
        "\n",
        "a = 200\n",
        "b = 333\n",
        "\n",
        "print(a==b) # ==\n",
        "print(a!=b) # !=\n",
        "print(a>b)  # >\n",
        "print(a<b)  # <\n",
        "print(a>=b) # >=\n",
        "print(a<=b) # <=\n",
        "\n",
        "# Assignment Operators\n",
        "\n",
        "x = 20\n",
        "print(x)\n",
        "\n",
        "x = 20\n",
        "x += 2\n",
        "print(x)\n",
        "\n",
        "x = 20\n",
        "x -= 3\n",
        "print(x)\n",
        "\n",
        "x = 20\n",
        "x *= 5\n",
        "print(x)\n",
        "\n",
        "x = 20\n",
        "x /= 8\n",
        "print(x)\n",
        "\n",
        "x = 20\n",
        "x %= 3\n",
        "print(x)\n",
        "\n",
        "x = 20\n",
        "x //= 5\n",
        "print(x)\n",
        "\n",
        "x = 20\n",
        "x **= 2\n",
        "print(x)\n",
        "\n",
        "\n",
        "\n",
        "# Arithmetic Operators\n",
        "\n",
        "\n",
        "x = 20\n",
        "y = 10\n",
        "print(x+y)\n",
        "\n",
        "x = 20\n",
        "y = 10\n",
        "print(x-y)\n",
        "\n",
        "x = 20\n",
        "y = 10\n",
        "print(x*y)\n",
        "\n",
        "x = 20\n",
        "y = 10\n",
        "print(x/y)\n",
        "\n",
        "x = 20\n",
        "y = 10\n",
        "print(x%y)\n",
        "\n",
        "x = 20\n",
        "y = 3\n",
        "print(x**y)\n",
        "\n",
        "x = 20\n",
        "y = 3\n",
        "print(x//y)\n",
        "\n"
      ],
      "metadata": {
        "colab": {
          "base_uri": "https://localhost:8080/"
        },
        "id": "3TvlVgSRg_OB",
        "outputId": "f207842f-c873-4aff-98da-8ea137256c06"
      },
      "execution_count": null,
      "outputs": [
        {
          "output_type": "stream",
          "name": "stdout",
          "text": [
            "False\n",
            "True\n",
            "False\n",
            "True\n",
            "False\n",
            "True\n",
            "20\n",
            "22\n",
            "17\n",
            "100\n",
            "2.5\n",
            "2\n",
            "4\n",
            "400\n",
            "30\n",
            "10\n",
            "200\n",
            "2.0\n",
            "0\n",
            "8000\n",
            "6\n"
          ]
        }
      ]
    },
    {
      "cell_type": "code",
      "source": [
        "\n",
        "import pandas as pd\n",
        "df = pd.read_csv('/content/drive/MyDrive/2. emp csv 2.csv')\n",
        "a = df\n",
        "\n",
        "print(a.values.tolist()) # convert data frame into list\n",
        "\n",
        "df1 = pd.read_csv(r'/content/drive/MyDrive/1. salary csv 2.csv')\n",
        "#print(df1)\n",
        "\n",
        "l = list(df.itertuples(index=False))\n",
        "\n",
        "t1 = [tuple(x) for x in df1.values]\n",
        "#print(t1)\n",
        "\n",
        "d1 = df.to_dict()\n",
        "#print(d1)\n",
        "\n",
        "def freq(l):\n",
        "  counter = 0 # counter initialization\n",
        "  num = l[0]  # Index 0 of list l\n",
        "  for i in l:\n",
        "    cf = l.count(i)\n",
        "    if(cf>counter):\n",
        "      counter = cf\n",
        "      num = i\n",
        "      return 0\n",
        "print(freq(l))\n"
      ],
      "metadata": {
        "colab": {
          "base_uri": "https://localhost:8080/"
        },
        "id": "Qx4drB7Xs-9t",
        "outputId": "f4bb50f9-5a76-4ffc-a945-e950785df07f"
      },
      "execution_count": null,
      "outputs": [
        {
          "output_type": "stream",
          "name": "stdout",
          "text": [
            "[[1, 'Ganesh ', 1001, '21/1/2023', 2], [2, 'Kartik', 1002, '22/1/2023', 4], [3, 'Veera', 1003, '23/1/2023', 8], [4, 'Sanskruti', 1004, '24/1/2023', 6], [5, 'Archana', 1005, '25/1/2023', 1], [6, 'Aradhana', 1006, '26/1/2023', 2], [7, 'Pratham', 1007, '27/1/2023', 3], [8, 'Sayali', 1008, '28/1/2023', 5], [9, 'Smruti', 1009, '29/1/2023', 9], [10, 'Vijay', 1010, '30/1/2023', 7]]\n",
            "0\n"
          ]
        }
      ]
    },
    {
      "cell_type": "markdown",
      "source": [
        "# **math library and itertools  11/may/2023**"
      ],
      "metadata": {
        "id": "RAORqD5BYM-0"
      }
    },
    {
      "cell_type": "code",
      "source": [
        "#import math library\n",
        "import math\n",
        "\n",
        "#return the value of 9 raised to power of 3\n",
        "print(math.pow(9,3))"
      ],
      "metadata": {
        "colab": {
          "base_uri": "https://localhost:8080/"
        },
        "id": "9O6hUeSeYlmT",
        "outputId": "442abc83-94c1-4bda-a9d5-c6c0c516cf5d"
      },
      "execution_count": null,
      "outputs": [
        {
          "output_type": "stream",
          "name": "stdout",
          "text": [
            "729.0\n"
          ]
        }
      ]
    },
    {
      "cell_type": "code",
      "source": [
        "#itertools in python\n",
        "#python's itertool is a module that provides\n",
        "#various functions that work\n",
        "#on interators to produce complex iterations\n",
        "\n",
        "from itertools import count\n",
        "\n",
        "for number in count(start=5,step=3):\n",
        "    if number > 10:\n",
        "      break\n",
        "    print(number)"
      ],
      "metadata": {
        "colab": {
          "base_uri": "https://localhost:8080/"
        },
        "id": "CvauviboY-1I",
        "outputId": "63043ec0-b008-495c-e27d-62791f30e3fe"
      },
      "execution_count": null,
      "outputs": [
        {
          "output_type": "stream",
          "name": "stdout",
          "text": [
            "5\n",
            "8\n"
          ]
        }
      ]
    },
    {
      "cell_type": "code",
      "source": [
        "x = range(3,10)\n",
        "for n in x:\n",
        "  print(n)"
      ],
      "metadata": {
        "colab": {
          "base_uri": "https://localhost:8080/"
        },
        "id": "HTJulrqYZxkm",
        "outputId": "bc8a3336-0056-4d12-d23e-2f87ec61afc6"
      },
      "execution_count": null,
      "outputs": [
        {
          "output_type": "stream",
          "name": "stdout",
          "text": [
            "3\n",
            "4\n",
            "5\n",
            "6\n",
            "7\n",
            "8\n",
            "9\n"
          ]
        }
      ]
    },
    {
      "cell_type": "code",
      "source": [
        "#python implements decimal numbers as double\n",
        "#precision floating point number which are machine dependent\n",
        "import decimal\n",
        "float_division=22/7\n",
        "decimal_devision=decimal.Decimal(22)/decimal.Decimal(7)\n",
        "print(\"result for flote division of 4 by 3:\")\n",
        "print(float_division)\n",
        "print(\"result for decimal devision of 4 by 3:\")\n",
        "print(decimal_devision)"
      ],
      "metadata": {
        "colab": {
          "base_uri": "https://localhost:8080/"
        },
        "id": "dJBrWChAZ8dn",
        "outputId": "2ea4a363-fce9-4fa1-ec15-216affa61875"
      },
      "execution_count": null,
      "outputs": [
        {
          "output_type": "stream",
          "name": "stdout",
          "text": [
            "result for flote division of 4 by 3:\n",
            "3.142857142857143\n",
            "result for decimal devision of 4 by 3:\n",
            "3.142857142857142857142857143\n"
          ]
        }
      ]
    },
    {
      "cell_type": "code",
      "source": [
        "import decimal\n",
        "from decimal import Decimal\n",
        "x = Decimal('0.8')\n",
        "y = Decimal('0.9')\n",
        "z = Decimal('0.7')\n",
        "\n",
        "s =x+y+z\n",
        "print(s)"
      ],
      "metadata": {
        "colab": {
          "base_uri": "https://localhost:8080/"
        },
        "id": "npuNZseFbT7O",
        "outputId": "18bdeec3-5e36-484e-cdae-7bef6a17c1d7"
      },
      "execution_count": null,
      "outputs": [
        {
          "output_type": "stream",
          "name": "stdout",
          "text": [
            "2.4\n"
          ]
        }
      ]
    },
    {
      "cell_type": "code",
      "source": [
        "#fraction this module provides support for rational number arithmetic\n",
        "# it allows to create a fraction instance from intergers,\n",
        "\n",
        "# numbers, decimals  and strings\n",
        "\n",
        "from fractions import Fraction\n",
        "\n",
        "print(Fraction(84,21))\n",
        "\n",
        "print(Fraction(81,7))\n",
        "\n",
        "print(Fraction(23,17))"
      ],
      "metadata": {
        "colab": {
          "base_uri": "https://localhost:8080/"
        },
        "id": "KuLP4WYUb957",
        "outputId": "dd1e9b97-798c-4f3a-8e2b-aad33a9e4533"
      },
      "execution_count": null,
      "outputs": [
        {
          "output_type": "stream",
          "name": "stdout",
          "text": [
            "4\n",
            "81/7\n",
            "23/17\n"
          ]
        }
      ]
    },
    {
      "cell_type": "markdown",
      "source": [
        "## 23/May/2023     //NUMPY - ARRAY//"
      ],
      "metadata": {
        "id": "9Iexiubbmk6h"
      }
    },
    {
      "cell_type": "code",
      "source": [
        "#Array operations in python\n",
        "\n",
        "import pandas as pd\n",
        "import numpy as np\n",
        "\n",
        "df = pd.read_excel('/content/drive/MyDrive/ARRAY .xlsx',header=None)\n",
        "df1 = pd.read_excel('/content/drive/MyDrive/ARRAY 1.xlsx',header=None)\n",
        "\n",
        "array = df.to_numpy()\n",
        "array1 = df1.to_numpy()\n",
        "\n",
        "print(array)\n",
        "print(array1)"
      ],
      "metadata": {
        "colab": {
          "base_uri": "https://localhost:8080/"
        },
        "id": "k_WKpDexuFAu",
        "outputId": "255256bc-147b-4b30-b287-76ce1f5a4ab9"
      },
      "execution_count": null,
      "outputs": [
        {
          "output_type": "stream",
          "name": "stdout",
          "text": [
            "[['name' 'roll no.' 'marks']\n",
            " ['A' 1 20]\n",
            " ['B' 2 30]\n",
            " ['C' 3 20]\n",
            " ['D' 4 40]\n",
            " ['E' 5 50]\n",
            " ['F' 6 60]\n",
            " ['G' 7 52]\n",
            " ['H' 8 80]\n",
            " ['I' 9 63]\n",
            " ['J' 10 26]\n",
            " ['K' 11 23]\n",
            " ['L' 12 28]\n",
            " ['M' 13 90]]\n",
            "[['name' 'roll no.' 'marks']\n",
            " ['A' 1 20]\n",
            " ['B' 2 30]\n",
            " ['C' 3 20]\n",
            " ['D' 4 40]\n",
            " ['E' 5 50]\n",
            " ['F' 6 60]\n",
            " ['G' 7 52]\n",
            " ['H' 8 80]\n",
            " ['I' 9 63]\n",
            " ['J' 10 26]\n",
            " ['K' 11 23]\n",
            " ['L' 12 28]\n",
            " ['M' 13 90]]\n"
          ]
        }
      ]
    },
    {
      "cell_type": "code",
      "source": [
        "print(\"addition of matrix\")\n",
        "print(np.add(array,array1))"
      ],
      "metadata": {
        "colab": {
          "base_uri": "https://localhost:8080/"
        },
        "id": "VR98-OSUwwki",
        "outputId": "b9fefe5f-38c7-40c3-8c4b-5ce7f23dd65f"
      },
      "execution_count": null,
      "outputs": [
        {
          "output_type": "stream",
          "name": "stdout",
          "text": [
            "addition of matrix\n",
            "[['namename' 'roll no.roll no.' 'marksmarks']\n",
            " ['AA' 2 40]\n",
            " ['BB' 4 60]\n",
            " ['CC' 6 40]\n",
            " ['DD' 8 80]\n",
            " ['EE' 10 100]\n",
            " ['FF' 12 120]\n",
            " ['GG' 14 104]\n",
            " ['HH' 16 160]\n",
            " ['II' 18 126]\n",
            " ['JJ' 20 52]\n",
            " ['KK' 22 46]\n",
            " ['LL' 24 56]\n",
            " ['MM' 26 180]]\n"
          ]
        }
      ]
    },
    {
      "cell_type": "code",
      "source": [
        "matrix_len = len(array)\n",
        "print(matrix_len)"
      ],
      "metadata": {
        "colab": {
          "base_uri": "https://localhost:8080/"
        },
        "id": "wQQ4r7cDyv1F",
        "outputId": "5fbc602f-03a7-4c13-f0ae-a284d4a7a7c2"
      },
      "execution_count": null,
      "outputs": [
        {
          "output_type": "stream",
          "name": "stdout",
          "text": [
            "14\n"
          ]
        }
      ]
    },
    {
      "cell_type": "code",
      "source": [
        "#to read the last element from single row\n",
        "\n",
        "for i in range(matrix_len):\n",
        "  print(array[i][-1])"
      ],
      "metadata": {
        "colab": {
          "base_uri": "https://localhost:8080/"
        },
        "id": "TkiCxkVry5rV",
        "outputId": "92eacee2-3c4d-45ba-99f3-8df88d91745b"
      },
      "execution_count": null,
      "outputs": [
        {
          "output_type": "stream",
          "name": "stdout",
          "text": [
            "marks\n",
            "20\n",
            "30\n",
            "20\n",
            "40\n",
            "50\n",
            "60\n",
            "52\n",
            "80\n",
            "63\n",
            "26\n",
            "23\n",
            "28\n",
            "90\n"
          ]
        }
      ]
    },
    {
      "cell_type": "code",
      "source": [
        "# to read the last element from each row\n",
        "\n",
        "for i in range(matrix_len):\n",
        "  print(array[i])"
      ],
      "metadata": {
        "colab": {
          "base_uri": "https://localhost:8080/"
        },
        "id": "gFe8cdiZzJ8M",
        "outputId": "7f949915-6c19-4574-e6aa-40a07330be38"
      },
      "execution_count": null,
      "outputs": [
        {
          "output_type": "stream",
          "name": "stdout",
          "text": [
            "['name' 'roll no.' 'marks']\n",
            "['A' 1 20]\n",
            "['B' 2 30]\n",
            "['C' 3 20]\n",
            "['D' 4 40]\n",
            "['E' 5 50]\n",
            "['F' 6 60]\n",
            "['G' 7 52]\n",
            "['H' 8 80]\n",
            "['I' 9 63]\n",
            "['J' 10 26]\n",
            "['K' 11 23]\n",
            "['L' 12 28]\n",
            "['M' 13 90]\n"
          ]
        }
      ]
    },
    {
      "cell_type": "code",
      "source": [
        "print(array.T) # transpose"
      ],
      "metadata": {
        "colab": {
          "base_uri": "https://localhost:8080/"
        },
        "id": "W_mVy3Hizz29",
        "outputId": "64a855c4-b877-4fd5-caec-93a1f8b08cbc"
      },
      "execution_count": null,
      "outputs": [
        {
          "output_type": "stream",
          "name": "stdout",
          "text": [
            "[['name' 'A' 'B' 'C' 'D' 'E' 'F' 'G' 'H' 'I' 'J' 'K' 'L' 'M']\n",
            " ['roll no.' 1 2 3 4 5 6 7 8 9 10 11 12 13]\n",
            " ['marks' 20 30 20 40 50 60 52 80 63 26 23 28 90]]\n"
          ]
        }
      ]
    },
    {
      "cell_type": "code",
      "source": [
        "c = np.stack((array,array1),axis=0)\n",
        "print(c)"
      ],
      "metadata": {
        "colab": {
          "base_uri": "https://localhost:8080/"
        },
        "id": "ZftBi6RCz6Qy",
        "outputId": "b0863578-8d57-420c-902e-6b3330230a9e"
      },
      "execution_count": null,
      "outputs": [
        {
          "output_type": "stream",
          "name": "stdout",
          "text": [
            "[[['name' 'roll no.' 'marks']\n",
            "  ['A' 1 20]\n",
            "  ['B' 2 30]\n",
            "  ['C' 3 20]\n",
            "  ['D' 4 40]\n",
            "  ['E' 5 50]\n",
            "  ['F' 6 60]\n",
            "  ['G' 7 52]\n",
            "  ['H' 8 80]\n",
            "  ['I' 9 63]\n",
            "  ['J' 10 26]\n",
            "  ['K' 11 23]\n",
            "  ['L' 12 28]\n",
            "  ['M' 13 90]]\n",
            "\n",
            " [['name' 'roll no.' 'marks']\n",
            "  ['A' 1 20]\n",
            "  ['B' 2 30]\n",
            "  ['C' 3 20]\n",
            "  ['D' 4 40]\n",
            "  ['E' 5 50]\n",
            "  ['F' 6 60]\n",
            "  ['G' 7 52]\n",
            "  ['H' 8 80]\n",
            "  ['I' 9 63]\n",
            "  ['J' 10 26]\n",
            "  ['K' 11 23]\n",
            "  ['L' 12 28]\n",
            "  ['M' 13 90]]]\n"
          ]
        }
      ]
    },
    {
      "cell_type": "code",
      "source": [
        "array = array[:,array[0,:].argsort()]\n",
        "\n",
        "print(array)"
      ],
      "metadata": {
        "colab": {
          "base_uri": "https://localhost:8080/"
        },
        "id": "RdUKIrzw0GTP",
        "outputId": "2fd5a9d7-9590-4429-8d3a-d8bb5fa49b21"
      },
      "execution_count": null,
      "outputs": [
        {
          "output_type": "stream",
          "name": "stdout",
          "text": [
            "[['marks' 'name' 'roll no.']\n",
            " [20 'A' 1]\n",
            " [30 'B' 2]\n",
            " [20 'C' 3]\n",
            " [40 'D' 4]\n",
            " [50 'E' 5]\n",
            " [60 'F' 6]\n",
            " [52 'G' 7]\n",
            " [80 'H' 8]\n",
            " [63 'I' 9]\n",
            " [26 'J' 10]\n",
            " [23 'K' 11]\n",
            " [28 'L' 12]\n",
            " [90 'M' 13]]\n"
          ]
        }
      ]
    },
    {
      "cell_type": "code",
      "source": [
        "#shallow copy\n",
        "array3 = array1.view()\n",
        "print(array3)"
      ],
      "metadata": {
        "colab": {
          "base_uri": "https://localhost:8080/"
        },
        "id": "gxbm4DqK0iY5",
        "outputId": "e246e734-2adc-4fb0-c2b9-9fcc175816e9"
      },
      "execution_count": null,
      "outputs": [
        {
          "output_type": "stream",
          "name": "stdout",
          "text": [
            "[['name' 'roll no.' 'marks']\n",
            " ['A' 1 20]\n",
            " ['B' 2 30]\n",
            " ['C' 3 20]\n",
            " ['D' 4 40]\n",
            " ['E' 5 50]\n",
            " ['F' 6 60]\n",
            " ['G' 7 52]\n",
            " ['H' 8 80]\n",
            " ['I' 9 63]\n",
            " ['J' 10 26]\n",
            " ['K' 11 23]\n",
            " ['L' 12 28]\n",
            " ['M' 13 90]]\n"
          ]
        }
      ]
    },
    {
      "cell_type": "code",
      "source": [
        "#deep copy\n",
        "array4 = array1.copy()\n",
        "print(array4)"
      ],
      "metadata": {
        "colab": {
          "base_uri": "https://localhost:8080/"
        },
        "id": "PQJEKFkB0u2z",
        "outputId": "29864da0-a0ca-43a8-90d9-778accc6d9b8"
      },
      "execution_count": null,
      "outputs": [
        {
          "output_type": "stream",
          "name": "stdout",
          "text": [
            "[['name' 'roll no.' 'marks']\n",
            " ['A' 1 20]\n",
            " ['B' 2 30]\n",
            " ['C' 3 20]\n",
            " ['D' 4 40]\n",
            " ['E' 5 50]\n",
            " ['F' 6 60]\n",
            " ['G' 7 52]\n",
            " ['H' 8 80]\n",
            " ['I' 9 63]\n",
            " ['J' 10 26]\n",
            " ['K' 11 23]\n",
            " ['L' 12 28]\n",
            " ['M' 13 90]]\n"
          ]
        }
      ]
    },
    {
      "cell_type": "markdown",
      "source": [
        "# 25/May/2023"
      ],
      "metadata": {
        "id": "JLHFiFoVUXL1"
      }
    },
    {
      "cell_type": "code",
      "source": [
        "# vstack() - it performs vertical stacking along the rows\n",
        "# hstack() - it performs horizontal stacking along with the columns\n",
        "# dstack() - it performs in depth stacking along a new third axis\n",
        "\n",
        "# we use the vstack() function to sequentially stack array in a vertical\n",
        "# order i.e along the rows\n",
        "\n",
        "a = np.vstack(array)\n",
        "print(a)"
      ],
      "metadata": {
        "colab": {
          "base_uri": "https://localhost:8080/"
        },
        "id": "3fCHSqA9a-T-",
        "outputId": "3836e007-a36d-4063-f577-253816ce4f8c"
      },
      "execution_count": null,
      "outputs": [
        {
          "output_type": "stream",
          "name": "stdout",
          "text": [
            "[['name' 'roll no.' 'marks']\n",
            " ['A' 1 20]\n",
            " ['B' 2 30]\n",
            " ['C' 3 20]\n",
            " ['D' 4 40]\n",
            " ['E' 5 50]\n",
            " ['F' 6 60]\n",
            " ['G' 7 52]\n",
            " ['H' 8 80]\n",
            " ['I' 9 63]\n",
            " ['J' 10 26]\n",
            " ['K' 11 23]\n",
            " ['L' 12 28]\n",
            " ['M' 13 90]]\n"
          ]
        }
      ]
    },
    {
      "cell_type": "code",
      "source": [
        "# we use this function to sequentially stack arrays in horizontal order i.e along with the colums\n",
        "\n",
        "b = np.hstack(array1)\n",
        "print(b)"
      ],
      "metadata": {
        "colab": {
          "base_uri": "https://localhost:8080/"
        },
        "id": "rPz6lcfxcIzF",
        "outputId": "8bbbe18c-1325-447b-8013-65e0235bba93"
      },
      "execution_count": null,
      "outputs": [
        {
          "output_type": "stream",
          "name": "stdout",
          "text": [
            "['name' 'roll no.' 'marks' 'A' 1 20 'B' 2 30 'C' 3 20 'D' 4 40 'E' 5 50\n",
            " 'F' 6 60 'G' 7 52 'H' 8 80 'I' 9 63 'J' 10 26 'K' 11 23 'L' 12 28 'M' 13\n",
            " 90]\n"
          ]
        }
      ]
    },
    {
      "cell_type": "code",
      "source": [
        "# this function is for stacking the arrays along depth\n",
        "# the resultant array is along a third new dimension\n",
        "\n",
        "c = np.dstack(array)\n",
        "print(c)"
      ],
      "metadata": {
        "colab": {
          "base_uri": "https://localhost:8080/"
        },
        "id": "Eiyudo9WcdBX",
        "outputId": "77e71ad3-3e42-4e1d-cf9e-ba58ae323713"
      },
      "execution_count": null,
      "outputs": [
        {
          "output_type": "stream",
          "name": "stdout",
          "text": [
            "[[['name' 'A' 'B' 'C' 'D' 'E' 'F' 'G' 'H' 'I' 'J' 'K' 'L' 'M']\n",
            "  ['roll no.' 1 2 3 4 5 6 7 8 9 10 11 12 13]\n",
            "  ['marks' 20 30 20 40 50 60 52 80 63 26 23 28 90]]]\n"
          ]
        }
      ]
    },
    {
      "cell_type": "code",
      "source": [
        "# python defines a set of function that are used to generate or manipulate random numbers through the random module.\n",
        "# random generates random numbers\n",
        "# random.randint(low,high=None,size=None,dtype=int)\n",
        "\n",
        "array = np.random.randint(0,3,(20,20))\n",
        "\n",
        "\n",
        "zeros = np.sum(array == 0)\n",
        "ones = np.sum(array == 1)\n",
        "twos = np.sum(array == 2)\n",
        "\n",
        "print(zeros)\n",
        "print(ones)\n",
        "print(twos)\n",
        "\n",
        "# numpy array rowwise stacking\n",
        "arr_stacked = np.stack([array,array])\n",
        "print('numpy horizontal stacking method #1')\n",
        "print('-----------------------------------')\n",
        "print(arr_stacked)"
      ],
      "metadata": {
        "colab": {
          "base_uri": "https://localhost:8080/"
        },
        "id": "FkGc7N7WcuVG",
        "outputId": "179f0130-1df4-42c3-ebc9-ffec3720467d"
      },
      "execution_count": null,
      "outputs": [
        {
          "output_type": "stream",
          "name": "stdout",
          "text": [
            "126\n",
            "141\n",
            "133\n",
            "numpy horizontal stacking method #1\n",
            "-----------------------------------\n",
            "[[[2 1 1 2 0 2 1 1 0 1 1 2 2 1 1 1 2 1 0 0]\n",
            "  [1 2 1 2 2 0 2 0 2 1 1 0 0 0 2 0 0 2 0 1]\n",
            "  [0 0 1 1 1 0 0 1 2 2 1 2 2 2 2 1 1 0 1 1]\n",
            "  [1 0 0 0 1 1 1 0 0 0 0 2 2 1 2 2 1 1 0 1]\n",
            "  [2 0 2 2 1 2 0 0 0 1 1 1 1 0 1 0 0 1 0 1]\n",
            "  [2 0 0 1 0 2 0 2 0 2 1 1 1 1 1 1 2 2 2 1]\n",
            "  [2 1 0 0 1 1 1 2 2 0 0 0 1 0 0 2 0 0 0 0]\n",
            "  [1 0 0 2 0 1 2 1 0 2 2 2 2 2 2 1 0 0 2 2]\n",
            "  [1 0 1 0 0 1 1 2 1 1 1 0 1 1 2 2 2 0 0 1]\n",
            "  [1 2 1 2 2 1 0 0 0 2 2 1 1 0 2 2 2 0 0 1]\n",
            "  [2 0 0 1 2 0 2 2 2 2 2 2 1 0 0 0 2 2 2 0]\n",
            "  [1 0 2 0 0 0 2 2 1 1 1 0 0 1 0 0 0 2 1 1]\n",
            "  [1 2 0 2 1 2 2 2 1 2 1 2 2 1 0 2 2 1 0 2]\n",
            "  [0 1 1 0 2 0 1 0 0 0 0 2 2 2 1 1 1 1 0 2]\n",
            "  [2 0 2 1 1 1 0 0 2 2 2 1 0 2 0 2 1 1 1 0]\n",
            "  [0 2 0 0 1 2 2 2 2 1 2 1 1 2 1 1 0 2 0 2]\n",
            "  [0 1 1 0 1 2 0 2 2 2 1 2 0 2 0 1 1 2 2 1]\n",
            "  [1 1 1 2 0 2 1 1 1 1 2 1 2 0 1 2 1 1 1 1]\n",
            "  [2 0 2 1 2 1 1 0 1 1 1 0 1 1 0 2 0 2 0 1]\n",
            "  [2 0 2 2 2 1 1 0 0 0 1 2 0 1 0 0 2 0 2 2]]\n",
            "\n",
            " [[2 1 1 2 0 2 1 1 0 1 1 2 2 1 1 1 2 1 0 0]\n",
            "  [1 2 1 2 2 0 2 0 2 1 1 0 0 0 2 0 0 2 0 1]\n",
            "  [0 0 1 1 1 0 0 1 2 2 1 2 2 2 2 1 1 0 1 1]\n",
            "  [1 0 0 0 1 1 1 0 0 0 0 2 2 1 2 2 1 1 0 1]\n",
            "  [2 0 2 2 1 2 0 0 0 1 1 1 1 0 1 0 0 1 0 1]\n",
            "  [2 0 0 1 0 2 0 2 0 2 1 1 1 1 1 1 2 2 2 1]\n",
            "  [2 1 0 0 1 1 1 2 2 0 0 0 1 0 0 2 0 0 0 0]\n",
            "  [1 0 0 2 0 1 2 1 0 2 2 2 2 2 2 1 0 0 2 2]\n",
            "  [1 0 1 0 0 1 1 2 1 1 1 0 1 1 2 2 2 0 0 1]\n",
            "  [1 2 1 2 2 1 0 0 0 2 2 1 1 0 2 2 2 0 0 1]\n",
            "  [2 0 0 1 2 0 2 2 2 2 2 2 1 0 0 0 2 2 2 0]\n",
            "  [1 0 2 0 0 0 2 2 1 1 1 0 0 1 0 0 0 2 1 1]\n",
            "  [1 2 0 2 1 2 2 2 1 2 1 2 2 1 0 2 2 1 0 2]\n",
            "  [0 1 1 0 2 0 1 0 0 0 0 2 2 2 1 1 1 1 0 2]\n",
            "  [2 0 2 1 1 1 0 0 2 2 2 1 0 2 0 2 1 1 1 0]\n",
            "  [0 2 0 0 1 2 2 2 2 1 2 1 1 2 1 1 0 2 0 2]\n",
            "  [0 1 1 0 1 2 0 2 2 2 1 2 0 2 0 1 1 2 2 1]\n",
            "  [1 1 1 2 0 2 1 1 1 1 2 1 2 0 1 2 1 1 1 1]\n",
            "  [2 0 2 1 2 1 1 0 1 1 1 0 1 1 0 2 0 2 0 1]\n",
            "  [2 0 2 2 2 1 1 0 0 0 1 2 0 1 0 0 2 0 2 2]]]\n"
          ]
        }
      ]
    },
    {
      "cell_type": "markdown",
      "source": [
        "#**GRAIN**"
      ],
      "metadata": {
        "id": "9eAaMncwnXMg"
      }
    },
    {
      "cell_type": "code",
      "source": [
        "import pandas as pd\n",
        "\n",
        "df1 = pd.read_excel('/content/drive/MyDrive/ARRAY .xlsx')\n",
        "data = df1.values.tolist()\n",
        "\n",
        "a = df1['name']\n",
        "b = df1['marks']\n",
        "\n",
        "df1.marks = df1.marks.astype('int64')\n",
        "\n",
        "d = df1['name'][df1.marks >50]\n",
        "\n",
        "def student(a,b):\n",
        "  print('student :', a, b)\n",
        "student(a,b)"
      ],
      "metadata": {
        "colab": {
          "base_uri": "https://localhost:8080/"
        },
        "outputId": "274bb407-0335-4de2-a589-a9b538a03998",
        "id": "JzZuV3JnrGJ-"
      },
      "execution_count": null,
      "outputs": [
        {
          "output_type": "stream",
          "name": "stdout",
          "text": [
            "student : 0     A\n",
            "1     B\n",
            "2     C\n",
            "3     D\n",
            "4     E\n",
            "5     F\n",
            "6     G\n",
            "7     H\n",
            "8     I\n",
            "9     J\n",
            "10    K\n",
            "11    L\n",
            "12    M\n",
            "Name: name, dtype: object 0     20\n",
            "1     30\n",
            "2     20\n",
            "3     40\n",
            "4     50\n",
            "5     60\n",
            "6     52\n",
            "7     80\n",
            "8     63\n",
            "9     26\n",
            "10    23\n",
            "11    28\n",
            "12    90\n",
            "Name: marks, dtype: int64\n"
          ]
        }
      ]
    },
    {
      "cell_type": "markdown",
      "source": [
        "# MATPLOTLIB"
      ],
      "metadata": {
        "id": "z_hWC83Ax8OZ"
      }
    },
    {
      "cell_type": "code",
      "source": [
        "import numpy as np\n",
        "import pandas as pd\n",
        "import matplotlib.pyplot as plt\n",
        "excel_file_path = \"/content/drive/MyDrive/metro_system.xlsx\"\n",
        "\n",
        "# Read the Excel file into a pandas DataFrame\n",
        "data_frame = pd.read_excel(excel_file_path)\n",
        "\n",
        "# Convert the DataFrame to a NumPy array\n",
        "array_data = np.array(data_frame)\n",
        "\n",
        "# Extract two specific columns as separate arrays\n",
        "x = np.array(data_frame[\"System length\"])\n",
        "y = np.array(data_frame[\"Stations\"])\n",
        "\n",
        "# Print the entire array\n",
        "print(array_data)\n",
        "\n",
        "# Print the extracted column arrays\n",
        "print(x)\n",
        "print(y)\n",
        "\n",
        "# Plot the data\n",
        "plt.plot(x, y, marker=\"o\")\n",
        "plt.xlabel(\"System length\")\n",
        "plt.ylabel(\"Stations\")\n",
        "plt.title(\"Graph of Column1 vs Column2\")\n",
        "\n",
        "# Display the graph\n",
        "plt.show()\n",
        "\n",
        "\n"
      ],
      "metadata": {
        "colab": {
          "base_uri": "https://localhost:8080/",
          "height": 1000
        },
        "id": "ReHnMz05x5FZ",
        "outputId": "1f5833f2-c2ed-460c-ff8c-8fbdc2e084c1"
      },
      "execution_count": null,
      "outputs": [
        {
          "output_type": "stream",
          "name": "stdout",
          "text": [
            "[['Algiers' 'Algeria' 'Algiers Metro' ... 19 '18.5\\xa0km (11.5\\xa0mi)'\n",
            "  '45.3 (2019)']\n",
            " ['Buenos Aires' 'Argentina' 'Buenos Aires Underground' ... 78\n",
            "  '56.7\\xa0km (35.2\\xa0mi)' '74.0 (2020)']\n",
            " ['Yerevan' 'Armenia' 'Yerevan Metro' ... 10 '12.1\\xa0km (7.5\\xa0mi)'\n",
            "  '23.3 (2022)']\n",
            " ...\n",
            " ['Tashkent' 'Uzbekistan' 'Tashkent Metro' ... 48\n",
            "  '59.1\\xa0km (36.7\\xa0mi)' '136.7 (2022)']\n",
            " ['Caracas' 'Venezuela' 'Caracas Metro' ... 49 '67.2\\xa0km (41.8\\xa0mi)'\n",
            "  '358 (2017)']\n",
            " ['Hanoi' 'Vietnam' 'Hanoi Metro' ... 12 '13.1\\xa0km (8.1\\xa0mi)' 7.5]]\n",
            "['18.5\\xa0km (11.5\\xa0mi)' '56.7\\xa0km (35.2\\xa0mi)'\n",
            " '12.1\\xa0km (7.5\\xa0mi)' '36\\xa0km (22\\xa0mi)' '83.3\\xa0km (51.8\\xa0mi)'\n",
            " '40.7\\xa0km (25.3\\xa0mi)' '11.7\\xa0km (7.3\\xa0mi)'\n",
            " '40.8\\xa0km (25.4\\xa0mi)' '39.9\\xa0km (24.8\\xa0mi)'\n",
            " '28.1\\xa0km (17.5\\xa0mi)' '42.38\\xa0km (26.33\\xa0mi)'\n",
            " '24.1\\xa0km (15.0\\xa0mi)' '43.8\\xa0km (27.2\\xa0mi)'\n",
            " '39.5\\xa0km (24.5\\xa0mi)' '58\\xa0km (36\\xa0mi)' '32.5\\xa0km (20.2\\xa0mi)'\n",
            " '104.4\\xa0km (64.9\\xa0mi)' '52\\xa0km (32\\xa0mi)'\n",
            " '69.2\\xa0km (43.0\\xa0mi)' '76.9\\xa0km (47.8\\xa0mi)'\n",
            " '79.6\\xa0km (49.5\\xa0mi)' '140\\xa0km (87\\xa0mi)'\n",
            " '785.7\\xa0km (488.2\\xa0mi)' '72.6\\xa0km (45.1\\xa0mi)'\n",
            " '207.9\\xa0km (129.2\\xa0mi)' '54.03\\xa0km (33.57\\xa0mi)'\n",
            " '518.5\\xa0km (322.2\\xa0mi)' '485.02\\xa0km (301.38\\xa0mi)'\n",
            " '237.74\\xa0km (147.72\\xa0mi)' '37.7\\xa0km (23.4\\xa0mi)'\n",
            " '112.7\\xa0km (70.0\\xa0mi)' '114.2\\xa0km (71.0\\xa0mi)'\n",
            " '617.05\\xa0km (383.42\\xa0mi)' '75.7\\xa0km (47.0\\xa0mi)'\n",
            " '516.2\\xa0km (320.8\\xa0mi)' '79.4\\xa0km (49.3\\xa0mi)'\n",
            " '170.95\\xa0km (106.22\\xa0mi)' '49.039\\xa0km (30.471\\xa0mi)'\n",
            " '209.0\\xa0km (129.9\\xa0mi)' '84.25\\xa0km (52.35\\xa0mi)'\n",
            " '118.5\\xa0km (73.6\\xa0mi)' '164.3\\xa0km (102.1\\xa0mi)'\n",
            " '25.9\\xa0km (16.1\\xa0mi)' '43.554\\xa0km (27.063\\xa0mi)'\n",
            " '128.3\\xa0km (79.7\\xa0mi)' '449.45\\xa0km (279.28\\xa0mi)'\n",
            " '128.2\\xa0km (79.7\\xa0mi)' '39.182\\xa0km (24.347\\xa0mi)'\n",
            " '185.36\\xa0km (115.18\\xa0mi)' '315.86\\xa0km (196.27\\xa0mi)'\n",
            " '795.5\\xa0km (494.3\\xa0mi)' '47.1\\xa0km (29.3\\xa0mi)'\n",
            " '115.9\\xa0km (72.0\\xa0mi)' '547.42\\xa0km (340.15\\xa0mi)'\n",
            " '76.5\\xa0km (47.5\\xa0mi)' '208.2\\xa0km (129.4\\xa0mi)'\n",
            " '23.647\\xa0km (14.694\\xa0mi)' '52.4\\xa0km (32.6\\xa0mi)'\n",
            " '288.25\\xa0km (179.11\\xa0mi)' '27.615\\xa0km (17.159\\xa0mi)'\n",
            " '53.507\\xa0km (33.248\\xa0mi)' '460.944\\xa0km (286.417\\xa0mi)'\n",
            " '114.8\\xa0km (71.3\\xa0mi)' '98.4\\xa0km (61.1\\xa0mi)'\n",
            " '278.5\\xa0km (173.1\\xa0mi)' '64.35\\xa0km (39.99\\xa0mi)'\n",
            " '232.5\\xa0km (144.5\\xa0mi)' '31.3\\xa0km (19.4\\xa0mi)'\n",
            " '65.4\\xa0km (40.6\\xa0mi)' '38.2\\xa0km (23.7\\xa0mi)'\n",
            " '31.0\\xa0km (19.3\\xa0mi)' '22.6\\xa0km (14.0\\xa0mi)'\n",
            " '93.1\\xa0km (57.8\\xa0mi)' '43\\xa0km (27\\xa0mi)' '45\\xa0km (28\\xa0mi)'\n",
            " '32.0\\xa0km (19.9\\xa0mi)' '22.7\\xa0km (14.1\\xa0mi)'\n",
            " '226.9\\xa0km (141.0\\xa0mi)' '22.4\\xa0km (13.9\\xa0mi)'\n",
            " '28.2\\xa0km (17.5\\xa0mi)' '28.6\\xa0km (17.8\\xa0mi)'\n",
            " '147.8\\xa0km (91.8\\xa0mi)' '105.8\\xa0km (65.7\\xa0mi)'\n",
            " '95\\xa0km (59\\xa0mi)' '38.2\\xa0km (23.7\\xa0mi)' '91.7\\xa0km (57.0\\xa0mi)'\n",
            " '38.2\\xa0km (23.7\\xa0mi)' '37.86\\xa0km (23.53\\xa0mi)'\n",
            " '68.6\\xa0km (42.6\\xa0mi)' '54\\xa0km (34\\xa0mi)'\n",
            " '348.12\\xa0km (216.31\\xa0mi)' '12.8\\xa0km (8.0\\xa0mi)'\n",
            " '69\\xa0km (43\\xa0mi)' '12.0\\xa0km (7.5\\xa0mi)' '8.98\\xa0km (5.58\\xa0mi)'\n",
            " '27.4\\xa0km (17.0\\xa0mi)' '46.96\\xa0km (29.18\\xa0mi)'\n",
            " '22.87\\xa0km (14.21\\xa0mi)' '46.4\\xa0km (28.8\\xa0mi)'\n",
            " '38.2\\xa0km (23.7\\xa0mi)' '29.7\\xa0km (18.5\\xa0mi)'\n",
            " '12\\xa0km (7.5\\xa0mi)' '15.7\\xa0km (9.8\\xa0mi)' '20.2\\xa0km (12.6\\xa0mi)'\n",
            " '37.5\\xa0km (23.3\\xa0mi)' '32.5\\xa0km (20.2\\xa0mi)'\n",
            " '6.5\\xa0km (4.0\\xa0mi)' '17.2\\xa0km (10.7\\xa0mi)'\n",
            " '168.2\\xa0km (104.5\\xa0mi)' '13.7\\xa0km (8.5\\xa0mi)'\n",
            " '8.8\\xa0km (5.5\\xa0mi)' '7.1\\xa0km (4.4\\xa0mi)'\n",
            " '102.5\\xa0km (63.7\\xa0mi)' '30.8\\xa0km (19.1\\xa0mi)'\n",
            " '60\\xa0km (37\\xa0mi)' '15.1\\xa0km (9.4\\xa0mi)' '31.4\\xa0km (19.5\\xa0mi)'\n",
            " '18.4\\xa0km (11.4\\xa0mi)' '38.1\\xa0km (23.7\\xa0mi)'\n",
            " '31.2\\xa0km (19.4\\xa0mi)' '93.3\\xa0km (58.0\\xa0mi)'\n",
            " '129.9\\xa0km (80.7\\xa0mi)' '48.0\\xa0km (29.8\\xa0mi)'\n",
            " '28.7\\xa0km (17.8\\xa0mi)' '109.0\\xa0km (67.7\\xa0mi)'\n",
            " '195.1\\xa0km (121.2\\xa0mi)' '12.2\\xa0km (7.6\\xa0mi)'\n",
            " '53.4\\xa0km (33.2\\xa0mi)' '4.1\\xa0km (2.5\\xa0mi)'\n",
            " '13.4\\xa0km (8.3\\xa0mi)' '22.5\\xa0km (14.0\\xa0mi)'\n",
            " '139.9\\xa0km (86.9\\xa0mi)' '82.9\\xa0km (51.5\\xa0mi)'\n",
            " '22.7\\xa0km (14.1\\xa0mi)' '20.1\\xa0km (12.5\\xa0mi)'\n",
            " '59.4\\xa0km (36.9\\xa0mi)' '345.3\\xa0km (214.6\\xa0mi)'\n",
            " '151.7\\xa0km (94.3\\xa0mi)' '33.4\\xa0km (20.8\\xa0mi)'\n",
            " '196.2\\xa0km (121.9\\xa0mi)' '46.5\\xa0km (28.9\\xa0mi)'\n",
            " '200.88\\xa0km (124.82\\xa0mi)' '40.2\\xa0km (25.0\\xa0mi)'\n",
            " '41.2\\xa0km (25.6\\xa0mi)' '103.1\\xa0km (64.1\\xa0mi)' '13 km (8.1 mi)'\n",
            " '85\\xa0km (53\\xa0mi)' '27.1\\xa0km (16.8\\xa0mi)' '39.3\\xa0km (24.4\\xa0mi)'\n",
            " '34.6\\xa0km (21.5\\xa0mi)' '37.2\\xa0km (23.1\\xa0mi)'\n",
            " '16.9\\xa0km (10.5\\xa0mi)' '41.3\\xa0km (25.7\\xa0mi)'\n",
            " '44.2\\xa0km (27.5\\xa0mi)' '76\\xa0km (47\\xa0mi)' '80.1\\xa0km (49.8\\xa0mi)'\n",
            " '16.8\\xa0km (10.4\\xa0mi)' '461.5\\xa0km (286.8\\xa0mi)'\n",
            " '21.82\\xa0km (13.56\\xa0mi)' '15.9\\xa0km (9.9\\xa0mi)'\n",
            " '124.8\\xa0km (77.5\\xa0mi)' '11.6\\xa0km (7.2\\xa0mi)'\n",
            " '12.7\\xa0km (7.9\\xa0mi)' '230.2\\xa0km (143.0\\xa0mi)'\n",
            " '128.3\\xa0km (79.7\\xa0mi)' '45.1\\xa0km (28.0\\xa0mi)'\n",
            " '293.9\\xa0km (182.6\\xa0mi)' '108\\xa0km (67\\xa0mi)'\n",
            " '5.9\\xa0km (3.7\\xa0mi)' '42.7\\xa0km (26.5\\xa0mi)'\n",
            " '146.2\\xa0km (90.8\\xa0mi)' '16.7\\xa0km (10.4\\xa0mi)'\n",
            " '53.1\\xa0km (33.0\\xa0mi)' '68.2\\xa0km (42.4\\xa0mi)' '71\\xa0km (44\\xa0mi)'\n",
            " '13.9\\xa0km (8.6\\xa0mi)' '67.4\\xa0km (41.9\\xa0mi)'\n",
            " '38.9\\xa0km (24.2\\xa0mi)' '199.2\\xa0km (123.8\\xa0mi)'\n",
            " '20\\xa0km (12\\xa0mi)' '7.8\\xa0km (4.8\\xa0mi)' '38.7\\xa0km (24.0\\xa0mi)'\n",
            " '67.7\\xa0km (42.1\\xa0mi)' '89.3\\xa0km (55.5\\xa0mi)'\n",
            " '10.4\\xa0km (6.5\\xa0mi)' '402\\xa0km (250\\xa0mi)' '34\\xa0km (21\\xa0mi)'\n",
            " '76.6\\xa0km (47.6\\xa0mi)' '24.9\\xa0km (15.5\\xa0mi)' '61\\xa0km (38\\xa0mi)'\n",
            " '165.4\\xa0km (102.8\\xa0mi)' '31\\xa0km (19\\xa0mi)'\n",
            " '28.0\\xa0km (17.4\\xa0mi)' '39.3\\xa0km (24.4\\xa0mi)'\n",
            " '399\\xa0km (248\\xa0mi)' '22.5\\xa0km (14.0\\xa0mi)'\n",
            " '22.2\\xa0km (13.8\\xa0mi)' '59.1\\xa0km (36.7\\xa0mi)'\n",
            " '22.9\\xa0km (14.2\\xa0mi)' '191.5\\xa0km (119.0\\xa0mi)'\n",
            " '17.2\\xa0km (10.7\\xa0mi)' '206\\xa0km (128\\xa0mi)'\n",
            " '59.1\\xa0km (36.7\\xa0mi)' '67.2\\xa0km (41.8\\xa0mi)'\n",
            " '13.1\\xa0km (8.1\\xa0mi)']\n",
            "[ 19  78  10  13  98  27   9  33  59  19  27  20  22  28  41  19  89  44\n",
            "  68  75  53 119 370  59 135  43 284 238  99  15  61  74 254  55 254  62\n",
            " 133  43  99  40  32 103  20  33  94 191  93  28 116 146 403  28  85 303\n",
            "  60 154  23  15 181  21  18 254  80  66 173  51 143  27  58  39  33  15\n",
            "  74  30  60  40  29 308  28  37  23 175  93  96  49  66  48  31  63  42\n",
            " 230  11  56  11   9  24  40  21  40  36  21  10  13  20  35  22   2  18\n",
            " 123  17  10   8 112  27  73  23  36  22  28  31  87 100  46  29  99 142\n",
            "   8  40   6  11  17 108  88  22  20  56 279  86  16 129  46 163  38  39\n",
            "  71   5 101  26  31  26  33  13  38  50  37  56  11 289  15  14  72  10\n",
            "   9 134 132  42 242 100  14  37 119  18  22  60  53  13  57  39 128  17\n",
            "   6  30  52  53  15 272  45  38  14  51 145  18  16  23 424  21  13  72\n",
            "  13  47  16  98  48  49  12]\n"
          ]
        },
        {
          "output_type": "display_data",
          "data": {
            "text/plain": [
              "<Figure size 640x480 with 1 Axes>"
            ],
            "image/png": "[encoded data removed]"
          },
          "metadata": {}
        }
      ]
    },
    {
      "cell_type": "markdown",
      "source": [
        "# 22 / june / 2023"
      ],
      "metadata": {
        "id": "MyTBzZ5ambl8"
      }
    },
    {
      "cell_type": "code",
      "source": [
        "import numpy as np\n",
        "import matplotlib.pyplot as plt\n",
        "\n",
        "x = np.array([0,6])\n",
        "y = np.array([0,250])\n",
        "\n",
        "#plt.plot(x,y)\n",
        "#plt.plot(x,y,'-.')\n",
        "plt.fill_between(x,y,color='red',alpha = 0.10)\n",
        "plt.show()"
      ],
      "metadata": {
        "colab": {
          "base_uri": "https://localhost:8080/",
          "height": 430
        },
        "id": "-9ke428qmzfK",
        "outputId": "c32ebed4-0efc-433a-bcda-374e63315ffb"
      },
      "execution_count": null,
      "outputs": [
        {
          "output_type": "display_data",
          "data": {
            "text/plain": [
              "<Figure size 640x480 with 1 Axes>"
            ],
            "image/png": "[encoded data removed]"
          },
          "metadata": {}
        }
      ]
    },
    {
      "cell_type": "markdown",
      "source": [
        "# 15/May/2023"
      ],
      "metadata": {
        "id": "fPHhWI3iiT-a"
      }
    },
    {
      "cell_type": "code",
      "source": [
        "import pandas as pd\n",
        "def fun(data):\n",
        "  return(data *10)\n",
        "df1 = pd.read_excel('/content/drive/MyDrive/ARRAY .xlsx')\n",
        "\n",
        "print(df1)\n",
        "\n",
        "# groupby in python\n",
        "\n",
        "a = df1.groupby('name')['marks'].count()==2\n",
        "b = df1.groupby('name')['marks'].head()\n",
        "print(a)\n",
        "print(b)\n",
        "\n",
        "\n"
      ],
      "metadata": {
        "colab": {
          "base_uri": "https://localhost:8080/"
        },
        "id": "q9EWOFkueWuN",
        "outputId": "831fdef7-77b9-42e6-9fa9-2d06f015ad2f"
      },
      "execution_count": null,
      "outputs": [
        {
          "output_type": "stream",
          "name": "stdout",
          "text": [
            "   name  roll no.  marks\n",
            "0     A         1     20\n",
            "1     B         2     30\n",
            "2     C         3     20\n",
            "3     D         4     40\n",
            "4     E         5     50\n",
            "5     F         6     60\n",
            "6     G         7     52\n",
            "7     H         8     80\n",
            "8     I         9     63\n",
            "9     J        10     26\n",
            "10    K        11     23\n",
            "11    L        12     28\n",
            "12    M        13     90\n",
            "name\n",
            "A    False\n",
            "B    False\n",
            "C    False\n",
            "D    False\n",
            "E    False\n",
            "F    False\n",
            "G    False\n",
            "H    False\n",
            "I    False\n",
            "J    False\n",
            "K    False\n",
            "L    False\n",
            "M    False\n",
            "Name: marks, dtype: bool\n",
            "0     20\n",
            "1     30\n",
            "2     20\n",
            "3     40\n",
            "4     50\n",
            "5     60\n",
            "6     52\n",
            "7     80\n",
            "8     63\n",
            "9     26\n",
            "10    23\n",
            "11    28\n",
            "12    90\n",
            "Name: marks, dtype: int64\n"
          ]
        }
      ]
    },
    {
      "cell_type": "code",
      "source": [
        "# aggrigation in python\n",
        "# dataframe.aggrigation() function is used to apply some aggrigation across one or more\n",
        "#sum : return the sum of the values for the request axis\n",
        "# min  : return the mini of the values for the requested axis\n",
        "# max : return the max of the values for the requested axid\n",
        "\n",
        "c = df1.aggregate(['sum','min','max'])\n",
        "print(c)"
      ],
      "metadata": {
        "colab": {
          "base_uri": "https://localhost:8080/"
        },
        "id": "GrLDfGyEkVlj",
        "outputId": "c95e35cb-af00-4591-8810-a9128fd85fca"
      },
      "execution_count": null,
      "outputs": [
        {
          "output_type": "stream",
          "name": "stdout",
          "text": [
            "              name  roll no.  marks\n",
            "sum  ABCDEFGHIJKLM        91    582\n",
            "min              A         1     20\n",
            "max              M        13     90\n"
          ]
        }
      ]
    },
    {
      "cell_type": "markdown",
      "source": [
        "## 20 / 06 / 2023"
      ],
      "metadata": {
        "id": "f10qopax70Bt"
      }
    },
    {
      "cell_type": "code",
      "source": [
        "\n",
        "import pandas as pd\n",
        "import numpy as np\n",
        "\n",
        "df1 = pd.read_excel('/content/drive/MyDrive/ARRAY .xlsx')\n",
        "print(df1)\n",
        "\n"
      ],
      "metadata": {
        "id": "u8SAfs_YwCte",
        "colab": {
          "base_uri": "https://localhost:8080/"
        },
        "outputId": "27cd27dd-012e-4e0f-fe51-9c828ac0a3a5"
      },
      "execution_count": null,
      "outputs": [
        {
          "output_type": "stream",
          "name": "stdout",
          "text": [
            "   name  roll no.  marks\n",
            "0     A         1     20\n",
            "1     B         2     30\n",
            "2     C         3     20\n",
            "3     D         4     40\n",
            "4     E         5     50\n",
            "5     F         6     60\n",
            "6     G         7     52\n",
            "7     H         8     80\n",
            "8     I         9     63\n",
            "9     J        10     26\n",
            "10    K        11     23\n",
            "11    L        12     28\n",
            "12    M        13     90\n",
            "   name  roll no.  marks name _upper\n",
            "0     A         1     20           A\n",
            "1     B         2     30           B\n",
            "2     C         3     20           C\n",
            "3     D         4     40           D\n",
            "4     E         5     50           E\n",
            "5     F         6     60           F\n",
            "6     G         7     52           G\n",
            "7     H         8     80           H\n",
            "8     I         9     63           I\n",
            "9     J        10     26           J\n",
            "10    K        11     23           K\n",
            "11    L        12     28           L\n",
            "12    M        13     90           M\n",
            "   name  roll no.  marks name _upper  marks_twice\n",
            "0     A         1     20           A           40\n",
            "1     B         2     30           B           60\n",
            "2     C         3     20           C           40\n",
            "3     D         4     40           D           80\n",
            "4     E         5     50           E          100\n",
            "5     F         6     60           F          120\n",
            "6     G         7     52           G          104\n",
            "7     H         8     80           H          160\n",
            "8     I         9     63           I          126\n",
            "9     J        10     26           J           52\n",
            "10    K        11     23           K           46\n",
            "11    L        12     28           L           56\n",
            "12    M        13     90           M          180\n"
          ]
        }
      ]
    },
    {
      "cell_type": "code",
      "source": [
        "# custom functions can be created for new colunm\n",
        "df1[\"name _upper\"] = df1['name'].map(lambda name : name.upper())\n",
        "print(df1)\n",
        "\n",
        "\n",
        "\n"
      ],
      "metadata": {
        "colab": {
          "base_uri": "https://localhost:8080/"
        },
        "id": "LpV0YU_AE3X1",
        "outputId": "4b5f5713-891d-4af1-a3d0-28b17c0da0c8"
      },
      "execution_count": null,
      "outputs": [
        {
          "output_type": "stream",
          "name": "stdout",
          "text": [
            "   name  roll no.  marks name _upper  marks_twice\n",
            "0     A         1     20           A           40\n",
            "1     B         2     30           B           60\n",
            "2     C         3     20           C           40\n",
            "3     D         4     40           D           80\n",
            "4     E         5     50           E          100\n",
            "5     F         6     60           F          120\n",
            "6     G         7     52           G          104\n",
            "7     H         8     80           H          160\n",
            "8     I         9     63           I          126\n",
            "9     J        10     26           J           52\n",
            "10    K        11     23           K           46\n",
            "11    L        12     28           L           56\n",
            "12    M        13     90           M          180\n"
          ]
        }
      ]
    },
    {
      "cell_type": "code",
      "source": [
        "df1['marks_twice']= df1['marks']*2\n",
        "print(df1)"
      ],
      "metadata": {
        "colab": {
          "base_uri": "https://localhost:8080/"
        },
        "id": "KvKaILLEE7k2",
        "outputId": "b0f0e4bf-35b1-4cbf-a79d-a3c4193a149d"
      },
      "execution_count": null,
      "outputs": [
        {
          "output_type": "stream",
          "name": "stdout",
          "text": [
            "   name  roll no.  marks name _upper  marks_twice\n",
            "0     A         1     20           A           40\n",
            "1     B         2     30           B           60\n",
            "2     C         3     20           C           40\n",
            "3     D         4     40           D           80\n",
            "4     E         5     50           E          100\n",
            "5     F         6     60           F          120\n",
            "6     G         7     52           G          104\n",
            "7     H         8     80           H          160\n",
            "8     I         9     63           I          126\n",
            "9     J        10     26           J           52\n",
            "10    K        11     23           K           46\n",
            "11    L        12     28           L           56\n",
            "12    M        13     90           M          180\n"
          ]
        }
      ]
    },
    {
      "cell_type": "code",
      "source": [
        "# convert the column names to upper case\n",
        "# df1.column = [col.upper() for col in df1.columns]\n",
        "# print(df1)"
      ],
      "metadata": {
        "id": "PZoqE6FPE9nd"
      },
      "execution_count": null,
      "outputs": []
    },
    {
      "cell_type": "code",
      "source": [
        "# get column names\n",
        "print(df1.columns.values)\n"
      ],
      "metadata": {
        "colab": {
          "base_uri": "https://localhost:8080/"
        },
        "id": "keQS04W3FhKI",
        "outputId": "58c33e77-020b-4a02-e571-64d9c363d1fa"
      },
      "execution_count": null,
      "outputs": [
        {
          "output_type": "stream",
          "name": "stdout",
          "text": [
            "['name' 'roll no.' 'marks' 'name _upper' 'marks_twice']\n"
          ]
        }
      ]
    },
    {
      "cell_type": "code",
      "source": [
        "states = pd.Series(['ab','bc','cd'])\n",
        "\n",
        "df1['name'] = states\n",
        "print(df1)\n"
      ],
      "metadata": {
        "colab": {
          "base_uri": "https://localhost:8080/"
        },
        "id": "lHedtv6fGVDH",
        "outputId": "bca8cb81-51e8-4666-ba4d-c8730e732daa"
      },
      "execution_count": null,
      "outputs": [
        {
          "output_type": "stream",
          "name": "stdout",
          "text": [
            "   name  roll no.  marks name _upper  marks_twice\n",
            "0    ab         1     20           A           40\n",
            "1    bc         2     30           B           60\n",
            "2    cd         3     20           C           40\n",
            "3   NaN         4     40           D           80\n",
            "4   NaN         5     50           E          100\n",
            "5   NaN         6     60           F          120\n",
            "6   NaN         7     52           G          104\n",
            "7   NaN         8     80           H          160\n",
            "8   NaN         9     63           I          126\n",
            "9   NaN        10     26           J           52\n",
            "10  NaN        11     23           K           46\n",
            "11  NaN        12     28           L           56\n",
            "12  NaN        13     90           M          180\n"
          ]
        }
      ]
    },
    {
      "cell_type": "code",
      "source": [
        "import pandas as pd\n",
        "import numpy as np\n",
        "\n",
        "# isna indicates missing values\n",
        "# dropna drops missing values\n",
        "\n",
        "df1 = pd.read_excel('/content/drive/MyDrive/ARRAY .xlsx')\n",
        "print(df1)\n"
      ],
      "metadata": {
        "colab": {
          "base_uri": "https://localhost:8080/"
        },
        "id": "5K3nkgy3GybV",
        "outputId": "9dc8162d-8329-43d1-be2d-eca8bfd8e8ba"
      },
      "execution_count": null,
      "outputs": [
        {
          "output_type": "stream",
          "name": "stdout",
          "text": [
            "   name  roll no.  marks\n",
            "0     A         1     20\n",
            "1     B         2     30\n",
            "2     C         3     20\n",
            "3     D         4     40\n",
            "4     E         5     50\n",
            "5     F         6     60\n",
            "6     G         7     52\n",
            "7     H         8     80\n",
            "8     I         9     63\n",
            "9     J        10     26\n",
            "10    K        11     23\n",
            "11    L        12     28\n",
            "12    M        13     90\n",
            "   name  roll no.  marks\n",
            "0     A         1     20\n",
            "1     B         2     30\n",
            "2     C         3     20\n",
            "3     D         4     40\n",
            "4     E         5     50\n",
            "5     F         6     60\n",
            "6     G         7     52\n",
            "7     H         8     80\n",
            "8     I         9     63\n",
            "9     J        10     26\n",
            "10    K        11     23\n",
            "11    L        12     28\n",
            "12    M        13     90\n"
          ]
        }
      ]
    },
    {
      "cell_type": "code",
      "source": [
        "# drop the row where at least one elements is missing (if any)\n",
        "a = df1.dropna()\n",
        "print(a)"
      ],
      "metadata": {
        "id": "N96aG36_HtBQ"
      },
      "execution_count": null,
      "outputs": []
    },
    {
      "cell_type": "code",
      "source": [
        "# drop the columns where at least one element is missing\n",
        "b = df1.dropna(axis='columns')\n",
        "print(b)"
      ],
      "metadata": {
        "id": "FG3VyIC6HuTl"
      },
      "execution_count": null,
      "outputs": []
    },
    {
      "cell_type": "code",
      "source": [
        "# drop the rows where all elements are missing\n",
        "c = df1.dropna(how='all')\n",
        "print(c)"
      ],
      "metadata": {
        "id": "8gccCYUcIAUS"
      },
      "execution_count": null,
      "outputs": []
    },
    {
      "cell_type": "code",
      "source": [
        "data = df1.values.tolist()\n",
        "print(data)\n",
        "\n",
        "# pandas dataframe.isna() function is used to detect missing values\n",
        "\n",
        "a1 = df1[df1.isna().any(axis=1)]\n",
        "print(a1)"
      ],
      "metadata": {
        "colab": {
          "base_uri": "https://localhost:8080/"
        },
        "id": "Oq35NA2cIXr-",
        "outputId": "faa91cbd-71a5-4c57-f043-5fd9b4b56108"
      },
      "execution_count": null,
      "outputs": [
        {
          "output_type": "stream",
          "name": "stdout",
          "text": [
            "[['A', 1, 20], ['B', 2, 30], ['C', 3, 20], ['D', 4, 40], ['E', 5, 50], ['F', 6, 60], ['G', 7, 52], ['H', 8, 80], ['I', 9, 63], ['J', 10, 26], ['K', 11, 23], ['L', 12, 28], ['M', 13, 90]]\n",
            "Empty DataFrame\n",
            "Columns: [name, roll no., marks]\n",
            "Index: []\n"
          ]
        }
      ]
    },
    {
      "cell_type": "markdown",
      "source": [
        "## REGRATION  27/06/23\n"
      ],
      "metadata": {
        "id": "BqJ0LCNW-iud"
      }
    },
    {
      "cell_type": "code",
      "source": [
        "import numpy as np\n",
        "import pandas as pd\n",
        "import matplotlib.pyplot as plt\n",
        "\n",
        "df1 = pd.read_csv('/content/ARRAY regration.csv')\n",
        "a = df1.head()\n",
        "\n",
        "# data processing\n",
        "x = df1.iloc[:,:-1]\n",
        "y = df1.iloc[:,1]\n",
        "\n",
        "#splitting datasets\n",
        "\n",
        "from sklearn.model_selection import train_test_split\n",
        "x_train,  x_test, y_train, y_test = train_test_split(x,y,test_size = 1/3,random_state=0)\n",
        "\n",
        "from sklearn.linear_model import LinearRegression\n",
        "regressor = LinearRegression()\n",
        "regressor.fit(x_train,y_train)\n",
        "y_pred = regressor.predict(x_test)\n",
        "print(y_pred)\n",
        "print(y_test)\n",
        "\n",
        "plt.scatter(x_train, y_train, color='red') # plotting the observation line\n",
        "plt.plot(x_train, regressor.predict(x_train), color='blue') #plotting the regration line\n",
        "plt.title(\"roll no. vs marks \") #stating the title of thr graph\n",
        "plt.xlabel(\"roll no.\")\n",
        "plt.ylabel(\"marks\")\n",
        "plt.show()"
      ],
      "metadata": {
        "colab": {
          "base_uri": "https://localhost:8080/",
          "height": 646
        },
        "id": "IwBVq4Gc-tww",
        "outputId": "16986610-cddd-48b4-e0cc-430025ff049e"
      },
      "execution_count": null,
      "outputs": [
        {
          "output_type": "stream",
          "name": "stdout",
          "text": [
            "[55.35423128 37.71776695 56.39167036 44.9798405  47.05471865 54.3167922\n",
            " 42.90496234]\n",
            "18    55\n",
            "1     30\n",
            "19    64\n",
            "8     63\n",
            "10    23\n",
            "17    65\n",
            "6     52\n",
            "Name: Marks, dtype: int64\n"
          ]
        },
        {
          "output_type": "display_data",
          "data": {
            "text/plain": [
              "<Figure size 640x480 with 1 Axes>"
            ],
            "image/png": "[encoded data removed]"
          },
          "metadata": {}
        }
      ]
    },
    {
      "cell_type": "markdown",
      "source": [
        "## **28/06/2023**"
      ],
      "metadata": {
        "id": "xoafHd1mcXLW"
      }
    },
    {
      "cell_type": "code",
      "source": [
        "import csv\n",
        "import matplotlib.pyplot as plt\n",
        "with open('/content/drive/MyDrive/1. salary csv 2.csv', 'r') as csvfile:\n",
        "    reader = csv.reader(csvfile)\n",
        "    data = list(reader)\n",
        "def fun(i,j):\n",
        "  for row in data:\n",
        "    print(row)\n",
        "i = 0\n",
        "while i < len(data):\n",
        "    print(data[i])\n",
        "    i += 1\n",
        "groups = []\n",
        "for i in range(10):\n",
        "    group = []\n",
        "    for j in range(len(data)):\n",
        "        if i == j%5:\n",
        "            group.append(data[j])\n",
        "    groups.append(group)\n",
        "for group in groups:\n",
        "    print(group)\n",
        "for i in range(10):\n",
        "    plt.plot([x[0] for x in groups[i]], [x[1] for x in groups[i]])\n",
        "    plt.title(\"Group {i}\")\n",
        "    plt.show()\n",
        "fun(i,j)"
      ],
      "metadata": {
        "id": "uMvYxQVOHMHx",
        "colab": {
          "base_uri": "https://localhost:8080/",
          "height": 1000
        },
        "outputId": "49780594-7eb9-411d-d144-766e284d9512"
      },
      "execution_count": null,
      "outputs": [
        {
          "output_type": "stream",
          "name": "stdout",
          "text": [
            "['Sr no.', 'Emp Name', 'Emp id', 'Salary']\n",
            "['1', 'Ganesh ', '1001', '25000']\n",
            "['2', 'Kartik', '1002', '40000']\n",
            "['3', 'Veera', '1003', '80000']\n",
            "['4', 'Sanskruti', '1004', '60000']\n",
            "['5', 'Archana', '1005', '50000']\n",
            "['6', 'Aradhana', '1006', '30000']\n",
            "['7', 'Pratham', '1007', '15000']\n",
            "['8', 'Sayali', '1008', '55000']\n",
            "['9', 'Smruti', '1009', '80000']\n",
            "['10', 'Vijay', '1010', '100000']\n",
            "[['Sr no.', 'Emp Name', 'Emp id', 'Salary'], ['5', 'Archana', '1005', '50000'], ['10', 'Vijay', '1010', '100000']]\n",
            "[['1', 'Ganesh ', '1001', '25000'], ['6', 'Aradhana', '1006', '30000']]\n",
            "[['2', 'Kartik', '1002', '40000'], ['7', 'Pratham', '1007', '15000']]\n",
            "[['3', 'Veera', '1003', '80000'], ['8', 'Sayali', '1008', '55000']]\n",
            "[['4', 'Sanskruti', '1004', '60000'], ['9', 'Smruti', '1009', '80000']]\n",
            "[]\n",
            "[]\n",
            "[]\n",
            "[]\n",
            "[]\n"
          ]
        },
        {
          "output_type": "display_data",
          "data": {
            "text/plain": [
              "<Figure size 640x480 with 1 Axes>"
            ],
            "image/png": "[encoded data removed]"
          },
          "metadata": {}
        },
        {
          "output_type": "display_data",
          "data": {
            "text/plain": [
              "<Figure size 640x480 with 1 Axes>"
            ],
            "image/png": "[encoded data removed]"
          },
          "metadata": {}
        },
        {
          "output_type": "display_data",
          "data": {
            "text/plain": [
              "<Figure size 640x480 with 1 Axes>"
            ],
            "image/png": "[encoded data removed]"
          },
          "metadata": {}
        },
        {
          "output_type": "display_data",
          "data": {
            "text/plain": [
              "<Figure size 640x480 with 1 Axes>"
            ],
            "image/png": "[encoded data removed]"
          },
          "metadata": {}
        },
        {
          "output_type": "display_data",
          "data": {
            "text/plain": [
              "<Figure size 640x480 with 1 Axes>"
            ],
            "image/png": "[encoded data removed]"
          },
          "metadata": {}
        },
        {
          "output_type": "display_data",
          "data": {
            "text/plain": [
              "<Figure size 640x480 with 1 Axes>"
            ],
            "image/png": "[encoded data removed]"
          },
          "metadata": {}
        },
        {
          "output_type": "display_data",
          "data": {
            "text/plain": [
              "<Figure size 640x480 with 1 Axes>"
            ],
            "image/png": "[encoded data removed]"
          },
          "metadata": {}
        },
        {
          "output_type": "display_data",
          "data": {
            "text/plain": [
              "<Figure size 640x480 with 1 Axes>"
            ],
            "image/png": "[encoded data removed]"
          },
          "metadata": {}
        },
        {
          "output_type": "display_data",
          "data": {
            "text/plain": [
              "<Figure size 640x480 with 1 Axes>"
            ],
            "image/png": "[encoded data removed]"
          },
          "metadata": {}
        },
        {
          "output_type": "display_data",
          "data": {
            "text/plain": [
              "<Figure size 640x480 with 1 Axes>"
            ],
            "image/png": "[encoded data removed]"
          },
          "metadata": {}
        },
        {
          "output_type": "stream",
          "name": "stdout",
          "text": [
            "['Sr no.', 'Emp Name', 'Emp id', 'Salary']\n",
            "['1', 'Ganesh ', '1001', '25000']\n",
            "['2', 'Kartik', '1002', '40000']\n",
            "['3', 'Veera', '1003', '80000']\n",
            "['4', 'Sanskruti', '1004', '60000']\n",
            "['5', 'Archana', '1005', '50000']\n",
            "['6', 'Aradhana', '1006', '30000']\n",
            "['7', 'Pratham', '1007', '15000']\n",
            "['8', 'Sayali', '1008', '55000']\n",
            "['9', 'Smruti', '1009', '80000']\n",
            "['10', 'Vijay', '1010', '100000']\n"
          ]
        }
      ]
    },
    {
      "cell_type": "markdown",
      "source": [
        "# KNN\n"
      ],
      "metadata": {
        "id": "YaO7CIGKAQ_N"
      }
    },
    {
      "cell_type": "code",
      "source": [
        "# KNN is a parametric model, where LR is a parametric moddel\n",
        "# KNN  is comparatively slower than logistic regration\n",
        "# KNN supports non-linear solutions where LR supports only linear solution\n",
        "# the zip() function in python is commonly used to combine two or more iterable, such as list , tuple , or strings,\n",
        "# into a signle iterable where elements from corresponding position are paired together\n",
        "\n",
        "import matplotlib.pyplot as plt\n",
        "x = [4,5,10,4,3,11,14,8,10,12]\n",
        "y = [21,19,24,17,16,25,24,22,21,21]\n",
        "classes = [0,0,1,0,0,1,1,0,1,1]\n",
        "plt.scatter(x,y,c=classes)\n",
        "plt.show()\n",
        "\n",
        "from sklearn.neighbors import KNeighborsClassifier\n",
        "data = list(zip(x,y))\n",
        "knn = KNeighborsClassifier(n_neighbors = 1)\n",
        "knn.fit(data, classes)\n",
        "new_x = 8\n",
        "new_y = 23\n",
        "new_point = [(new_x,new_y)]\n",
        "prediction = knn.predict(new_point)\n",
        "plt.scatter(x + [new_x], y + [new_y], c = classes + [prediction[0]])\n",
        "plt.text(x=new_x-1.7,y=new_y-0.7,s=f\"new point , class: {prediction[0]}\")\n",
        "plt.show()"
      ],
      "metadata": {
        "colab": {
          "base_uri": "https://localhost:8080/",
          "height": 843
        },
        "id": "xOgEKXWHcV8G",
        "outputId": "2d916e6f-d777-4282-ac5a-7e6f067d774b"
      },
      "execution_count": null,
      "outputs": [
        {
          "output_type": "display_data",
          "data": {
            "text/plain": [
              "<Figure size 640x480 with 1 Axes>"
            ],
            "image/png": "[encoded data removed]"
          },
          "metadata": {}
        },
        {
          "output_type": "display_data",
          "data": {
            "text/plain": [
              "<Figure size 640x480 with 1 Axes>"
            ],
            "image/png": "[encoded data removed]"
          },
          "metadata": {}
        }
      ]
    },
    {
      "cell_type": "markdown",
      "source": [
        "# KMean"
      ],
      "metadata": {
        "id": "tQi4wQk8KTi7"
      }
    },
    {
      "cell_type": "code",
      "source": [
        "import matplotlib.pyplot as plt\n",
        "from sklearn.cluster import KMeans\n",
        "x = [4, 5, 10, 4, 3, 11, 14, 6, 10, 12]\n",
        "y= [21, 19, 24, 17, 16, 25, 24, 22, 21, 21]\n",
        "plt.scatter(x, y)\n",
        "plt.show()\n",
        "data = list(zip(x, y))\n",
        "inertia = []\n",
        "for i in range(1,11):\n",
        "    kmeans = KMeans(n_clusters=i)\n",
        "    kmeans.fit(data)\n",
        "    inertia.append(kmeans.inertia_)\n",
        "plt.plot(range(1,11), inertia, marker='o')\n",
        "plt.xlabel('Number of clusters')\n",
        "plt.ylabel('Inertia')\n",
        "plt.show()\n",
        "kmeans = KMeans(n_clusters=5)\n",
        "kmeans.fit(data)\n",
        "plt.scatter (x, y, c=kmeans.labels_)\n",
        "plt.show()"
      ],
      "metadata": {
        "colab": {
          "base_uri": "https://localhost:8080/",
          "height": 1000
        },
        "id": "emAhuPzSFiTY",
        "outputId": "bdb11a6c-4c43-4ab1-dbe6-3e641430c312"
      },
      "execution_count": null,
      "outputs": [
        {
          "output_type": "display_data",
          "data": {
            "text/plain": [
              "<Figure size 640x480 with 1 Axes>"
            ],
            "image/png": "[encoded data removed]"
          },
          "metadata": {}
        },
        {
          "output_type": "stream",
          "name": "stderr",
          "text": [
            "/usr/local/lib/python3.10/dist-packages/sklearn/cluster/_kmeans.py:870: FutureWarning: The default value of `n_init` will change from 10 to 'auto' in 1.4. Set the value of `n_init` explicitly to suppress the warning\n",
            "  warnings.warn(\n",
            "/usr/local/lib/python3.10/dist-packages/sklearn/cluster/_kmeans.py:870: FutureWarning: The default value of `n_init` will change from 10 to 'auto' in 1.4. Set the value of `n_init` explicitly to suppress the warning\n",
            "  warnings.warn(\n",
            "/usr/local/lib/python3.10/dist-packages/sklearn/cluster/_kmeans.py:870: FutureWarning: The default value of `n_init` will change from 10 to 'auto' in 1.4. Set the value of `n_init` explicitly to suppress the warning\n",
            "  warnings.warn(\n",
            "/usr/local/lib/python3.10/dist-packages/sklearn/cluster/_kmeans.py:870: FutureWarning: The default value of `n_init` will change from 10 to 'auto' in 1.4. Set the value of `n_init` explicitly to suppress the warning\n",
            "  warnings.warn(\n",
            "/usr/local/lib/python3.10/dist-packages/sklearn/cluster/_kmeans.py:870: FutureWarning: The default value of `n_init` will change from 10 to 'auto' in 1.4. Set the value of `n_init` explicitly to suppress the warning\n",
            "  warnings.warn(\n",
            "/usr/local/lib/python3.10/dist-packages/sklearn/cluster/_kmeans.py:870: FutureWarning: The default value of `n_init` will change from 10 to 'auto' in 1.4. Set the value of `n_init` explicitly to suppress the warning\n",
            "  warnings.warn(\n",
            "/usr/local/lib/python3.10/dist-packages/sklearn/cluster/_kmeans.py:870: FutureWarning: The default value of `n_init` will change from 10 to 'auto' in 1.4. Set the value of `n_init` explicitly to suppress the warning\n",
            "  warnings.warn(\n",
            "/usr/local/lib/python3.10/dist-packages/sklearn/cluster/_kmeans.py:870: FutureWarning: The default value of `n_init` will change from 10 to 'auto' in 1.4. Set the value of `n_init` explicitly to suppress the warning\n",
            "  warnings.warn(\n",
            "/usr/local/lib/python3.10/dist-packages/sklearn/cluster/_kmeans.py:870: FutureWarning: The default value of `n_init` will change from 10 to 'auto' in 1.4. Set the value of `n_init` explicitly to suppress the warning\n",
            "  warnings.warn(\n",
            "/usr/local/lib/python3.10/dist-packages/sklearn/cluster/_kmeans.py:870: FutureWarning: The default value of `n_init` will change from 10 to 'auto' in 1.4. Set the value of `n_init` explicitly to suppress the warning\n",
            "  warnings.warn(\n"
          ]
        },
        {
          "output_type": "display_data",
          "data": {
            "text/plain": [
              "<Figure size 640x480 with 1 Axes>"
            ],
            "image/png": "[encoded data removed]"
          },
          "metadata": {}
        },
        {
          "output_type": "stream",
          "name": "stderr",
          "text": [
            "/usr/local/lib/python3.10/dist-packages/sklearn/cluster/_kmeans.py:870: FutureWarning: The default value of `n_init` will change from 10 to 'auto' in 1.4. Set the value of `n_init` explicitly to suppress the warning\n",
            "  warnings.warn(\n"
          ]
        },
        {
          "output_type": "display_data",
          "data": {
            "text/plain": [
              "<Figure size 640x480 with 1 Axes>"
            ],
            "image/png": "[encoded data removed]"
          },
          "metadata": {}
        }
      ]
    }
  ]
}